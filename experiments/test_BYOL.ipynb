{
 "cells": [
  {
   "cell_type": "code",
   "execution_count": 1,
   "id": "792fbb65",
   "metadata": {},
   "outputs": [],
   "source": [
    "import sys\n",
    "import os\n",
    "\n",
    "project_root = os.path.abspath(os.path.join(os.getcwd(), \"..\"))\n",
    "sys.path.append(project_root)"
   ]
  },
  {
   "cell_type": "code",
   "execution_count": 2,
   "id": "bf1e82cf",
   "metadata": {},
   "outputs": [
    {
     "name": "stderr",
     "output_type": "stream",
     "text": [
      "d:\\studia\\priv\\Inpainting\\venv\\lib\\site-packages\\tqdm\\auto.py:21: TqdmWarning: IProgress not found. Please update jupyter and ipywidgets. See https://ipywidgets.readthedocs.io/en/stable/user_install.html\n",
      "  from .autonotebook import tqdm as notebook_tqdm\n"
     ]
    }
   ],
   "source": [
    "from src.models.byol.BYOL import BYOL\n",
    "from src.scripts.etl_process.ETLProcessor import ETLProcessor\n",
    "import torch"
   ]
  },
  {
   "cell_type": "code",
   "execution_count": 3,
   "id": "73027b29",
   "metadata": {},
   "outputs": [],
   "source": [
    "input_dim = 3\n",
    "hidden_dim = 128\n",
    "residual_hiddens = 64\n",
    "num_residual_layers = 2\n",
    "mlp_hidden_dim = 256\n",
    "device = \"cuda\" if torch.cuda.is_available() else \"cpu\""
   ]
  },
  {
   "cell_type": "code",
   "execution_count": 4,
   "id": "662c0dbe",
   "metadata": {},
   "outputs": [],
   "source": [
    "byol = BYOL(\n",
    "    input_dim=input_dim,\n",
    "    hidden_dim=hidden_dim,\n",
    "    num_residual_layers=num_residual_layers,\n",
    "    residual_hiddens=residual_hiddens,\n",
    "    device=device,\n",
    ")"
   ]
  },
  {
   "cell_type": "code",
   "execution_count": 5,
   "id": "3dca1e74",
   "metadata": {},
   "outputs": [
    {
     "data": {
      "text/plain": [
       "BYOL(\n",
       "  (online_encoder): Encoder(\n",
       "    (_conv_1): Conv2d(3, 64, kernel_size=(4, 4), stride=(2, 2), padding=(1, 1))\n",
       "    (_conv_2): Conv2d(64, 128, kernel_size=(4, 4), stride=(2, 2), padding=(1, 1))\n",
       "    (_conv_3): Conv2d(128, 128, kernel_size=(3, 3), stride=(1, 1), padding=(1, 1))\n",
       "    (_residual_stack): ResidualStack(\n",
       "      (_layers): ModuleList(\n",
       "        (0-1): 2 x ResidualBlock(\n",
       "          (_block): Sequential(\n",
       "            (0): ReLU(inplace=True)\n",
       "            (1): Conv2d(128, 64, kernel_size=(3, 3), stride=(1, 1), padding=(1, 1), bias=False)\n",
       "            (2): ReLU(inplace=True)\n",
       "            (3): Conv2d(64, 128, kernel_size=(1, 1), stride=(1, 1), bias=False)\n",
       "          )\n",
       "        )\n",
       "      )\n",
       "    )\n",
       "  )\n",
       "  (online_projector): MLP(\n",
       "    (net): Sequential(\n",
       "      (0): Linear(in_features=32768, out_features=512, bias=True)\n",
       "      (1): ReLU(inplace=True)\n",
       "      (2): BatchNorm1d(512, eps=1e-05, momentum=0.1, affine=True, track_running_stats=True)\n",
       "      (3): Linear(in_features=512, out_features=512, bias=True)\n",
       "      (4): BatchNorm1d(512, eps=1e-05, momentum=0.1, affine=True, track_running_stats=True)\n",
       "      (5): ReLU(inplace=True)\n",
       "    )\n",
       "  )\n",
       "  (online_predictor): MLP(\n",
       "    (net): Sequential(\n",
       "      (0): Linear(in_features=512, out_features=512, bias=True)\n",
       "      (1): ReLU(inplace=True)\n",
       "      (2): BatchNorm1d(512, eps=1e-05, momentum=0.1, affine=True, track_running_stats=True)\n",
       "      (3): Linear(in_features=512, out_features=512, bias=True)\n",
       "    )\n",
       "  )\n",
       "  (target_encoder): Encoder(\n",
       "    (_conv_1): Conv2d(3, 64, kernel_size=(4, 4), stride=(2, 2), padding=(1, 1))\n",
       "    (_conv_2): Conv2d(64, 128, kernel_size=(4, 4), stride=(2, 2), padding=(1, 1))\n",
       "    (_conv_3): Conv2d(128, 128, kernel_size=(3, 3), stride=(1, 1), padding=(1, 1))\n",
       "    (_residual_stack): ResidualStack(\n",
       "      (_layers): ModuleList(\n",
       "        (0-1): 2 x ResidualBlock(\n",
       "          (_block): Sequential(\n",
       "            (0): ReLU(inplace=True)\n",
       "            (1): Conv2d(128, 64, kernel_size=(3, 3), stride=(1, 1), padding=(1, 1), bias=False)\n",
       "            (2): ReLU(inplace=True)\n",
       "            (3): Conv2d(64, 128, kernel_size=(1, 1), stride=(1, 1), bias=False)\n",
       "          )\n",
       "        )\n",
       "      )\n",
       "    )\n",
       "  )\n",
       "  (target_projector): MLP(\n",
       "    (net): Sequential(\n",
       "      (0): Linear(in_features=32768, out_features=512, bias=True)\n",
       "      (1): ReLU(inplace=True)\n",
       "      (2): BatchNorm1d(512, eps=1e-05, momentum=0.1, affine=True, track_running_stats=True)\n",
       "      (3): Linear(in_features=512, out_features=512, bias=True)\n",
       "      (4): BatchNorm1d(512, eps=1e-05, momentum=0.1, affine=True, track_running_stats=True)\n",
       "      (5): ReLU(inplace=True)\n",
       "    )\n",
       "  )\n",
       ")"
      ]
     },
     "execution_count": 5,
     "metadata": {},
     "output_type": "execute_result"
    }
   ],
   "source": [
    "byol"
   ]
  },
  {
   "cell_type": "code",
   "execution_count": 6,
   "id": "8a76a3b4",
   "metadata": {},
   "outputs": [
    {
     "name": "stdout",
     "output_type": "stream",
     "text": [
      "[INFO] Dataset 'mahmudulhaqueshawon/cat-image' already exists at data/raw_data, skipping copy.\n"
     ]
    }
   ],
   "source": [
    "etl = ETLProcessor(\n",
    "    kaggle_dataset=\"mahmudulhaqueshawon/cat-image\",\n",
    "    raw_dir=\"data/raw_data\",\n",
    "    split_dir=\"data/data_splits\",\n",
    ")\n",
    "train_loader, val_loader, test_loader = etl.process()"
   ]
  },
  {
   "cell_type": "code",
   "execution_count": 7,
   "id": "fd0018f8",
   "metadata": {},
   "outputs": [],
   "source": [
    "from tqdm import tqdm\n",
    "import torch\n",
    "import torch.optim as optim\n",
    "\n",
    "\n",
    "def fit_byol(\n",
    "    model: BYOL,\n",
    "    optimiser: optim.Optimizer,\n",
    "    dataloader: torch.utils.data.DataLoader,\n",
    "    epochs: int,\n",
    "    device: str = \"cuda\",\n",
    "    print_metrics: bool = True,\n",
    "):\n",
    "    model.to(device)\n",
    "\n",
    "    for epoch in range(epochs):\n",
    "        model.train()\n",
    "        epoch_loss = 0.0\n",
    "        num_batches = 0\n",
    "\n",
    "        for x_batch, _ in tqdm(dataloader, desc=f\"Epoch {epoch}\"):\n",
    "            x_batch = x_batch.to(device)\n",
    "\n",
    "            q, z = model(x_batch)\n",
    "\n",
    "            loss = model.byol_loss(q, z)\n",
    "\n",
    "            optimiser.zero_grad()\n",
    "            loss.backward()\n",
    "            optimiser.step()\n",
    "\n",
    "            model.update_target_network()\n",
    "\n",
    "            epoch_loss += loss.item()\n",
    "            num_batches += 1\n",
    "\n",
    "        avg_loss = epoch_loss / num_batches\n",
    "\n",
    "        if print_metrics:\n",
    "            print(f\"Epoch {epoch}: BYOL training loss = {avg_loss:.8f}\")"
   ]
  },
  {
   "cell_type": "code",
   "execution_count": 8,
   "id": "552cc1aa",
   "metadata": {},
   "outputs": [
    {
     "name": "stderr",
     "output_type": "stream",
     "text": [
      "Epoch 0:   0%|          | 0/87 [00:00<?, ?it/s]"
     ]
    },
    {
     "name": "stdout",
     "output_type": "stream",
     "text": [
      "v min/max: -1.000/1.000, v_prim min/max: -1.000/0.495\n",
      "q1 0.03719356283545494 0.04875040054321289\n",
      "q2 0.03850143775343895 0.05001530796289444\n",
      "z1 0.03850143775343895 0.05001530796289444\n",
      "z2 0.03719356283545494 0.04875040054321289\n"
     ]
    },
    {
     "name": "stderr",
     "output_type": "stream",
     "text": [
      "Epoch 0:   1%|          | 1/87 [00:14<20:19, 14.19s/it]"
     ]
    },
    {
     "name": "stdout",
     "output_type": "stream",
     "text": [
      "v min/max: -1.000/0.615, v_prim min/max: -1.000/1.000\n",
      "q1 0.03611569106578827 0.04754255339503288\n",
      "q2 0.03935832530260086 0.05098680779337883\n",
      "z1 0.0392623171210289 0.051030777394771576\n",
      "z2 0.036034002900123596 0.04757463186979294\n"
     ]
    },
    {
     "name": "stderr",
     "output_type": "stream",
     "text": [
      "Epoch 0:   2%|▏         | 2/87 [00:15<09:40,  6.83s/it]"
     ]
    },
    {
     "name": "stdout",
     "output_type": "stream",
     "text": [
      "v min/max: -1.000/0.906, v_prim min/max: -1.000/0.322\n",
      "q1 0.03909178078174591 0.050881411880254745\n",
      "q2 0.03774955868721008 0.04955269768834114\n",
      "z1 0.037538181990385056 0.049284402281045914\n",
      "z2 0.03860917314887047 0.05036448687314987\n"
     ]
    },
    {
     "name": "stderr",
     "output_type": "stream",
     "text": [
      "Epoch 0:   3%|▎         | 3/87 [00:17<06:18,  4.50s/it]"
     ]
    },
    {
     "name": "stdout",
     "output_type": "stream",
     "text": [
      "v min/max: -1.000/0.531, v_prim min/max: -1.000/0.971\n",
      "q1 0.03942371532320976 0.051231302320957184\n",
      "q2 0.040238332003355026 0.05176355317234993\n",
      "z1 0.039277657866477966 0.05074022337794304\n",
      "z2 0.039367396384477615 0.05117367208003998\n"
     ]
    },
    {
     "name": "stderr",
     "output_type": "stream",
     "text": [
      "Epoch 0:   5%|▍         | 4/87 [00:19<04:41,  3.39s/it]"
     ]
    },
    {
     "name": "stdout",
     "output_type": "stream",
     "text": [
      "v min/max: -1.000/0.778, v_prim min/max: -1.000/0.326\n",
      "q1 0.0384506992995739 0.049572352319955826\n",
      "q2 0.037830598652362823 0.04888088256120682\n",
      "z1 0.03827560320496559 0.04959005117416382\n",
      "z2 0.03858545422554016 0.05004303157329559\n"
     ]
    },
    {
     "name": "stderr",
     "output_type": "stream",
     "text": [
      "Epoch 0:   6%|▌         | 5/87 [00:20<03:47,  2.77s/it]"
     ]
    },
    {
     "name": "stdout",
     "output_type": "stream",
     "text": [
      "v min/max: -1.000/0.299, v_prim min/max: -1.000/1.000\n",
      "q1 0.03661208599805832 0.04789154231548309\n",
      "q2 0.04152820631861687 0.05320269986987114\n",
      "z1 0.040079932659864426 0.05176132544875145\n",
      "z2 0.03792992979288101 0.04971909895539284\n"
     ]
    },
    {
     "name": "stderr",
     "output_type": "stream",
     "text": [
      "Epoch 0:   7%|▋         | 6/87 [00:22<03:17,  2.44s/it]"
     ]
    },
    {
     "name": "stdout",
     "output_type": "stream",
     "text": [
      "v min/max: -1.000/1.000, v_prim min/max: -1.000/0.787\n",
      "q1 0.03795500844717026 0.048693954944610596\n",
      "q2 0.03465103358030319 0.04450220987200737\n",
      "z1 0.03425643965601921 0.04493652656674385\n",
      "z2 0.037732694298028946 0.04920226335525513\n"
     ]
    },
    {
     "name": "stderr",
     "output_type": "stream",
     "text": [
      "Epoch 0:   8%|▊         | 7/87 [00:24<02:56,  2.20s/it]"
     ]
    },
    {
     "name": "stdout",
     "output_type": "stream",
     "text": [
      "v min/max: -1.000/0.989, v_prim min/max: -1.000/0.726\n",
      "q1 0.03922092169523239 0.050422631204128265\n",
      "q2 0.03745191544294357 0.048184093087911606\n",
      "z1 0.03702337294816971 0.048336461186409\n",
      "z2 0.03799945488572121 0.04950908198952675\n"
     ]
    },
    {
     "name": "stderr",
     "output_type": "stream",
     "text": [
      "Epoch 0:   9%|▉         | 8/87 [00:26<02:41,  2.05s/it]"
     ]
    },
    {
     "name": "stdout",
     "output_type": "stream",
     "text": [
      "v min/max: -1.000/0.438, v_prim min/max: -1.000/1.000\n",
      "q1 0.03928057849407196 0.05045076087117195\n",
      "q2 0.04358216002583504 0.055501777678728104\n",
      "z1 0.04074575752019882 0.05248184874653816\n",
      "z2 0.038353268057107925 0.04986254870891571\n"
     ]
    },
    {
     "name": "stderr",
     "output_type": "stream",
     "text": [
      "Epoch 0:  10%|█         | 9/87 [00:27<02:31,  1.94s/it]"
     ]
    },
    {
     "name": "stdout",
     "output_type": "stream",
     "text": [
      "v min/max: -1.000/0.304, v_prim min/max: -1.000/1.000\n",
      "q1 0.037218887358903885 0.04888787120580673\n",
      "q2 0.03926921263337135 0.05088946595788002\n",
      "z1 0.036516059190034866 0.047845736145973206\n",
      "z2 0.0357547290623188 0.04726061224937439\n"
     ]
    },
    {
     "name": "stderr",
     "output_type": "stream",
     "text": [
      "Epoch 0:  11%|█▏        | 10/87 [00:29<02:24,  1.88s/it]"
     ]
    },
    {
     "name": "stdout",
     "output_type": "stream",
     "text": [
      "v min/max: -1.000/0.339, v_prim min/max: -1.000/0.987\n",
      "q1 0.04003462567925453 0.05253027379512787\n",
      "q2 0.04162532463669777 0.054166004061698914\n",
      "z1 0.038558993488550186 0.05026707053184509\n",
      "z2 0.03789025545120239 0.04937669634819031\n"
     ]
    },
    {
     "name": "stderr",
     "output_type": "stream",
     "text": [
      "Epoch 0:  13%|█▎        | 11/87 [00:31<02:19,  1.84s/it]"
     ]
    },
    {
     "name": "stdout",
     "output_type": "stream",
     "text": [
      "v min/max: -1.000/0.991, v_prim min/max: -1.000/0.739\n",
      "q1 0.04450144246220589 0.05732626095414162\n",
      "q2 0.03802124783396721 0.05010649561882019\n",
      "z1 0.0354057252407074 0.0463205948472023\n",
      "z2 0.04019077867269516 0.05176772549748421\n"
     ]
    },
    {
     "name": "stderr",
     "output_type": "stream",
     "text": [
      "Epoch 0:  14%|█▍        | 12/87 [00:33<02:15,  1.81s/it]"
     ]
    },
    {
     "name": "stdout",
     "output_type": "stream",
     "text": [
      "v min/max: -1.000/1.000, v_prim min/max: -1.000/0.359\n",
      "q1 0.04481978341937065 0.057836901396512985\n",
      "q2 0.042449597269296646 0.05559719726443291\n",
      "z1 0.038667432963848114 0.050119828432798386\n",
      "z2 0.04027703404426575 0.05175921693444252\n"
     ]
    },
    {
     "name": "stderr",
     "output_type": "stream",
     "text": [
      "Epoch 0:  15%|█▍        | 13/87 [00:34<02:11,  1.77s/it]"
     ]
    },
    {
     "name": "stdout",
     "output_type": "stream",
     "text": [
      "v min/max: -1.000/0.447, v_prim min/max: -1.000/1.000\n",
      "q1 0.0424332395195961 0.057130780071020126\n",
      "q2 0.04505876451730728 0.058398909866809845\n",
      "z1 0.03995532542467117 0.05139445140957832\n",
      "z2 0.03789926692843437 0.04964626580476761\n"
     ]
    },
    {
     "name": "stderr",
     "output_type": "stream",
     "text": [
      "Epoch 0:  16%|█▌        | 14/87 [00:36<02:06,  1.73s/it]"
     ]
    },
    {
     "name": "stdout",
     "output_type": "stream",
     "text": [
      "v min/max: -1.000/0.994, v_prim min/max: -0.999/0.952\n",
      "q1 0.04454492777585983 0.05877022072672844\n",
      "q2 0.042710546404123306 0.056274231523275375\n",
      "z1 0.03698323667049408 0.04790486767888069\n",
      "z2 0.038459986448287964 0.049829043447971344\n"
     ]
    },
    {
     "name": "stderr",
     "output_type": "stream",
     "text": [
      "Epoch 0:  17%|█▋        | 15/87 [00:38<02:02,  1.71s/it]"
     ]
    },
    {
     "name": "stdout",
     "output_type": "stream",
     "text": [
      "v min/max: -1.000/0.783, v_prim min/max: -1.000/0.831\n",
      "q1 0.03968096151947975 0.054739341139793396\n",
      "q2 0.04295232146978378 0.05758645758032799\n",
      "z1 0.03681429475545883 0.04780372604727745\n",
      "z2 0.034044139087200165 0.04516884684562683\n"
     ]
    },
    {
     "name": "stderr",
     "output_type": "stream",
     "text": [
      "Epoch 0:  18%|█▊        | 16/87 [00:39<02:02,  1.73s/it]"
     ]
    },
    {
     "name": "stdout",
     "output_type": "stream",
     "text": [
      "v min/max: -1.000/0.274, v_prim min/max: -1.000/1.000\n",
      "q1 0.046298231929540634 0.06281442940235138\n",
      "q2 0.045877374708652496 0.06131651625037193\n",
      "z1 0.03885187581181526 0.050179436802864075\n",
      "z2 0.03918049857020378 0.05071427673101425\n"
     ]
    },
    {
     "name": "stderr",
     "output_type": "stream",
     "text": [
      "Epoch 0:  20%|█▉        | 17/87 [00:41<02:03,  1.76s/it]"
     ]
    },
    {
     "name": "stdout",
     "output_type": "stream",
     "text": [
      "v min/max: -1.000/1.000, v_prim min/max: -1.000/1.000\n",
      "q1 0.046599097549915314 0.06274088472127914\n",
      "q2 0.04770619049668312 0.06356894969940186\n",
      "z1 0.040219996124506 0.051791928708553314\n",
      "z2 0.039080455899238586 0.05048399791121483\n"
     ]
    },
    {
     "name": "stderr",
     "output_type": "stream",
     "text": [
      "Epoch 0:  21%|██        | 18/87 [00:43<02:02,  1.78s/it]"
     ]
    },
    {
     "name": "stdout",
     "output_type": "stream",
     "text": [
      "v min/max: -1.000/0.661, v_prim min/max: -1.000/0.412\n",
      "q1 0.045302100479602814 0.06322848051786423\n",
      "q2 0.04351220652461052 0.0607588067650795\n",
      "z1 0.03573000431060791 0.04690197482705116\n",
      "z2 0.037184715270996094 0.04881102964282036\n"
     ]
    },
    {
     "name": "stderr",
     "output_type": "stream",
     "text": [
      "Epoch 0:  22%|██▏       | 19/87 [00:45<02:00,  1.77s/it]"
     ]
    },
    {
     "name": "stdout",
     "output_type": "stream",
     "text": [
      "v min/max: -1.000/0.808, v_prim min/max: -1.000/0.934\n",
      "q1 0.043809905648231506 0.06111256778240204\n",
      "q2 0.048711471259593964 0.06681664288043976\n",
      "z1 0.0398733876645565 0.05130985006690025\n",
      "z2 0.03576148673892021 0.046714745461940765\n"
     ]
    },
    {
     "name": "stderr",
     "output_type": "stream",
     "text": [
      "Epoch 0:  23%|██▎       | 20/87 [00:46<01:57,  1.75s/it]"
     ]
    },
    {
     "name": "stdout",
     "output_type": "stream",
     "text": [
      "v min/max: -1.000/1.000, v_prim min/max: -1.000/0.951\n",
      "q1 0.04728509858250618 0.06579495221376419\n",
      "q2 0.047949254512786865 0.06573424488306046\n",
      "z1 0.03931121528148651 0.050707705318927765\n",
      "z2 0.03823761269450188 0.04978347569704056\n"
     ]
    },
    {
     "name": "stderr",
     "output_type": "stream",
     "text": [
      "Epoch 0:  24%|██▍       | 21/87 [00:48<01:57,  1.78s/it]"
     ]
    },
    {
     "name": "stdout",
     "output_type": "stream",
     "text": [
      "v min/max: -1.000/0.106, v_prim min/max: -1.000/1.000\n",
      "q1 0.04723058268427849 0.06651530414819717\n",
      "q2 0.05051299184560776 0.06840939074754715\n",
      "z1 0.041834622621536255 0.053477879613637924\n",
      "z2 0.03739029914140701 0.048713263124227524\n"
     ]
    },
    {
     "name": "stderr",
     "output_type": "stream",
     "text": [
      "Epoch 0:  25%|██▌       | 22/87 [00:50<01:56,  1.79s/it]"
     ]
    },
    {
     "name": "stdout",
     "output_type": "stream",
     "text": [
      "v min/max: -1.000/1.000, v_prim min/max: -1.000/0.997\n",
      "q1 0.048602961003780365 0.06759918481111526\n",
      "q2 0.048743296414613724 0.06791795045137405\n",
      "z1 0.03947586193680763 0.05084848776459694\n",
      "z2 0.03944701328873634 0.05093372240662575\n"
     ]
    },
    {
     "name": "stderr",
     "output_type": "stream",
     "text": [
      "Epoch 0:  26%|██▋       | 23/87 [00:52<01:54,  1.80s/it]"
     ]
    },
    {
     "name": "stdout",
     "output_type": "stream",
     "text": [
      "v min/max: -1.000/0.318, v_prim min/max: -1.000/1.000\n",
      "q1 0.048013463616371155 0.06887368857860565\n",
      "q2 0.045770470052957535 0.06615977734327316\n",
      "z1 0.035606127232313156 0.04704910144209862\n",
      "z2 0.037312593311071396 0.04895927384495735\n"
     ]
    },
    {
     "name": "stderr",
     "output_type": "stream",
     "text": [
      "Epoch 0:  28%|██▊       | 24/87 [00:54<01:52,  1.79s/it]"
     ]
    },
    {
     "name": "stdout",
     "output_type": "stream",
     "text": [
      "v min/max: -1.000/0.502, v_prim min/max: -1.000/0.561\n",
      "q1 0.04767852649092674 0.0688980296254158\n",
      "q2 0.048199668526649475 0.06936518847942352\n",
      "z1 0.0375717468559742 0.0492611862719059\n",
      "z2 0.03703721985220909 0.04875189810991287\n"
     ]
    },
    {
     "name": "stderr",
     "output_type": "stream",
     "text": [
      "Epoch 0:  29%|██▊       | 25/87 [00:56<01:50,  1.79s/it]"
     ]
    },
    {
     "name": "stdout",
     "output_type": "stream",
     "text": [
      "v min/max: -1.000/0.710, v_prim min/max: -1.000/0.338\n",
      "q1 0.04710137099027634 0.06860817968845367\n",
      "q2 0.0497608482837677 0.07220730930566788\n",
      "z1 0.03845624625682831 0.05048650875687599\n",
      "z2 0.036479152739048004 0.04823354259133339\n"
     ]
    },
    {
     "name": "stderr",
     "output_type": "stream",
     "text": [
      "Epoch 0:  30%|██▉       | 26/87 [00:57<01:50,  1.81s/it]"
     ]
    },
    {
     "name": "stdout",
     "output_type": "stream",
     "text": [
      "v min/max: -1.000/0.277, v_prim min/max: -1.000/0.373\n",
      "q1 0.0486198365688324 0.07078611850738525\n",
      "q2 0.04603176936507225 0.06757687032222748\n",
      "z1 0.03587204962968826 0.047443315386772156\n",
      "z2 0.03790612518787384 0.04969043284654617\n"
     ]
    },
    {
     "name": "stderr",
     "output_type": "stream",
     "text": [
      "Epoch 0:  31%|███       | 27/87 [00:59<01:48,  1.80s/it]"
     ]
    },
    {
     "name": "stdout",
     "output_type": "stream",
     "text": [
      "v min/max: -1.000/0.179, v_prim min/max: -1.000/1.000\n",
      "q1 0.04773177206516266 0.07025299221277237\n",
      "q2 0.05008189380168915 0.0721135288476944\n",
      "z1 0.040161240845918655 0.05205249786376953\n",
      "z2 0.03745152801275253 0.049603406339883804\n"
     ]
    },
    {
     "name": "stderr",
     "output_type": "stream",
     "text": [
      "Epoch 0:  32%|███▏      | 28/87 [01:01<01:45,  1.79s/it]"
     ]
    },
    {
     "name": "stdout",
     "output_type": "stream",
     "text": [
      "v min/max: -1.000/0.900, v_prim min/max: -1.000/1.000\n",
      "q1 0.045549724251031876 0.06654699891805649\n",
      "q2 0.04915047436952591 0.07105233520269394\n",
      "z1 0.03941719979047775 0.05125758796930313\n",
      "z2 0.03615538030862808 0.04776446521282196\n"
     ]
    },
    {
     "name": "stderr",
     "output_type": "stream",
     "text": [
      "Epoch 0:  33%|███▎      | 29/87 [01:03<01:44,  1.81s/it]"
     ]
    },
    {
     "name": "stdout",
     "output_type": "stream",
     "text": [
      "v min/max: -1.000/0.952, v_prim min/max: -1.000/0.314\n",
      "q1 0.04824702441692352 0.07019125670194626\n",
      "q2 0.04920950531959534 0.07175031304359436\n",
      "z1 0.039304401725530624 0.05151120945811272\n",
      "z2 0.03861603885889053 0.05050402879714966\n"
     ]
    },
    {
     "name": "stderr",
     "output_type": "stream",
     "text": [
      "Epoch 0:  34%|███▍      | 30/87 [01:04<01:41,  1.78s/it]"
     ]
    },
    {
     "name": "stdout",
     "output_type": "stream",
     "text": [
      "v min/max: -1.000/0.436, v_prim min/max: -1.000/0.636\n",
      "q1 0.04793263599276543 0.06947993487119675\n",
      "q2 0.04717284440994263 0.06868331134319305\n",
      "z1 0.03754902258515358 0.04932253807783127\n",
      "z2 0.03838769346475601 0.050279028713703156\n"
     ]
    },
    {
     "name": "stderr",
     "output_type": "stream",
     "text": [
      "Epoch 0:  36%|███▌      | 31/87 [01:06<01:39,  1.77s/it]"
     ]
    },
    {
     "name": "stdout",
     "output_type": "stream",
     "text": [
      "v min/max: -1.000/1.000, v_prim min/max: -1.000/0.468\n",
      "q1 0.0480305552482605 0.07027269899845123\n",
      "q2 0.04753866791725159 0.06971966475248337\n",
      "z1 0.03763663023710251 0.04988374188542366\n",
      "z2 0.03812997415661812 0.050195932388305664\n"
     ]
    },
    {
     "name": "stderr",
     "output_type": "stream",
     "text": [
      "Epoch 0:  37%|███▋      | 32/87 [01:08<01:37,  1.77s/it]"
     ]
    },
    {
     "name": "stdout",
     "output_type": "stream",
     "text": [
      "v min/max: -1.000/0.471, v_prim min/max: -1.000/0.673\n",
      "q1 0.0482175312936306 0.07038827985525131\n",
      "q2 0.04930056259036064 0.0717170238494873\n",
      "z1 0.03943620249629021 0.051857832819223404\n",
      "z2 0.03854392468929291 0.05084199085831642\n"
     ]
    },
    {
     "name": "stderr",
     "output_type": "stream",
     "text": [
      "Epoch 0:  38%|███▊      | 33/87 [01:10<01:35,  1.77s/it]"
     ]
    },
    {
     "name": "stdout",
     "output_type": "stream",
     "text": [
      "v min/max: -1.000/0.572, v_prim min/max: -1.000/0.682\n",
      "q1 0.04386018589138985 0.06468399614095688\n",
      "q2 0.0424918569624424 0.06239759176969528\n",
      "z1 0.03385697677731514 0.04520372301340103\n",
      "z2 0.035115357488393784 0.0470675565302372\n"
     ]
    },
    {
     "name": "stderr",
     "output_type": "stream",
     "text": [
      "Epoch 0:  39%|███▉      | 34/87 [01:12<01:33,  1.77s/it]"
     ]
    },
    {
     "name": "stdout",
     "output_type": "stream",
     "text": [
      "v min/max: -1.000/1.000, v_prim min/max: -0.998/1.000\n",
      "q1 0.04789918661117554 0.06961078196763992\n",
      "q2 0.04449942708015442 0.06589533388614655\n",
      "z1 0.03566766902804375 0.047454409301280975\n",
      "z2 0.03899594768881798 0.051060501486063004\n"
     ]
    },
    {
     "name": "stderr",
     "output_type": "stream",
     "text": [
      "Epoch 0:  40%|████      | 35/87 [01:13<01:31,  1.77s/it]"
     ]
    },
    {
     "name": "stdout",
     "output_type": "stream",
     "text": [
      "v min/max: -1.000/1.000, v_prim min/max: -1.000/1.000\n",
      "q1 0.05040866881608963 0.0745982751250267\n",
      "q2 0.049607209861278534 0.07300379127264023\n",
      "z1 0.03949243575334549 0.05170490965247154\n",
      "z2 0.03934015333652496 0.05173714831471443\n"
     ]
    },
    {
     "name": "stderr",
     "output_type": "stream",
     "text": [
      "Epoch 0:  41%|████▏     | 36/87 [01:15<01:30,  1.77s/it]"
     ]
    },
    {
     "name": "stdout",
     "output_type": "stream",
     "text": [
      "v min/max: -1.000/0.579, v_prim min/max: -1.000/1.000\n",
      "q1 0.047243520617485046 0.06910628080368042\n",
      "q2 0.05032254755496979 0.07289561629295349\n",
      "z1 0.04010027274489403 0.05233651027083397\n",
      "z2 0.03773431479930878 0.05015919357538223\n"
     ]
    },
    {
     "name": "stderr",
     "output_type": "stream",
     "text": [
      "Epoch 0:  43%|████▎     | 37/87 [01:17<01:29,  1.78s/it]"
     ]
    },
    {
     "name": "stdout",
     "output_type": "stream",
     "text": [
      "v min/max: -1.000/0.589, v_prim min/max: -1.000/0.490\n",
      "q1 0.04708357900381088 0.06930965185165405\n",
      "q2 0.04906696081161499 0.07187493145465851\n",
      "z1 0.0382070392370224 0.05085510015487671\n",
      "z2 0.03663632273674011 0.0490604043006897\n"
     ]
    },
    {
     "name": "stderr",
     "output_type": "stream",
     "text": [
      "Epoch 0:  44%|████▎     | 38/87 [01:19<01:26,  1.77s/it]"
     ]
    },
    {
     "name": "stdout",
     "output_type": "stream",
     "text": [
      "v min/max: -1.000/1.000, v_prim min/max: -1.000/0.467\n",
      "q1 0.05245476961135864 0.0768960565328598\n",
      "q2 0.04988694190979004 0.072803795337677\n",
      "z1 0.03846871480345726 0.05102864280343056\n",
      "z2 0.04060687869787216 0.05283385515213013\n"
     ]
    },
    {
     "name": "stderr",
     "output_type": "stream",
     "text": [
      "Epoch 0:  45%|████▍     | 39/87 [01:20<01:25,  1.78s/it]"
     ]
    },
    {
     "name": "stdout",
     "output_type": "stream",
     "text": [
      "v min/max: -1.000/1.000, v_prim min/max: -1.000/0.889\n",
      "q1 0.051244866102933884 0.07528531551361084\n",
      "q2 0.04818927124142647 0.07107007503509521\n",
      "z1 0.03610599786043167 0.048380814492702484\n",
      "z2 0.038409724831581116 0.05116164684295654\n"
     ]
    },
    {
     "name": "stderr",
     "output_type": "stream",
     "text": [
      "Epoch 0:  46%|████▌     | 40/87 [01:22<01:23,  1.78s/it]"
     ]
    },
    {
     "name": "stdout",
     "output_type": "stream",
     "text": [
      "v min/max: -1.000/0.946, v_prim min/max: -1.000/0.315\n",
      "q1 0.048829659819602966 0.07281822711229324\n",
      "q2 0.050752803683280945 0.07464815676212311\n",
      "z1 0.03738310933113098 0.050256334245204926\n",
      "z2 0.035382576286792755 0.04791200906038284\n"
     ]
    },
    {
     "name": "stderr",
     "output_type": "stream",
     "text": [
      "Epoch 0:  47%|████▋     | 41/87 [01:24<01:21,  1.78s/it]"
     ]
    },
    {
     "name": "stdout",
     "output_type": "stream",
     "text": [
      "v min/max: -1.000/0.469, v_prim min/max: -1.000/1.000\n",
      "q1 0.05283249914646149 0.07812157273292542\n",
      "q2 0.05493629723787308 0.07991743087768555\n",
      "z1 0.040380556136369705 0.05319446697831154\n",
      "z2 0.03808807581663132 0.05172557011246681\n"
     ]
    },
    {
     "name": "stderr",
     "output_type": "stream",
     "text": [
      "Epoch 0:  48%|████▊     | 42/87 [01:26<01:20,  1.79s/it]"
     ]
    },
    {
     "name": "stdout",
     "output_type": "stream",
     "text": [
      "v min/max: -1.000/0.111, v_prim min/max: -1.000/0.887\n",
      "q1 0.051450543105602264 0.07572547346353531\n",
      "q2 0.04908399656414986 0.0726172998547554\n",
      "z1 0.03536152467131615 0.047401975840330124\n",
      "z2 0.036434948444366455 0.04946761205792427\n"
     ]
    },
    {
     "name": "stderr",
     "output_type": "stream",
     "text": [
      "Epoch 0:  49%|████▉     | 43/87 [01:28<01:18,  1.77s/it]"
     ]
    },
    {
     "name": "stdout",
     "output_type": "stream",
     "text": [
      "v min/max: -0.999/0.432, v_prim min/max: -1.000/0.755\n",
      "q1 0.051105137914419174 0.0755828246474266\n",
      "q2 0.05402630195021629 0.07914181053638458\n",
      "z1 0.03866809234023094 0.0518554151058197\n",
      "z2 0.036026377230882645 0.04915894940495491\n"
     ]
    },
    {
     "name": "stderr",
     "output_type": "stream",
     "text": [
      "Epoch 0:  51%|█████     | 44/87 [01:29<01:17,  1.79s/it]"
     ]
    },
    {
     "name": "stdout",
     "output_type": "stream",
     "text": [
      "v min/max: -1.000/0.418, v_prim min/max: -1.000/0.835\n",
      "q1 0.05286172032356262 0.07732976227998734\n",
      "q2 0.05022723972797394 0.07386312633752823\n",
      "z1 0.03602609410881996 0.04839123412966728\n",
      "z2 0.037882816046476364 0.050881724804639816\n"
     ]
    },
    {
     "name": "stderr",
     "output_type": "stream",
     "text": [
      "Epoch 0:  52%|█████▏    | 45/87 [01:31<01:16,  1.82s/it]"
     ]
    },
    {
     "name": "stdout",
     "output_type": "stream",
     "text": [
      "v min/max: -1.000/1.000, v_prim min/max: -1.000/1.000\n",
      "q1 0.054563961923122406 0.07926750928163528\n",
      "q2 0.05590226873755455 0.08067644387483597\n",
      "z1 0.041302889585494995 0.05415532737970352\n",
      "z2 0.04012945666909218 0.052973344922065735\n"
     ]
    },
    {
     "name": "stderr",
     "output_type": "stream",
     "text": [
      "Epoch 0:  53%|█████▎    | 46/87 [01:33<01:16,  1.87s/it]"
     ]
    },
    {
     "name": "stdout",
     "output_type": "stream",
     "text": [
      "v min/max: -1.000/1.000, v_prim min/max: -1.000/0.316\n",
      "q1 0.0553012378513813 0.08071848005056381\n",
      "q2 0.05637713521718979 0.08297409117221832\n",
      "z1 0.03909904882311821 0.05320686101913452\n",
      "z2 0.03962433338165283 0.05272243544459343\n"
     ]
    },
    {
     "name": "stderr",
     "output_type": "stream",
     "text": [
      "Epoch 0:  54%|█████▍    | 47/87 [01:35<01:16,  1.92s/it]"
     ]
    },
    {
     "name": "stdout",
     "output_type": "stream",
     "text": [
      "v min/max: -1.000/1.000, v_prim min/max: -1.000/1.000\n",
      "q1 0.05370703712105751 0.07939539849758148\n",
      "q2 0.0554608553647995 0.0817602127790451\n",
      "z1 0.038794539868831635 0.05235028639435768\n",
      "z2 0.037658318877220154 0.050863634794950485\n"
     ]
    },
    {
     "name": "stderr",
     "output_type": "stream",
     "text": [
      "Epoch 0:  55%|█████▌    | 48/87 [01:37<01:14,  1.91s/it]"
     ]
    },
    {
     "name": "stdout",
     "output_type": "stream",
     "text": [
      "v min/max: -1.000/1.000, v_prim min/max: -1.000/1.000\n",
      "q1 0.054460350424051285 0.08056158572435379\n",
      "q2 0.05746745690703392 0.08438961952924728\n",
      "z1 0.04002851992845535 0.05361373722553253\n",
      "z2 0.037730585783720016 0.051000047475099564\n"
     ]
    },
    {
     "name": "stderr",
     "output_type": "stream",
     "text": [
      "Epoch 0:  56%|█████▋    | 49/87 [01:39<01:11,  1.88s/it]"
     ]
    },
    {
     "name": "stdout",
     "output_type": "stream",
     "text": [
      "v min/max: -1.000/1.000, v_prim min/max: -1.000/1.000\n",
      "q1 0.056671518832445145 0.08424301445484161\n",
      "q2 0.058603979647159576 0.08556490391492844\n",
      "z1 0.04114726930856705 0.05455348268151283\n",
      "z2 0.03893866762518883 0.05268267169594765\n"
     ]
    },
    {
     "name": "stderr",
     "output_type": "stream",
     "text": [
      "Epoch 0:  57%|█████▋    | 50/87 [01:41<01:09,  1.87s/it]"
     ]
    },
    {
     "name": "stdout",
     "output_type": "stream",
     "text": [
      "v min/max: -1.000/0.994, v_prim min/max: -1.000/0.678\n",
      "q1 0.05755831301212311 0.08541252464056015\n",
      "q2 0.05621505528688431 0.08391668647527695\n",
      "z1 0.03751406818628311 0.051195915788412094\n",
      "z2 0.038357771933078766 0.05214712768793106\n"
     ]
    },
    {
     "name": "stderr",
     "output_type": "stream",
     "text": [
      "Epoch 0:  59%|█████▊    | 51/87 [01:43<01:07,  1.88s/it]"
     ]
    },
    {
     "name": "stdout",
     "output_type": "stream",
     "text": [
      "v min/max: -0.994/0.764, v_prim min/max: -1.000/0.947\n",
      "q1 0.05558691918849945 0.08260129392147064\n",
      "q2 0.0564497672021389 0.08389261364936829\n",
      "z1 0.03806363418698311 0.05135713517665863\n",
      "z2 0.03709237277507782 0.050210390239953995\n"
     ]
    },
    {
     "name": "stderr",
     "output_type": "stream",
     "text": [
      "Epoch 0:  60%|█████▉    | 52/87 [01:44<01:03,  1.81s/it]"
     ]
    },
    {
     "name": "stdout",
     "output_type": "stream",
     "text": [
      "v min/max: -1.000/1.000, v_prim min/max: -0.999/0.862\n",
      "q1 0.05508997291326523 0.08229925483465195\n",
      "q2 0.051191266626119614 0.07768499851226807\n",
      "z1 0.034145843237638474 0.047374628484249115\n",
      "z2 0.037631575018167496 0.05115902051329613\n"
     ]
    },
    {
     "name": "stderr",
     "output_type": "stream",
     "text": [
      "Epoch 0:  61%|██████    | 53/87 [01:46<01:00,  1.77s/it]"
     ]
    },
    {
     "name": "stdout",
     "output_type": "stream",
     "text": [
      "v min/max: -1.000/1.000, v_prim min/max: -1.000/0.272\n",
      "q1 0.05621238052845001 0.08387977629899979\n",
      "q2 0.05910026282072067 0.08781341463327408\n",
      "z1 0.0394071489572525 0.05383051186800003\n",
      "z2 0.03817038610577583 0.05211055651307106\n"
     ]
    },
    {
     "name": "stderr",
     "output_type": "stream",
     "text": [
      "Epoch 0:  62%|██████▏   | 54/87 [01:48<00:58,  1.77s/it]"
     ]
    },
    {
     "name": "stdout",
     "output_type": "stream",
     "text": [
      "v min/max: -1.000/1.000, v_prim min/max: -1.000/1.000\n",
      "q1 0.057618871331214905 0.08435440808534622\n",
      "q2 0.056325510144233704 0.08303023129701614\n",
      "z1 0.03926164284348488 0.052870072424411774\n",
      "z2 0.04057399928569794 0.05427359789609909\n"
     ]
    },
    {
     "name": "stderr",
     "output_type": "stream",
     "text": [
      "Epoch 0:  63%|██████▎   | 55/87 [01:50<00:57,  1.79s/it]"
     ]
    },
    {
     "name": "stdout",
     "output_type": "stream",
     "text": [
      "v min/max: -1.000/1.000, v_prim min/max: -1.000/0.975\n",
      "q1 0.05443788319826126 0.08055045455694199\n",
      "q2 0.054072558879852295 0.07986011356115341\n",
      "z1 0.03817429393529892 0.051602814346551895\n",
      "z2 0.03810960799455643 0.051938947290182114\n"
     ]
    },
    {
     "name": "stderr",
     "output_type": "stream",
     "text": [
      "Epoch 0:  64%|██████▍   | 56/87 [01:52<00:55,  1.80s/it]"
     ]
    },
    {
     "name": "stdout",
     "output_type": "stream",
     "text": [
      "v min/max: -1.000/1.000, v_prim min/max: -1.000/1.000\n",
      "q1 0.05793901905417442 0.08534588664770126\n",
      "q2 0.058348141610622406 0.08477665483951569\n",
      "z1 0.040862057358026505 0.05487038567662239\n",
      "z2 0.04032430052757263 0.05492947995662689\n"
     ]
    },
    {
     "name": "stderr",
     "output_type": "stream",
     "text": [
      "Epoch 0:  66%|██████▌   | 57/87 [01:53<00:53,  1.79s/it]"
     ]
    },
    {
     "name": "stdout",
     "output_type": "stream",
     "text": [
      "v min/max: -1.000/1.000, v_prim min/max: -1.000/1.000\n",
      "q1 0.057225339114665985 0.0840752124786377\n",
      "q2 0.05832973122596741 0.08467721194028854\n",
      "z1 0.04124298319220543 0.05550110712647438\n",
      "z2 0.04008771851658821 0.054588090628385544\n"
     ]
    },
    {
     "name": "stderr",
     "output_type": "stream",
     "text": [
      "Epoch 0:  67%|██████▋   | 58/87 [01:55<00:52,  1.83s/it]"
     ]
    },
    {
     "name": "stdout",
     "output_type": "stream",
     "text": [
      "v min/max: -0.999/0.944, v_prim min/max: -1.000/0.512\n",
      "q1 0.05632305517792702 0.08285348862409592\n",
      "q2 0.05548107251524925 0.08237040787935257\n",
      "z1 0.03777694329619408 0.05264769867062569\n",
      "z2 0.038780827075242996 0.05329374223947525\n"
     ]
    },
    {
     "name": "stderr",
     "output_type": "stream",
     "text": [
      "Epoch 0:  68%|██████▊   | 59/87 [01:57<00:50,  1.82s/it]"
     ]
    },
    {
     "name": "stdout",
     "output_type": "stream",
     "text": [
      "v min/max: -1.000/1.000, v_prim min/max: -1.000/1.000\n",
      "q1 0.05605601146817207 0.08285708725452423\n",
      "q2 0.055863235145807266 0.0819472223520279\n",
      "z1 0.038875848054885864 0.0534043163061142\n",
      "z2 0.03889188542962074 0.05382150784134865\n"
     ]
    },
    {
     "name": "stderr",
     "output_type": "stream",
     "text": [
      "Epoch 0:  69%|██████▉   | 60/87 [01:59<00:48,  1.79s/it]"
     ]
    },
    {
     "name": "stdout",
     "output_type": "stream",
     "text": [
      "v min/max: -1.000/0.984, v_prim min/max: -1.000/0.960\n",
      "q1 0.0548519641160965 0.07960010319948196\n",
      "q2 0.057964153587818146 0.08377531915903091\n",
      "z1 0.04096650332212448 0.05534116178750992\n",
      "z2 0.038426004350185394 0.0522201769053936\n"
     ]
    },
    {
     "name": "stderr",
     "output_type": "stream",
     "text": [
      "Epoch 0:  70%|███████   | 61/87 [02:00<00:45,  1.76s/it]"
     ]
    },
    {
     "name": "stdout",
     "output_type": "stream",
     "text": [
      "v min/max: -1.000/0.085, v_prim min/max: -1.000/1.000\n",
      "q1 0.05625686049461365 0.08221029490232468\n",
      "q2 0.05635865405201912 0.082072913646698\n",
      "z1 0.0395602211356163 0.054266296327114105\n",
      "z2 0.03918871283531189 0.05443722754716873\n"
     ]
    },
    {
     "name": "stderr",
     "output_type": "stream",
     "text": [
      "Epoch 0:  71%|███████▏  | 62/87 [02:02<00:44,  1.77s/it]"
     ]
    },
    {
     "name": "stdout",
     "output_type": "stream",
     "text": [
      "v min/max: -1.000/1.000, v_prim min/max: -1.000/0.972\n",
      "q1 0.05623346567153931 0.0820339247584343\n",
      "q2 0.05654129385948181 0.08208255469799042\n",
      "z1 0.04050184041261673 0.05504037067294121\n",
      "z2 0.03959986940026283 0.05455680191516876\n"
     ]
    },
    {
     "name": "stderr",
     "output_type": "stream",
     "text": [
      "Epoch 0:  72%|███████▏  | 63/87 [02:04<00:43,  1.80s/it]"
     ]
    },
    {
     "name": "stdout",
     "output_type": "stream",
     "text": [
      "v min/max: -1.000/0.551, v_prim min/max: -1.000/1.000\n",
      "q1 0.05429237335920334 0.07975485920906067\n",
      "q2 0.05914037674665451 0.08625989407300949\n",
      "z1 0.04071875289082527 0.05658520758152008\n",
      "z2 0.03714556246995926 0.05228684842586517\n"
     ]
    },
    {
     "name": "stderr",
     "output_type": "stream",
     "text": [
      "Epoch 0:  74%|███████▎  | 64/87 [02:06<00:42,  1.83s/it]"
     ]
    },
    {
     "name": "stdout",
     "output_type": "stream",
     "text": [
      "v min/max: -1.000/0.699, v_prim min/max: -1.000/0.255\n",
      "q1 0.05575964227318764 0.08117122203111649\n",
      "q2 0.058644525706768036 0.08523505926132202\n",
      "z1 0.039974573999643326 0.05592335760593414\n",
      "z2 0.03878682106733322 0.053841717541217804\n"
     ]
    },
    {
     "name": "stderr",
     "output_type": "stream",
     "text": [
      "Epoch 0:  75%|███████▍  | 65/87 [02:08<00:39,  1.81s/it]"
     ]
    },
    {
     "name": "stdout",
     "output_type": "stream",
     "text": [
      "v min/max: -1.000/1.000, v_prim min/max: -1.000/0.615\n",
      "q1 0.05582275241613388 0.0809512585401535\n",
      "q2 0.05628605931997299 0.08167742937803268\n",
      "z1 0.03915480524301529 0.05490737408399582\n",
      "z2 0.04020873084664345 0.05530325323343277\n"
     ]
    },
    {
     "name": "stderr",
     "output_type": "stream",
     "text": [
      "Epoch 0:  76%|███████▌  | 66/87 [02:10<00:37,  1.80s/it]"
     ]
    },
    {
     "name": "stdout",
     "output_type": "stream",
     "text": [
      "v min/max: -1.000/1.000, v_prim min/max: -1.000/0.421\n",
      "q1 0.055427033454179764 0.07945648580789566\n",
      "q2 0.057154539972543716 0.08198976516723633\n",
      "z1 0.04151936247944832 0.05763597413897514\n",
      "z2 0.03989455848932266 0.05511581152677536\n"
     ]
    },
    {
     "name": "stderr",
     "output_type": "stream",
     "text": [
      "Epoch 0:  77%|███████▋  | 67/87 [02:11<00:35,  1.79s/it]"
     ]
    },
    {
     "name": "stdout",
     "output_type": "stream",
     "text": [
      "v min/max: -1.000/0.308, v_prim min/max: -1.000/1.000\n",
      "q1 0.05204930156469345 0.07529213279485703\n",
      "q2 0.05660213530063629 0.08181733638048172\n",
      "z1 0.04160936921834946 0.0567251481115818\n",
      "z2 0.03842956945300102 0.054272327572107315\n"
     ]
    },
    {
     "name": "stderr",
     "output_type": "stream",
     "text": [
      "Epoch 0:  78%|███████▊  | 68/87 [02:13<00:33,  1.76s/it]"
     ]
    },
    {
     "name": "stdout",
     "output_type": "stream",
     "text": [
      "v min/max: -1.000/1.000, v_prim min/max: -1.000/1.000\n",
      "q1 0.05335751920938492 0.07668984681367874\n",
      "q2 0.05547591298818588 0.07905376702547073\n",
      "z1 0.0406496562063694 0.0553913451731205\n",
      "z2 0.03960229456424713 0.054913874715566635\n"
     ]
    },
    {
     "name": "stderr",
     "output_type": "stream",
     "text": [
      "Epoch 0:  79%|███████▉  | 69/87 [02:15<00:31,  1.76s/it]"
     ]
    },
    {
     "name": "stdout",
     "output_type": "stream",
     "text": [
      "v min/max: -1.000/0.567, v_prim min/max: -1.000/1.000\n",
      "q1 0.05705185979604721 0.08137769252061844\n",
      "q2 0.05787576735019684 0.08235712349414825\n",
      "z1 0.04192539304494858 0.05771765485405922\n",
      "z2 0.040644627064466476 0.057085875421762466\n"
     ]
    },
    {
     "name": "stderr",
     "output_type": "stream",
     "text": [
      "Epoch 0:  80%|████████  | 70/87 [02:16<00:29,  1.76s/it]"
     ]
    },
    {
     "name": "stdout",
     "output_type": "stream",
     "text": [
      "v min/max: -1.000/1.000, v_prim min/max: -1.000/0.921\n",
      "q1 0.05704917758703232 0.08211033046245575\n",
      "q2 0.053641997277736664 0.07734785974025726\n",
      "z1 0.037900641560554504 0.05250013992190361\n",
      "z2 0.04034575819969177 0.05547701567411423\n"
     ]
    },
    {
     "name": "stderr",
     "output_type": "stream",
     "text": [
      "Epoch 0:  82%|████████▏ | 71/87 [02:18<00:28,  1.78s/it]"
     ]
    },
    {
     "name": "stdout",
     "output_type": "stream",
     "text": [
      "v min/max: -1.000/0.141, v_prim min/max: -1.000/0.953\n",
      "q1 0.061087287962436676 0.0875280499458313\n",
      "q2 0.057288892567157745 0.08316259831190109\n",
      "z1 0.0390455387532711 0.05428621545433998\n",
      "z2 0.040804360061883926 0.05762138217687607\n"
     ]
    },
    {
     "name": "stderr",
     "output_type": "stream",
     "text": [
      "Epoch 0:  83%|████████▎ | 72/87 [02:20<00:27,  1.82s/it]"
     ]
    },
    {
     "name": "stdout",
     "output_type": "stream",
     "text": [
      "v min/max: -1.000/1.000, v_prim min/max: -1.000/0.338\n",
      "q1 0.060878098011016846 0.08763483911752701\n",
      "q2 0.0597526878118515 0.08624542504549026\n",
      "z1 0.038817599415779114 0.05497710406780243\n",
      "z2 0.041422754526138306 0.056801557540893555\n"
     ]
    },
    {
     "name": "stderr",
     "output_type": "stream",
     "text": [
      "Epoch 0:  84%|████████▍ | 73/87 [02:22<00:25,  1.82s/it]"
     ]
    },
    {
     "name": "stdout",
     "output_type": "stream",
     "text": [
      "v min/max: -1.000/0.115, v_prim min/max: -0.999/0.513\n",
      "q1 0.06502041220664978 0.09251529723405838\n",
      "q2 0.057926300913095474 0.08345020562410355\n",
      "z1 0.03706970438361168 0.05241257697343826\n",
      "z2 0.041637904942035675 0.05847301334142685\n"
     ]
    },
    {
     "name": "stderr",
     "output_type": "stream",
     "text": [
      "Epoch 0:  85%|████████▌ | 74/87 [02:24<00:23,  1.81s/it]"
     ]
    },
    {
     "name": "stdout",
     "output_type": "stream",
     "text": [
      "v min/max: -1.000/1.000, v_prim min/max: -1.000/0.558\n",
      "q1 0.060262154787778854 0.08614999055862427\n",
      "q2 0.05650737136602402 0.08203125\n",
      "z1 0.03638926148414612 0.05185561999678612\n",
      "z2 0.039899714291095734 0.05525670573115349\n"
     ]
    },
    {
     "name": "stderr",
     "output_type": "stream",
     "text": [
      "Epoch 0:  86%|████████▌ | 75/87 [02:26<00:21,  1.78s/it]"
     ]
    },
    {
     "name": "stdout",
     "output_type": "stream",
     "text": [
      "v min/max: -1.000/1.000, v_prim min/max: -1.000/0.800\n",
      "q1 0.06144770607352257 0.08776866644620895\n",
      "q2 0.06244199350476265 0.08913150429725647\n",
      "z1 0.04155683517456055 0.057647377252578735\n",
      "z2 0.041025079786777496 0.05685488134622574\n"
     ]
    },
    {
     "name": "stderr",
     "output_type": "stream",
     "text": [
      "Epoch 0:  87%|████████▋ | 76/87 [02:27<00:19,  1.75s/it]"
     ]
    },
    {
     "name": "stdout",
     "output_type": "stream",
     "text": [
      "v min/max: -1.000/1.000, v_prim min/max: -1.000/0.722\n",
      "q1 0.06182916462421417 0.08801749348640442\n",
      "q2 0.06341183930635452 0.09117361158132553\n",
      "z1 0.04120573028922081 0.058380044996738434\n",
      "z2 0.04247847571969032 0.058296456933021545\n"
     ]
    },
    {
     "name": "stderr",
     "output_type": "stream",
     "text": [
      "Epoch 0:  89%|████████▊ | 77/87 [02:29<00:17,  1.75s/it]"
     ]
    },
    {
     "name": "stdout",
     "output_type": "stream",
     "text": [
      "v min/max: -1.000/1.000, v_prim min/max: -1.000/1.000\n",
      "q1 0.061175715178251266 0.08721773326396942\n",
      "q2 0.061130814254283905 0.08674868941307068\n",
      "z1 0.04181870445609093 0.05758243054151535\n",
      "z2 0.04038923233747482 0.056628450751304626\n"
     ]
    },
    {
     "name": "stderr",
     "output_type": "stream",
     "text": [
      "Epoch 0:  90%|████████▉ | 78/87 [02:31<00:16,  1.79s/it]"
     ]
    },
    {
     "name": "stdout",
     "output_type": "stream",
     "text": [
      "v min/max: -1.000/0.872, v_prim min/max: -1.000/1.000\n",
      "q1 0.05587755888700485 0.08103467524051666\n",
      "q2 0.06065741553902626 0.08658727258443832\n",
      "z1 0.04122162610292435 0.057499002665281296\n",
      "z2 0.03820675611495972 0.053964994847774506\n"
     ]
    },
    {
     "name": "stderr",
     "output_type": "stream",
     "text": [
      "Epoch 0:  91%|█████████ | 79/87 [02:33<00:14,  1.83s/it]"
     ]
    },
    {
     "name": "stdout",
     "output_type": "stream",
     "text": [
      "v min/max: -1.000/1.000, v_prim min/max: -1.000/0.831\n",
      "q1 0.06070877984166145 0.08616434782743454\n",
      "q2 0.06225862354040146 0.08942173421382904\n",
      "z1 0.042232152074575424 0.05986446887254715\n",
      "z2 0.042769189924001694 0.05897051841020584\n"
     ]
    },
    {
     "name": "stderr",
     "output_type": "stream",
     "text": [
      "Epoch 0:  92%|█████████▏| 80/87 [02:35<00:12,  1.80s/it]"
     ]
    },
    {
     "name": "stdout",
     "output_type": "stream",
     "text": [
      "v min/max: -1.000/1.000, v_prim min/max: -1.000/0.629\n",
      "q1 0.05683036521077156 0.08144239336252213\n",
      "q2 0.05849585682153702 0.08364476263523102\n",
      "z1 0.04052543267607689 0.056724000722169876\n",
      "z2 0.04058430343866348 0.05650736391544342\n"
     ]
    },
    {
     "name": "stderr",
     "output_type": "stream",
     "text": [
      "Epoch 0:  93%|█████████▎| 81/87 [02:36<00:10,  1.80s/it]"
     ]
    },
    {
     "name": "stdout",
     "output_type": "stream",
     "text": [
      "v min/max: -1.000/0.816, v_prim min/max: -1.000/0.416\n",
      "q1 0.05486666038632393 0.07931973785161972\n",
      "q2 0.05812867730855942 0.08394001424312592\n",
      "z1 0.040404289960861206 0.057911716401576996\n",
      "z2 0.03829752653837204 0.05467638000845909\n"
     ]
    },
    {
     "name": "stderr",
     "output_type": "stream",
     "text": [
      "Epoch 0:  94%|█████████▍| 82/87 [02:38<00:09,  1.80s/it]"
     ]
    },
    {
     "name": "stdout",
     "output_type": "stream",
     "text": [
      "v min/max: -1.000/0.203, v_prim min/max: -1.000/1.000\n",
      "q1 0.05572957545518875 0.08020437508821487\n",
      "q2 0.057405512779951096 0.0822446271777153\n",
      "z1 0.042484935373067856 0.059411097317934036\n",
      "z2 0.04032789543271065 0.05750839039683342\n"
     ]
    },
    {
     "name": "stderr",
     "output_type": "stream",
     "text": [
      "Epoch 0:  95%|█████████▌| 83/87 [02:40<00:07,  1.80s/it]"
     ]
    },
    {
     "name": "stdout",
     "output_type": "stream",
     "text": [
      "v min/max: -1.000/0.934, v_prim min/max: -1.000/1.000\n",
      "q1 0.04905472323298454 0.07138554006814957\n",
      "q2 0.053865931928157806 0.07734568417072296\n",
      "z1 0.042033083736896515 0.05848390609025955\n",
      "z2 0.03810989484190941 0.05426948145031929\n"
     ]
    },
    {
     "name": "stderr",
     "output_type": "stream",
     "text": [
      "Epoch 0:  97%|█████████▋| 84/87 [02:42<00:05,  1.78s/it]"
     ]
    },
    {
     "name": "stdout",
     "output_type": "stream",
     "text": [
      "v min/max: -1.000/0.895, v_prim min/max: -1.000/0.901\n",
      "q1 0.048762187361717224 0.07080382108688354\n",
      "q2 0.04786541312932968 0.06957440078258514\n",
      "z1 0.038370296359062195 0.05416911095380783\n",
      "z2 0.03985174000263214 0.05576614663004875\n"
     ]
    },
    {
     "name": "stderr",
     "output_type": "stream",
     "text": [
      "Epoch 0:  98%|█████████▊| 85/87 [02:43<00:03,  1.77s/it]"
     ]
    },
    {
     "name": "stdout",
     "output_type": "stream",
     "text": [
      "v min/max: -1.000/1.000, v_prim min/max: -1.000/1.000\n",
      "q1 0.050138652324676514 0.07364402711391449\n",
      "q2 0.051840540021657944 0.07522212713956833\n",
      "z1 0.04352537915110588 0.06004048138856888\n",
      "z2 0.04125761240720749 0.058403171598911285\n"
     ]
    },
    {
     "name": "stderr",
     "output_type": "stream",
     "text": [
      "Epoch 0:  99%|█████████▉| 86/87 [02:45<00:01,  1.77s/it]"
     ]
    },
    {
     "name": "stdout",
     "output_type": "stream",
     "text": [
      "v min/max: -0.995/0.370, v_prim min/max: -1.000/0.962\n",
      "q1 0.04345936328172684 0.06446858495473862\n",
      "q2 0.05065521225333214 0.07428187131881714\n",
      "z1 0.04238274693489075 0.058703165501356125\n",
      "z2 0.03561282902956009 0.0517880953848362\n"
     ]
    },
    {
     "name": "stderr",
     "output_type": "stream",
     "text": [
      "Epoch 0: 100%|██████████| 87/87 [02:46<00:00,  1.92s/it]\n"
     ]
    },
    {
     "name": "stdout",
     "output_type": "stream",
     "text": [
      "Epoch 0: BYOL training loss = 1.02975595\n"
     ]
    },
    {
     "name": "stderr",
     "output_type": "stream",
     "text": [
      "Epoch 1:   0%|          | 0/87 [00:00<?, ?it/s]"
     ]
    },
    {
     "name": "stdout",
     "output_type": "stream",
     "text": [
      "v min/max: -1.000/0.865, v_prim min/max: -1.000/0.625\n",
      "q1 0.04815661162137985 0.0711982324719429\n",
      "q2 0.04750420153141022 0.07021377235651016\n",
      "z1 0.039108335971832275 0.05589001625776291\n",
      "z2 0.04002021253108978 0.05717501789331436\n"
     ]
    },
    {
     "name": "stderr",
     "output_type": "stream",
     "text": [
      "Epoch 1:   1%|          | 1/87 [00:16<23:14, 16.21s/it]"
     ]
    },
    {
     "name": "stdout",
     "output_type": "stream",
     "text": [
      "v min/max: -1.000/1.000, v_prim min/max: -1.000/0.650\n",
      "q1 0.04927993565797806 0.07298782467842102\n",
      "q2 0.049262113869190216 0.07352030277252197\n",
      "z1 0.041017625480890274 0.05905349925160408\n",
      "z2 0.04146803170442581 0.05864264443516731\n"
     ]
    },
    {
     "name": "stderr",
     "output_type": "stream",
     "text": [
      "Epoch 1:   2%|▏         | 2/87 [00:17<10:54,  7.70s/it]"
     ]
    },
    {
     "name": "stdout",
     "output_type": "stream",
     "text": [
      "v min/max: -1.000/0.839, v_prim min/max: -1.000/0.941\n",
      "q1 0.0491703599691391 0.07305639982223511\n",
      "q2 0.04864933714270592 0.07182206213474274\n",
      "z1 0.040999822318553925 0.05772339925169945\n",
      "z2 0.041193049401044846 0.05871839076280594\n"
     ]
    },
    {
     "name": "stderr",
     "output_type": "stream",
     "text": [
      "Epoch 1:   3%|▎         | 3/87 [00:19<06:58,  4.98s/it]"
     ]
    },
    {
     "name": "stdout",
     "output_type": "stream",
     "text": [
      "v min/max: -1.000/1.000, v_prim min/max: -1.000/0.342\n",
      "q1 0.049252189695835114 0.07298888266086578\n",
      "q2 0.049646757543087006 0.07400420308113098\n",
      "z1 0.04199085384607315 0.059973910450935364\n",
      "z2 0.04229206591844559 0.05928857997059822\n"
     ]
    },
    {
     "name": "stderr",
     "output_type": "stream",
     "text": [
      "Epoch 1:   5%|▍         | 4/87 [00:21<05:07,  3.71s/it]"
     ]
    },
    {
     "name": "stdout",
     "output_type": "stream",
     "text": [
      "v min/max: -1.000/1.000, v_prim min/max: -1.000/0.753\n",
      "q1 0.0474587120115757 0.0706140398979187\n",
      "q2 0.047636598348617554 0.07080844044685364\n",
      "z1 0.04044325277209282 0.05730187147855759\n",
      "z2 0.04062989354133606 0.05726383626461029\n"
     ]
    },
    {
     "name": "stderr",
     "output_type": "stream",
     "text": [
      "Epoch 1:   6%|▌         | 5/87 [00:23<04:08,  3.03s/it]"
     ]
    },
    {
     "name": "stdout",
     "output_type": "stream",
     "text": [
      "v min/max: -1.000/1.000, v_prim min/max: -1.000/0.988\n",
      "q1 0.04840318113565445 0.07197726517915726\n",
      "q2 0.04838507995009422 0.07215861231088638\n",
      "z1 0.042166002094745636 0.059275541454553604\n",
      "z2 0.042578618973493576 0.05939200520515442\n"
     ]
    },
    {
     "name": "stderr",
     "output_type": "stream",
     "text": [
      "Epoch 1:   7%|▋         | 6/87 [00:25<03:30,  2.60s/it]"
     ]
    },
    {
     "name": "stdout",
     "output_type": "stream",
     "text": [
      "v min/max: -1.000/1.000, v_prim min/max: -1.000/0.753\n",
      "q1 0.04796217381954193 0.0718487948179245\n",
      "q2 0.045386072248220444 0.06823014467954636\n",
      "z1 0.038453251123428345 0.054840393364429474\n",
      "z2 0.04112735390663147 0.05818923935294151\n"
     ]
    },
    {
     "name": "stderr",
     "output_type": "stream",
     "text": [
      "Epoch 1:   8%|▊         | 7/87 [00:26<03:06,  2.33s/it]"
     ]
    },
    {
     "name": "stdout",
     "output_type": "stream",
     "text": [
      "v min/max: -1.000/0.394, v_prim min/max: -1.000/0.511\n",
      "q1 0.04635341838002205 0.06983832269906998\n",
      "q2 0.049466151744127274 0.07438022643327713\n",
      "z1 0.04120270535349846 0.05877793952822685\n",
      "z2 0.03819334879517555 0.05532575771212578\n"
     ]
    },
    {
     "name": "stderr",
     "output_type": "stream",
     "text": [
      "Epoch 1:   9%|▉         | 8/87 [00:28<02:52,  2.19s/it]"
     ]
    },
    {
     "name": "stdout",
     "output_type": "stream",
     "text": [
      "v min/max: -1.000/0.309, v_prim min/max: -1.000/1.000\n",
      "q1 0.048757631331682205 0.07329512387514114\n",
      "q2 0.04887137562036514 0.07325288653373718\n",
      "z1 0.0426904521882534 0.060230448842048645\n",
      "z2 0.04165501147508621 0.05956622585654259\n"
     ]
    },
    {
     "name": "stderr",
     "output_type": "stream",
     "text": [
      "Epoch 1:  10%|█         | 9/87 [00:30<02:40,  2.06s/it]"
     ]
    },
    {
     "name": "stdout",
     "output_type": "stream",
     "text": [
      "v min/max: -1.000/0.955, v_prim min/max: -1.000/1.000\n",
      "q1 0.04542015492916107 0.0686313584446907\n",
      "q2 0.048228684812784195 0.07211501151323318\n",
      "z1 0.04387599974870682 0.06146752089262009\n",
      "z2 0.04007161781191826 0.05779851973056793\n"
     ]
    },
    {
     "name": "stderr",
     "output_type": "stream",
     "text": [
      "Epoch 1:  11%|█▏        | 10/87 [00:32<02:31,  1.97s/it]"
     ]
    },
    {
     "name": "stdout",
     "output_type": "stream",
     "text": [
      "v min/max: -1.000/0.918, v_prim min/max: -1.000/1.000\n",
      "q1 0.042660657316446304 0.06423477083444595\n",
      "q2 0.04706255719065666 0.07070509344339371\n",
      "z1 0.04297609627246857 0.06077836826443672\n",
      "z2 0.038100093603134155 0.054797232151031494\n"
     ]
    },
    {
     "name": "stderr",
     "output_type": "stream",
     "text": [
      "Epoch 1:  13%|█▎        | 11/87 [00:34<02:25,  1.91s/it]"
     ]
    },
    {
     "name": "stdout",
     "output_type": "stream",
     "text": [
      "v min/max: -1.000/0.930, v_prim min/max: -1.000/0.399\n",
      "q1 0.04441156983375549 0.06670274585485458\n",
      "q2 0.044551510363817215 0.0667138323187828\n",
      "z1 0.04071223735809326 0.05810965597629547\n",
      "z2 0.04028357192873955 0.05777008831501007\n"
     ]
    },
    {
     "name": "stderr",
     "output_type": "stream",
     "text": [
      "Epoch 1:  14%|█▍        | 12/87 [00:35<02:20,  1.87s/it]"
     ]
    },
    {
     "name": "stdout",
     "output_type": "stream",
     "text": [
      "v min/max: -1.000/1.000, v_prim min/max: -1.000/1.000\n",
      "q1 0.04424309730529785 0.06663677841424942\n",
      "q2 0.04551137238740921 0.06830444931983948\n",
      "z1 0.04242290183901787 0.0599965900182724\n",
      "z2 0.04061809554696083 0.05783890560269356\n"
     ]
    },
    {
     "name": "stderr",
     "output_type": "stream",
     "text": [
      "Epoch 1:  15%|█▍        | 13/87 [00:37<02:17,  1.86s/it]"
     ]
    },
    {
     "name": "stdout",
     "output_type": "stream",
     "text": [
      "v min/max: -1.000/0.244, v_prim min/max: -1.000/0.868\n",
      "q1 0.04540988802909851 0.06817932426929474\n",
      "q2 0.04076289385557175 0.0614745058119297\n",
      "z1 0.03628740459680557 0.0523422472178936\n",
      "z2 0.04134590923786163 0.05965377762913704\n"
     ]
    },
    {
     "name": "stderr",
     "output_type": "stream",
     "text": [
      "Epoch 1:  16%|█▌        | 14/87 [00:39<02:12,  1.81s/it]"
     ]
    },
    {
     "name": "stdout",
     "output_type": "stream",
     "text": [
      "v min/max: -1.000/0.398, v_prim min/max: -1.000/1.000\n",
      "q1 0.04636875167489052 0.06949955224990845\n",
      "q2 0.04568546265363693 0.06878628581762314\n",
      "z1 0.04164322465658188 0.05898061394691467\n",
      "z2 0.042397841811180115 0.061020348221063614\n"
     ]
    },
    {
     "name": "stderr",
     "output_type": "stream",
     "text": [
      "Epoch 1:  17%|█▋        | 15/87 [00:41<02:08,  1.78s/it]"
     ]
    },
    {
     "name": "stdout",
     "output_type": "stream",
     "text": [
      "v min/max: -1.000/0.636, v_prim min/max: -1.000/0.980\n",
      "q1 0.04489821940660477 0.06746814399957657\n",
      "q2 0.04384530335664749 0.06612718850374222\n",
      "z1 0.04014037549495697 0.057963911443948746\n",
      "z2 0.04106017202138901 0.059378527104854584\n"
     ]
    },
    {
     "name": "stderr",
     "output_type": "stream",
     "text": [
      "Epoch 1:  18%|█▊        | 16/87 [00:42<02:05,  1.77s/it]"
     ]
    },
    {
     "name": "stdout",
     "output_type": "stream",
     "text": [
      "v min/max: -1.000/0.082, v_prim min/max: -1.000/1.000\n",
      "q1 0.04689621925354004 0.0702509954571724\n",
      "q2 0.04556697607040405 0.06843995302915573\n",
      "z1 0.04335008189082146 0.06100285053253174\n",
      "z2 0.04344426095485687 0.06260329484939575\n"
     ]
    },
    {
     "name": "stderr",
     "output_type": "stream",
     "text": [
      "Epoch 1:  20%|█▉        | 17/87 [00:44<02:03,  1.76s/it]"
     ]
    },
    {
     "name": "stdout",
     "output_type": "stream",
     "text": [
      "v min/max: -1.000/0.745, v_prim min/max: -1.000/0.458\n",
      "q1 0.043296705931425095 0.0653182715177536\n",
      "q2 0.044617749750614166 0.06708838790655136\n",
      "z1 0.042104750871658325 0.0605405792593956\n",
      "z2 0.040255025029182434 0.05813930928707123\n"
     ]
    },
    {
     "name": "stderr",
     "output_type": "stream",
     "text": [
      "Epoch 1:  21%|██        | 18/87 [00:46<02:00,  1.75s/it]"
     ]
    },
    {
     "name": "stdout",
     "output_type": "stream",
     "text": [
      "v min/max: -1.000/0.972, v_prim min/max: -1.000/1.000\n",
      "q1 0.04371550306677818 0.06667424738407135\n",
      "q2 0.04537218436598778 0.06928858906030655\n",
      "z1 0.04383661597967148 0.06177954375743866\n",
      "z2 0.040336932986974716 0.0583329051733017\n"
     ]
    },
    {
     "name": "stderr",
     "output_type": "stream",
     "text": [
      "Epoch 1:  22%|██▏       | 19/87 [00:47<01:58,  1.74s/it]"
     ]
    },
    {
     "name": "stdout",
     "output_type": "stream",
     "text": [
      "v min/max: -1.000/0.317, v_prim min/max: -1.000/1.000\n",
      "q1 0.04358483850955963 0.06666125357151031\n",
      "q2 0.04476119205355644 0.06833169609308243\n",
      "z1 0.0427716001868248 0.060924287885427475\n",
      "z2 0.04046730697154999 0.05908385291695595\n"
     ]
    },
    {
     "name": "stderr",
     "output_type": "stream",
     "text": [
      "Epoch 1:  23%|██▎       | 20/87 [00:49<01:56,  1.74s/it]"
     ]
    },
    {
     "name": "stdout",
     "output_type": "stream",
     "text": [
      "v min/max: -1.000/0.921, v_prim min/max: -1.000/0.887\n",
      "q1 0.042630285024642944 0.0653378814458847\n",
      "q2 0.04250601306557655 0.06536877155303955\n",
      "z1 0.03894433006644249 0.05580338090658188\n",
      "z2 0.03737827390432358 0.05430001765489578\n"
     ]
    },
    {
     "name": "stderr",
     "output_type": "stream",
     "text": [
      "Epoch 1:  24%|██▍       | 21/87 [00:51<01:54,  1.74s/it]"
     ]
    },
    {
     "name": "stdout",
     "output_type": "stream",
     "text": [
      "v min/max: -1.000/0.569, v_prim min/max: -1.000/1.000\n",
      "q1 0.045552387833595276 0.07050418108701706\n",
      "q2 0.04598329961299896 0.07143743336200714\n",
      "z1 0.043659988790750504 0.06161486357450485\n",
      "z2 0.041882943361997604 0.06060323491692543\n"
     ]
    },
    {
     "name": "stderr",
     "output_type": "stream",
     "text": [
      "Epoch 1:  25%|██▌       | 22/87 [00:53<01:52,  1.72s/it]"
     ]
    },
    {
     "name": "stdout",
     "output_type": "stream",
     "text": [
      "v min/max: -1.000/0.999, v_prim min/max: -1.000/0.582\n",
      "q1 0.044709526002407074 0.06931455433368683\n",
      "q2 0.04481114074587822 0.06965707987546921\n",
      "z1 0.040291137993335724 0.05846736580133438\n",
      "z2 0.03960162773728371 0.057805269956588745\n"
     ]
    },
    {
     "name": "stderr",
     "output_type": "stream",
     "text": [
      "Epoch 1:  26%|██▋       | 23/87 [00:54<01:50,  1.72s/it]"
     ]
    },
    {
     "name": "stdout",
     "output_type": "stream",
     "text": [
      "v min/max: -1.000/1.000, v_prim min/max: -1.000/0.239\n",
      "q1 0.04469903185963631 0.0693957656621933\n",
      "q2 0.045944858342409134 0.07205411046743393\n",
      "z1 0.04056292772293091 0.059256117790937424\n",
      "z2 0.04226855933666229 0.05951699987053871\n"
     ]
    },
    {
     "name": "stderr",
     "output_type": "stream",
     "text": [
      "Epoch 1:  28%|██▊       | 24/87 [00:56<01:49,  1.74s/it]"
     ]
    },
    {
     "name": "stdout",
     "output_type": "stream",
     "text": [
      "v min/max: -1.000/0.544, v_prim min/max: -1.000/0.317\n",
      "q1 0.0463123545050621 0.07326057553291321\n",
      "q2 0.04469524696469307 0.07040578126907349\n",
      "z1 0.039188042283058167 0.057430002838373184\n",
      "z2 0.04074401035904884 0.059806641191244125\n"
     ]
    },
    {
     "name": "stderr",
     "output_type": "stream",
     "text": [
      "Epoch 1:  29%|██▊       | 25/87 [00:58<01:48,  1.76s/it]"
     ]
    },
    {
     "name": "stdout",
     "output_type": "stream",
     "text": [
      "v min/max: -1.000/1.000, v_prim min/max: -1.000/0.329\n",
      "q1 0.04346173256635666 0.06916658580303192\n",
      "q2 0.04609241709113121 0.07292645424604416\n",
      "z1 0.04176061227917671 0.06052304804325104\n",
      "z2 0.03927342966198921 0.05728049948811531\n"
     ]
    },
    {
     "name": "stderr",
     "output_type": "stream",
     "text": [
      "Epoch 1:  30%|██▉       | 26/87 [01:00<01:47,  1.76s/it]"
     ]
    },
    {
     "name": "stdout",
     "output_type": "stream",
     "text": [
      "v min/max: -1.000/0.568, v_prim min/max: -1.000/1.000\n",
      "q1 0.04374818876385689 0.07001709192991257\n",
      "q2 0.04380025714635849 0.07033469527959824\n",
      "z1 0.04263267666101456 0.06106023117899895\n",
      "z2 0.041619252413511276 0.06035064905881882\n"
     ]
    },
    {
     "name": "stderr",
     "output_type": "stream",
     "text": [
      "Epoch 1:  31%|███       | 27/87 [01:01<01:46,  1.77s/it]"
     ]
    },
    {
     "name": "stdout",
     "output_type": "stream",
     "text": [
      "v min/max: -0.999/0.802, v_prim min/max: -1.000/0.850\n",
      "q1 0.038745369762182236 0.06173047795891762\n",
      "q2 0.03887491300702095 0.0625292956829071\n",
      "z1 0.039308950304985046 0.05679890513420105\n",
      "z2 0.03787808120250702 0.05548544600605965\n"
     ]
    },
    {
     "name": "stderr",
     "output_type": "stream",
     "text": [
      "Epoch 1:  32%|███▏      | 28/87 [01:03<01:44,  1.77s/it]"
     ]
    },
    {
     "name": "stdout",
     "output_type": "stream",
     "text": [
      "v min/max: -1.000/0.885, v_prim min/max: -1.000/1.000\n",
      "q1 0.03620149567723274 0.05832648277282715\n",
      "q2 0.03940936550498009 0.06380156427621841\n",
      "z1 0.04098828136920929 0.05932696536183357\n",
      "z2 0.036793045699596405 0.05392629653215408\n"
     ]
    },
    {
     "name": "stderr",
     "output_type": "stream",
     "text": [
      "Epoch 1:  33%|███▎      | 29/87 [01:05<01:43,  1.78s/it]"
     ]
    },
    {
     "name": "stdout",
     "output_type": "stream",
     "text": [
      "v min/max: -1.000/0.451, v_prim min/max: -1.000/0.541\n",
      "q1 0.03730984777212143 0.060414496809244156\n",
      "q2 0.03889123350381851 0.06339478492736816\n",
      "z1 0.0413399264216423 0.060411158949136734\n",
      "z2 0.038765061646699905 0.057222552597522736\n"
     ]
    },
    {
     "name": "stderr",
     "output_type": "stream",
     "text": [
      "Epoch 1:  34%|███▍      | 30/87 [01:07<01:43,  1.81s/it]"
     ]
    },
    {
     "name": "stdout",
     "output_type": "stream",
     "text": [
      "v min/max: -1.000/0.245, v_prim min/max: -1.000/1.000\n",
      "q1 0.039369892328977585 0.06405999511480331\n",
      "q2 0.03954035043716431 0.06351426243782043\n",
      "z1 0.04237576946616173 0.0604165643453598\n",
      "z2 0.041168369352817535 0.06061044707894325\n"
     ]
    },
    {
     "name": "stderr",
     "output_type": "stream",
     "text": [
      "Epoch 1:  36%|███▌      | 31/87 [01:09<01:43,  1.85s/it]"
     ]
    },
    {
     "name": "stdout",
     "output_type": "stream",
     "text": [
      "v min/max: -1.000/0.609, v_prim min/max: -0.999/0.921\n",
      "q1 0.03917962685227394 0.06338800489902496\n",
      "q2 0.037687595933675766 0.06005892902612686\n",
      "z1 0.038615632802248 0.05558072775602341\n",
      "z2 0.040975235402584076 0.05986444652080536\n"
     ]
    },
    {
     "name": "stderr",
     "output_type": "stream",
     "text": [
      "Epoch 1:  37%|███▋      | 32/87 [01:11<01:41,  1.84s/it]"
     ]
    },
    {
     "name": "stdout",
     "output_type": "stream",
     "text": [
      "v min/max: -1.000/0.596, v_prim min/max: -1.000/0.415\n",
      "q1 0.04035966098308563 0.06499765068292618\n",
      "q2 0.041176870465278625 0.06623592227697372\n",
      "z1 0.041099488735198975 0.06043175607919693\n",
      "z2 0.04114086180925369 0.06000840291380882\n"
     ]
    },
    {
     "name": "stderr",
     "output_type": "stream",
     "text": [
      "Epoch 1:  38%|███▊      | 33/87 [01:13<01:39,  1.84s/it]"
     ]
    },
    {
     "name": "stdout",
     "output_type": "stream",
     "text": [
      "v min/max: -1.000/0.993, v_prim min/max: -1.000/0.730\n",
      "q1 0.040347300469875336 0.06472940742969513\n",
      "q2 0.04066360741853714 0.06515408307313919\n",
      "z1 0.0406918004155159 0.05946705862879753\n",
      "z2 0.04090818390250206 0.058928631246089935\n"
     ]
    },
    {
     "name": "stderr",
     "output_type": "stream",
     "text": [
      "Epoch 1:  39%|███▉      | 34/87 [01:14<01:36,  1.82s/it]"
     ]
    },
    {
     "name": "stdout",
     "output_type": "stream",
     "text": [
      "v min/max: -1.000/0.945, v_prim min/max: -1.000/1.000\n",
      "q1 0.04039817675948143 0.06462685763835907\n",
      "q2 0.03832676261663437 0.06062590330839157\n",
      "z1 0.03686939924955368 0.05427353456616402\n",
      "z2 0.039788734167814255 0.05817361921072006\n"
     ]
    },
    {
     "name": "stderr",
     "output_type": "stream",
     "text": [
      "Epoch 1:  40%|████      | 35/87 [01:16<01:32,  1.78s/it]"
     ]
    },
    {
     "name": "stdout",
     "output_type": "stream",
     "text": [
      "v min/max: -1.000/0.909, v_prim min/max: -1.000/1.000\n",
      "q1 0.04058041423559189 0.06432110071182251\n",
      "q2 0.04330163449048996 0.06926402449607849\n",
      "z1 0.04244335740804672 0.06159605830907822\n",
      "z2 0.03855399042367935 0.056541722267866135\n"
     ]
    },
    {
     "name": "stderr",
     "output_type": "stream",
     "text": [
      "Epoch 1:  41%|████▏     | 36/87 [01:18<01:30,  1.77s/it]"
     ]
    },
    {
     "name": "stdout",
     "output_type": "stream",
     "text": [
      "v min/max: -1.000/0.774, v_prim min/max: -1.000/0.686\n",
      "q1 0.04309482127428055 0.06854788959026337\n",
      "q2 0.041905537247657776 0.06653296947479248\n",
      "z1 0.039216428995132446 0.057714302092790604\n",
      "z2 0.04130256175994873 0.06009393930435181\n"
     ]
    },
    {
     "name": "stderr",
     "output_type": "stream",
     "text": [
      "Epoch 1:  43%|████▎     | 37/87 [01:20<01:28,  1.77s/it]"
     ]
    },
    {
     "name": "stdout",
     "output_type": "stream",
     "text": [
      "v min/max: -1.000/0.608, v_prim min/max: -1.000/0.963\n",
      "q1 0.04433625563979149 0.07026262581348419\n",
      "q2 0.04279167950153351 0.06799259036779404\n",
      "z1 0.040986355394124985 0.05981343239545822\n",
      "z2 0.04181516915559769 0.06151514872908592\n"
     ]
    },
    {
     "name": "stderr",
     "output_type": "stream",
     "text": [
      "Epoch 1:  44%|████▎     | 38/87 [01:21<01:26,  1.76s/it]"
     ]
    },
    {
     "name": "stdout",
     "output_type": "stream",
     "text": [
      "v min/max: -1.000/1.000, v_prim min/max: -1.000/0.339\n",
      "q1 0.041593439877033234 0.06587765365839005\n",
      "q2 0.04262782260775566 0.06749200075864792\n",
      "z1 0.040448371320962906 0.06008544936776161\n",
      "z2 0.04071111977100372 0.05884738266468048\n"
     ]
    },
    {
     "name": "stderr",
     "output_type": "stream",
     "text": [
      "Epoch 1:  45%|████▍     | 39/87 [01:23<01:24,  1.76s/it]"
     ]
    },
    {
     "name": "stdout",
     "output_type": "stream",
     "text": [
      "v min/max: -1.000/0.929, v_prim min/max: -1.000/0.627\n",
      "q1 0.04178081080317497 0.06602425128221512\n",
      "q2 0.04324256256222725 0.06839486211538315\n",
      "z1 0.04142208397388458 0.06142387166619301\n",
      "z2 0.04002872854471207 0.059172697365283966\n"
     ]
    },
    {
     "name": "stderr",
     "output_type": "stream",
     "text": [
      "Epoch 1:  46%|████▌     | 40/87 [01:25<01:22,  1.75s/it]"
     ]
    },
    {
     "name": "stdout",
     "output_type": "stream",
     "text": [
      "v min/max: -1.000/1.000, v_prim min/max: -1.000/0.840\n",
      "q1 0.04074952378869057 0.06483418494462967\n",
      "q2 0.03811929374933243 0.060638412833213806\n",
      "z1 0.03679080307483673 0.054354988038539886\n",
      "z2 0.04057386890053749 0.05923130735754967\n"
     ]
    },
    {
     "name": "stderr",
     "output_type": "stream",
     "text": [
      "Epoch 1:  47%|████▋     | 41/87 [01:26<01:20,  1.74s/it]"
     ]
    },
    {
     "name": "stdout",
     "output_type": "stream",
     "text": [
      "v min/max: -1.000/0.509, v_prim min/max: -1.000/1.000\n",
      "q1 0.04086583852767944 0.06487484276294708\n",
      "q2 0.04183115065097809 0.06666825711727142\n",
      "z1 0.04205852001905441 0.061372026801109314\n",
      "z2 0.040117036551237106 0.059566084295511246\n"
     ]
    },
    {
     "name": "stderr",
     "output_type": "stream",
     "text": [
      "Epoch 1:  48%|████▊     | 42/87 [01:28<01:18,  1.74s/it]"
     ]
    },
    {
     "name": "stdout",
     "output_type": "stream",
     "text": [
      "v min/max: -1.000/0.297, v_prim min/max: -1.000/1.000\n",
      "q1 0.042022205889225006 0.06686104089021683\n",
      "q2 0.04094213992357254 0.06506649404764175\n",
      "z1 0.03965892642736435 0.05859114229679108\n",
      "z2 0.04160185903310776 0.0620202012360096\n"
     ]
    },
    {
     "name": "stderr",
     "output_type": "stream",
     "text": [
      "Epoch 1:  49%|████▉     | 43/87 [01:30<01:19,  1.80s/it]"
     ]
    },
    {
     "name": "stdout",
     "output_type": "stream",
     "text": [
      "v min/max: -1.000/0.702, v_prim min/max: -1.000/0.697\n",
      "q1 0.040745943784713745 0.0647459626197815\n",
      "q2 0.0403779037296772 0.06412111967802048\n",
      "z1 0.04015451297163963 0.0590282678604126\n",
      "z2 0.040308065712451935 0.05980097874999046\n"
     ]
    },
    {
     "name": "stderr",
     "output_type": "stream",
     "text": [
      "Epoch 1:  51%|█████     | 44/87 [01:32<01:17,  1.81s/it]"
     ]
    },
    {
     "name": "stdout",
     "output_type": "stream",
     "text": [
      "v min/max: -1.000/0.269, v_prim min/max: -1.000/0.468\n",
      "q1 0.041035521775484085 0.06510259956121445\n",
      "q2 0.04134172946214676 0.0657099187374115\n",
      "z1 0.0404188334941864 0.0602513812482357\n",
      "z2 0.03984993323683739 0.059925612062215805\n"
     ]
    },
    {
     "name": "stderr",
     "output_type": "stream",
     "text": [
      "Epoch 1:  52%|█████▏    | 45/87 [01:34<01:15,  1.81s/it]"
     ]
    },
    {
     "name": "stdout",
     "output_type": "stream",
     "text": [
      "v min/max: -1.000/1.000, v_prim min/max: -1.000/0.785\n",
      "q1 0.04125990718603134 0.06626413017511368\n",
      "q2 0.04210405424237251 0.06695964932441711\n",
      "z1 0.041048336774110794 0.06088878959417343\n",
      "z2 0.0409177765250206 0.05989649519324303\n"
     ]
    },
    {
     "name": "stderr",
     "output_type": "stream",
     "text": [
      "Epoch 1:  53%|█████▎    | 46/87 [01:36<01:14,  1.81s/it]"
     ]
    },
    {
     "name": "stdout",
     "output_type": "stream",
     "text": [
      "v min/max: -1.000/0.331, v_prim min/max: -1.000/1.000\n",
      "q1 0.041603103280067444 0.06589862704277039\n",
      "q2 0.04241761192679405 0.06782947480678558\n",
      "z1 0.040727198123931885 0.060503870248794556\n",
      "z2 0.03903405740857124 0.058587200939655304\n"
     ]
    },
    {
     "name": "stderr",
     "output_type": "stream",
     "text": [
      "Epoch 1:  54%|█████▍    | 47/87 [01:37<01:11,  1.78s/it]"
     ]
    },
    {
     "name": "stdout",
     "output_type": "stream",
     "text": [
      "v min/max: -1.000/1.000, v_prim min/max: -1.000/0.270\n",
      "q1 0.04233136028051376 0.0679166167974472\n",
      "q2 0.04297975078225136 0.06819545477628708\n",
      "z1 0.04057735949754715 0.06105181574821472\n",
      "z2 0.040636010468006134 0.05958747863769531\n"
     ]
    },
    {
     "name": "stderr",
     "output_type": "stream",
     "text": [
      "Epoch 1:  55%|█████▌    | 48/87 [01:39<01:10,  1.81s/it]"
     ]
    },
    {
     "name": "stdout",
     "output_type": "stream",
     "text": [
      "v min/max: -1.000/0.315, v_prim min/max: -1.000/1.000\n",
      "q1 0.04344603419303894 0.06881356984376907\n",
      "q2 0.04311252385377884 0.06891993433237076\n",
      "z1 0.041491322219371796 0.0612676776945591\n",
      "z2 0.04070916771888733 0.06115962564945221\n"
     ]
    },
    {
     "name": "stderr",
     "output_type": "stream",
     "text": [
      "Epoch 1:  56%|█████▋    | 49/87 [01:41<01:09,  1.82s/it]"
     ]
    },
    {
     "name": "stdout",
     "output_type": "stream",
     "text": [
      "v min/max: -1.000/0.925, v_prim min/max: -1.000/0.840\n",
      "q1 0.043788716197013855 0.06981009244918823\n",
      "q2 0.040552400052547455 0.06491006910800934\n",
      "z1 0.03797463700175285 0.05640487000346184\n",
      "z2 0.04062510281801224 0.06086264178156853\n"
     ]
    },
    {
     "name": "stderr",
     "output_type": "stream",
     "text": [
      "Epoch 1:  57%|█████▋    | 50/87 [01:43<01:06,  1.79s/it]"
     ]
    },
    {
     "name": "stdout",
     "output_type": "stream",
     "text": [
      "v min/max: -1.000/1.000, v_prim min/max: -1.000/1.000\n",
      "q1 0.044646382331848145 0.07103767991065979\n",
      "q2 0.044817496091127396 0.07121865451335907\n",
      "z1 0.04183205962181091 0.06144553795456886\n",
      "z2 0.04209784418344498 0.06166306510567665\n"
     ]
    },
    {
     "name": "stderr",
     "output_type": "stream",
     "text": [
      "Epoch 1:  59%|█████▊    | 51/87 [01:45<01:04,  1.80s/it]"
     ]
    },
    {
     "name": "stdout",
     "output_type": "stream",
     "text": [
      "v min/max: -1.000/1.000, v_prim min/max: -1.000/1.000\n",
      "q1 0.04378536343574524 0.07015275955200195\n",
      "q2 0.044032786041498184 0.0704558938741684\n",
      "z1 0.040989309549331665 0.060262832790613174\n",
      "z2 0.04053766280412674 0.059675462543964386\n"
     ]
    },
    {
     "name": "stderr",
     "output_type": "stream",
     "text": [
      "Epoch 1:  60%|█████▉    | 52/87 [01:47<01:04,  1.84s/it]"
     ]
    },
    {
     "name": "stdout",
     "output_type": "stream",
     "text": [
      "v min/max: -0.999/0.984, v_prim min/max: -1.000/1.000\n",
      "q1 0.04555521160364151 0.07269307225942612\n",
      "q2 0.04639241844415665 0.074000783264637\n",
      "z1 0.04071497544646263 0.06052413955330849\n",
      "z2 0.04053853824734688 0.059934113174676895\n"
     ]
    },
    {
     "name": "stderr",
     "output_type": "stream",
     "text": [
      "Epoch 1:  61%|██████    | 53/87 [01:48<01:02,  1.83s/it]"
     ]
    },
    {
     "name": "stdout",
     "output_type": "stream",
     "text": [
      "v min/max: -1.000/0.837, v_prim min/max: -1.000/0.102\n",
      "q1 0.048585955053567886 0.0775132104754448\n",
      "q2 0.04848180711269379 0.07651042938232422\n",
      "z1 0.0395658016204834 0.05974588543176651\n",
      "z2 0.04100652039051056 0.061496809124946594\n"
     ]
    },
    {
     "name": "stderr",
     "output_type": "stream",
     "text": [
      "Epoch 1:  62%|██████▏   | 54/87 [01:50<01:00,  1.82s/it]"
     ]
    },
    {
     "name": "stdout",
     "output_type": "stream",
     "text": [
      "v min/max: -1.000/0.904, v_prim min/max: -1.000/1.000\n",
      "q1 0.04333648830652237 0.07027937471866608\n",
      "q2 0.046753183007240295 0.07538486272096634\n",
      "z1 0.04053068906068802 0.060379575937986374\n",
      "z2 0.03690405189990997 0.05562608689069748\n"
     ]
    },
    {
     "name": "stderr",
     "output_type": "stream",
     "text": [
      "Epoch 1:  63%|██████▎   | 55/87 [01:52<00:58,  1.82s/it]"
     ]
    },
    {
     "name": "stdout",
     "output_type": "stream",
     "text": [
      "v min/max: -1.000/0.653, v_prim min/max: -1.000/0.916\n",
      "q1 0.047979965806007385 0.07665941119194031\n",
      "q2 0.046499695628881454 0.07457136362791061\n",
      "z1 0.03970940411090851 0.059412501752376556\n",
      "z2 0.04021940380334854 0.06061568483710289\n"
     ]
    },
    {
     "name": "stderr",
     "output_type": "stream",
     "text": [
      "Epoch 1:  64%|██████▍   | 56/87 [01:54<00:54,  1.77s/it]"
     ]
    },
    {
     "name": "stdout",
     "output_type": "stream",
     "text": [
      "v min/max: -1.000/0.756, v_prim min/max: -1.000/0.268\n",
      "q1 0.04860803484916687 0.07763954252004623\n",
      "q2 0.04895859211683273 0.07727503776550293\n",
      "z1 0.03988509252667427 0.060263291001319885\n",
      "z2 0.040898315608501434 0.06113320216536522\n"
     ]
    },
    {
     "name": "stderr",
     "output_type": "stream",
     "text": [
      "Epoch 1:  66%|██████▌   | 57/87 [01:55<00:53,  1.79s/it]"
     ]
    },
    {
     "name": "stdout",
     "output_type": "stream",
     "text": [
      "v min/max: -1.000/0.100, v_prim min/max: -1.000/0.962\n",
      "q1 0.05095577985048294 0.08022622764110565\n",
      "q2 0.04683012142777443 0.07507367432117462\n",
      "z1 0.04015062376856804 0.06008622422814369\n",
      "z2 0.04159720987081528 0.06285388022661209\n"
     ]
    },
    {
     "name": "stderr",
     "output_type": "stream",
     "text": [
      "Epoch 1:  67%|██████▋   | 58/87 [01:57<00:52,  1.81s/it]"
     ]
    },
    {
     "name": "stdout",
     "output_type": "stream",
     "text": [
      "v min/max: -1.000/0.106, v_prim min/max: -1.000/0.902\n",
      "q1 0.05034976080060005 0.07901474833488464\n",
      "q2 0.047343336045742035 0.07495385408401489\n",
      "z1 0.04029027745127678 0.060333091765642166\n",
      "z2 0.041376467794179916 0.06258819252252579\n"
     ]
    },
    {
     "name": "stderr",
     "output_type": "stream",
     "text": [
      "Epoch 1:  68%|██████▊   | 59/87 [01:59<00:52,  1.86s/it]"
     ]
    },
    {
     "name": "stdout",
     "output_type": "stream",
     "text": [
      "v min/max: -1.000/1.000, v_prim min/max: -1.000/0.723\n",
      "q1 0.04402211681008339 0.07015247642993927\n",
      "q2 0.04826297610998154 0.07605204731225967\n",
      "z1 0.04121723771095276 0.06220553442835808\n",
      "z2 0.03933490812778473 0.05882349610328674\n"
     ]
    },
    {
     "name": "stderr",
     "output_type": "stream",
     "text": [
      "Epoch 1:  69%|██████▉   | 60/87 [02:01<00:52,  1.93s/it]"
     ]
    },
    {
     "name": "stdout",
     "output_type": "stream",
     "text": [
      "v min/max: -1.000/0.831, v_prim min/max: -1.000/0.883\n",
      "q1 0.04448084160685539 0.07027623802423477\n",
      "q2 0.047263212502002716 0.07428698241710663\n",
      "z1 0.04128274321556091 0.06256058067083359\n",
      "z2 0.03986981511116028 0.059823885560035706\n"
     ]
    },
    {
     "name": "stderr",
     "output_type": "stream",
     "text": [
      "Epoch 1:  70%|███████   | 61/87 [02:03<00:50,  1.94s/it]"
     ]
    },
    {
     "name": "stdout",
     "output_type": "stream",
     "text": [
      "v min/max: -1.000/0.728, v_prim min/max: -1.000/1.000\n",
      "q1 0.045923564583063126 0.07210025191307068\n",
      "q2 0.04520474746823311 0.07116101682186127\n",
      "z1 0.04250234737992287 0.06307316571474075\n",
      "z2 0.040956299751996994 0.06187538802623749\n"
     ]
    },
    {
     "name": "stderr",
     "output_type": "stream",
     "text": [
      "Epoch 1:  71%|███████▏  | 62/87 [02:05<00:47,  1.92s/it]"
     ]
    },
    {
     "name": "stdout",
     "output_type": "stream",
     "text": [
      "v min/max: -1.000/1.000, v_prim min/max: -1.000/1.000\n",
      "q1 0.04434897005558014 0.06907464563846588\n",
      "q2 0.04201595112681389 0.06574033200740814\n",
      "z1 0.038304589688777924 0.05798007547855377\n",
      "z2 0.04003565385937691 0.06049831211566925\n"
     ]
    },
    {
     "name": "stderr",
     "output_type": "stream",
     "text": [
      "Epoch 1:  72%|███████▏  | 63/87 [02:07<00:46,  1.93s/it]"
     ]
    },
    {
     "name": "stdout",
     "output_type": "stream",
     "text": [
      "v min/max: -1.000/1.000, v_prim min/max: -1.000/0.781\n",
      "q1 0.04315871000289917 0.06737371534109116\n",
      "q2 0.04441815987229347 0.06900176405906677\n",
      "z1 0.04046306014060974 0.06103198602795601\n",
      "z2 0.04060547426342964 0.0610126331448555\n"
     ]
    },
    {
     "name": "stderr",
     "output_type": "stream",
     "text": [
      "Epoch 1:  74%|███████▎  | 64/87 [02:09<00:44,  1.92s/it]"
     ]
    },
    {
     "name": "stdout",
     "output_type": "stream",
     "text": [
      "v min/max: -1.000/0.884, v_prim min/max: -1.000/0.766\n",
      "q1 0.04105548560619354 0.06370659172534943\n",
      "q2 0.043467819690704346 0.0679110512137413\n",
      "z1 0.03976311534643173 0.059800319373607635\n",
      "z2 0.03719812631607056 0.056206848472356796\n"
     ]
    },
    {
     "name": "stderr",
     "output_type": "stream",
     "text": [
      "Epoch 1:  75%|███████▍  | 65/87 [02:11<00:41,  1.90s/it]"
     ]
    },
    {
     "name": "stdout",
     "output_type": "stream",
     "text": [
      "v min/max: -1.000/0.411, v_prim min/max: -1.000/0.780\n",
      "q1 0.046058885753154755 0.07102926075458527\n",
      "q2 0.04551052302122116 0.07078472524881363\n",
      "z1 0.04092409834265709 0.062025465071201324\n",
      "z2 0.04082900658249855 0.062021344900131226\n"
     ]
    },
    {
     "name": "stderr",
     "output_type": "stream",
     "text": [
      "Epoch 1:  76%|███████▌  | 66/87 [02:13<00:39,  1.88s/it]"
     ]
    },
    {
     "name": "stdout",
     "output_type": "stream",
     "text": [
      "v min/max: -1.000/0.750, v_prim min/max: -1.000/0.831\n",
      "q1 0.042847950011491776 0.06659094989299774\n",
      "q2 0.04049283266067505 0.06294095516204834\n",
      "z1 0.0371864028275013 0.05645142123103142\n",
      "z2 0.039075519889593124 0.059367239475250244\n"
     ]
    },
    {
     "name": "stderr",
     "output_type": "stream",
     "text": [
      "Epoch 1:  77%|███████▋  | 67/87 [02:15<00:37,  1.86s/it]"
     ]
    },
    {
     "name": "stdout",
     "output_type": "stream",
     "text": [
      "v min/max: -1.000/0.952, v_prim min/max: -1.000/0.678\n",
      "q1 0.042684156447649 0.06699687242507935\n",
      "q2 0.04459802433848381 0.06963291764259338\n",
      "z1 0.0416334792971611 0.06327623873949051\n",
      "z2 0.04026056081056595 0.060925837606191635\n"
     ]
    },
    {
     "name": "stderr",
     "output_type": "stream",
     "text": [
      "Epoch 1:  78%|███████▊  | 68/87 [02:16<00:35,  1.86s/it]"
     ]
    },
    {
     "name": "stdout",
     "output_type": "stream",
     "text": [
      "v min/max: -1.000/0.967, v_prim min/max: -1.000/1.000\n",
      "q1 0.041591886430978775 0.06548254936933517\n",
      "q2 0.04263308271765709 0.06748821586370468\n",
      "z1 0.0414438396692276 0.06242451071739197\n",
      "z2 0.040021587163209915 0.06050512194633484\n"
     ]
    },
    {
     "name": "stderr",
     "output_type": "stream",
     "text": [
      "Epoch 1:  79%|███████▉  | 69/87 [02:18<00:33,  1.84s/it]"
     ]
    },
    {
     "name": "stdout",
     "output_type": "stream",
     "text": [
      "v min/max: -1.000/0.631, v_prim min/max: -1.000/1.000\n",
      "q1 0.04258035868406296 0.06699637323617935\n",
      "q2 0.041132811456918716 0.06561071425676346\n",
      "z1 0.041378483176231384 0.06163042411208153\n",
      "z2 0.04063514247536659 0.06160407513380051\n"
     ]
    },
    {
     "name": "stderr",
     "output_type": "stream",
     "text": [
      "Epoch 1:  80%|████████  | 70/87 [02:20<00:31,  1.84s/it]"
     ]
    },
    {
     "name": "stdout",
     "output_type": "stream",
     "text": [
      "v min/max: -1.000/0.627, v_prim min/max: -1.000/1.000\n",
      "q1 0.04197629913687706 0.06582877039909363\n",
      "q2 0.04178931564092636 0.06582847237586975\n",
      "z1 0.04022638127207756 0.06052490323781967\n",
      "z2 0.03977109491825104 0.06014095991849899\n"
     ]
    },
    {
     "name": "stderr",
     "output_type": "stream",
     "text": [
      "Epoch 1:  82%|████████▏ | 71/87 [02:22<00:29,  1.86s/it]"
     ]
    },
    {
     "name": "stdout",
     "output_type": "stream",
     "text": [
      "v min/max: -1.000/1.000, v_prim min/max: -1.000/1.000\n",
      "q1 0.04222458228468895 0.06670413166284561\n",
      "q2 0.04188080132007599 0.06718903034925461\n",
      "z1 0.04064552113413811 0.061182428151369095\n",
      "z2 0.03979373723268509 0.0602969154715538\n"
     ]
    },
    {
     "name": "stderr",
     "output_type": "stream",
     "text": [
      "Epoch 1:  83%|████████▎ | 72/87 [02:24<00:27,  1.85s/it]"
     ]
    },
    {
     "name": "stdout",
     "output_type": "stream",
     "text": [
      "v min/max: -0.999/0.618, v_prim min/max: -1.000/1.000\n",
      "q1 0.04117491841316223 0.06584841758012772\n",
      "q2 0.04235707223415375 0.0684150904417038\n",
      "z1 0.04110172390937805 0.061529699712991714\n",
      "z2 0.037449754774570465 0.05732756480574608\n"
     ]
    },
    {
     "name": "stderr",
     "output_type": "stream",
     "text": [
      "Epoch 1:  84%|████████▍ | 73/87 [02:25<00:25,  1.81s/it]"
     ]
    },
    {
     "name": "stdout",
     "output_type": "stream",
     "text": [
      "v min/max: -1.000/1.000, v_prim min/max: -1.000/0.976\n",
      "q1 0.04338113218545914 0.06992116570472717\n",
      "q2 0.04177355393767357 0.06728824228048325\n",
      "z1 0.03883243724703789 0.058350179344415665\n",
      "z2 0.04078042134642601 0.06136289983987808\n"
     ]
    },
    {
     "name": "stderr",
     "output_type": "stream",
     "text": [
      "Epoch 1:  85%|████████▌ | 74/87 [02:27<00:23,  1.78s/it]"
     ]
    },
    {
     "name": "stdout",
     "output_type": "stream",
     "text": [
      "v min/max: -1.000/0.540, v_prim min/max: -1.000/0.635\n",
      "q1 0.04476400464773178 0.07218392193317413\n",
      "q2 0.04555901512503624 0.07340865582227707\n",
      "z1 0.04073090851306915 0.06193755194544792\n",
      "z2 0.04039136692881584 0.06127355247735977\n"
     ]
    },
    {
     "name": "stderr",
     "output_type": "stream",
     "text": [
      "Epoch 1:  86%|████████▌ | 75/87 [02:29<00:21,  1.77s/it]"
     ]
    },
    {
     "name": "stdout",
     "output_type": "stream",
     "text": [
      "v min/max: -1.000/1.000, v_prim min/max: -1.000/1.000\n",
      "q1 0.04560166224837303 0.07324549555778503\n",
      "q2 0.04608664661645889 0.07463380694389343\n",
      "z1 0.04192022234201431 0.06284085661172867\n",
      "z2 0.04084782302379608 0.06139925867319107\n"
     ]
    },
    {
     "name": "stderr",
     "output_type": "stream",
     "text": [
      "Epoch 1:  87%|████████▋ | 76/87 [02:31<00:19,  1.77s/it]"
     ]
    },
    {
     "name": "stdout",
     "output_type": "stream",
     "text": [
      "v min/max: -1.000/1.000, v_prim min/max: -1.000/0.854\n",
      "q1 0.0460379496216774 0.07464698702096939\n",
      "q2 0.04616640508174896 0.07459504902362823\n",
      "z1 0.0400780588388443 0.061213038861751556\n",
      "z2 0.041115473955869675 0.06187165901064873\n"
     ]
    },
    {
     "name": "stderr",
     "output_type": "stream",
     "text": [
      "Epoch 1:  89%|████████▊ | 77/87 [02:33<00:18,  1.82s/it]"
     ]
    },
    {
     "name": "stdout",
     "output_type": "stream",
     "text": [
      "v min/max: -1.000/0.331, v_prim min/max: -1.000/0.275\n",
      "q1 0.04635408893227577 0.07438585162162781\n",
      "q2 0.04968518763780594 0.07949124276638031\n",
      "z1 0.042157769203186035 0.06443608552217484\n",
      "z2 0.038953106850385666 0.05982024595141411\n"
     ]
    },
    {
     "name": "stderr",
     "output_type": "stream",
     "text": [
      "Epoch 1:  90%|████████▉ | 78/87 [02:35<00:16,  1.84s/it]"
     ]
    },
    {
     "name": "stdout",
     "output_type": "stream",
     "text": [
      "v min/max: -1.000/0.993, v_prim min/max: -1.000/0.786\n",
      "q1 0.045586444437503815 0.0734718069434166\n",
      "q2 0.04599640890955925 0.07380735129117966\n",
      "z1 0.04014716297388077 0.06094738468527794\n",
      "z2 0.039784062653779984 0.06021485850214958\n"
     ]
    },
    {
     "name": "stderr",
     "output_type": "stream",
     "text": [
      "Epoch 1:  91%|█████████ | 79/87 [02:36<00:14,  1.87s/it]"
     ]
    },
    {
     "name": "stdout",
     "output_type": "stream",
     "text": [
      "v min/max: -1.000/0.412, v_prim min/max: -1.000/0.311\n",
      "q1 0.046113643795251846 0.07325226813554764\n",
      "q2 0.04711328446865082 0.07470550388097763\n",
      "z1 0.04061272367835045 0.06194863095879555\n",
      "z2 0.03952014818787575 0.06035669520497322\n"
     ]
    },
    {
     "name": "stderr",
     "output_type": "stream",
     "text": [
      "Epoch 1:  92%|█████████▏| 80/87 [02:38<00:12,  1.84s/it]"
     ]
    },
    {
     "name": "stdout",
     "output_type": "stream",
     "text": [
      "v min/max: -1.000/1.000, v_prim min/max: -1.000/1.000\n",
      "q1 0.046036381274461746 0.07332435995340347\n",
      "q2 0.04620559513568878 0.07377995550632477\n",
      "z1 0.04139263182878494 0.06269793212413788\n",
      "z2 0.04087879881262779 0.062302082777023315\n"
     ]
    },
    {
     "name": "stderr",
     "output_type": "stream",
     "text": [
      "Epoch 1:  93%|█████████▎| 81/87 [02:40<00:10,  1.82s/it]"
     ]
    },
    {
     "name": "stdout",
     "output_type": "stream",
     "text": [
      "v min/max: -1.000/0.909, v_prim min/max: -1.000/0.820\n",
      "q1 0.042426947504282 0.06710579991340637\n",
      "q2 0.04414405673742294 0.07009126991033554\n",
      "z1 0.04053361713886261 0.06194720417261124\n",
      "z2 0.037186410278081894 0.05719230696558952\n"
     ]
    },
    {
     "name": "stderr",
     "output_type": "stream",
     "text": [
      "Epoch 1:  94%|█████████▍| 82/87 [02:42<00:09,  1.80s/it]"
     ]
    },
    {
     "name": "stdout",
     "output_type": "stream",
     "text": [
      "v min/max: -1.000/0.546, v_prim min/max: -1.000/1.000\n",
      "q1 0.04378553479909897 0.06881890445947647\n",
      "q2 0.042416296899318695 0.06859731674194336\n",
      "z1 0.03782733902335167 0.05810323730111122\n",
      "z2 0.03978310152888298 0.060938142240047455\n"
     ]
    },
    {
     "name": "stderr",
     "output_type": "stream",
     "text": [
      "Epoch 1:  95%|█████████▌| 83/87 [02:44<00:07,  1.81s/it]"
     ]
    },
    {
     "name": "stdout",
     "output_type": "stream",
     "text": [
      "v min/max: -1.000/0.396, v_prim min/max: -1.000/0.495\n",
      "q1 0.04393955320119858 0.0688653215765953\n",
      "q2 0.04430290311574936 0.06951557099819183\n",
      "z1 0.040501367300748825 0.06241316348314285\n",
      "z2 0.04048450291156769 0.062186628580093384\n"
     ]
    },
    {
     "name": "stderr",
     "output_type": "stream",
     "text": [
      "Epoch 1:  97%|█████████▋| 84/87 [02:45<00:05,  1.79s/it]"
     ]
    },
    {
     "name": "stdout",
     "output_type": "stream",
     "text": [
      "v min/max: -1.000/0.997, v_prim min/max: -0.999/0.990\n",
      "q1 0.04253434017300606 0.06731089949607849\n",
      "q2 0.043107736855745316 0.06914578378200531\n",
      "z1 0.03942245617508888 0.059724416583776474\n",
      "z2 0.03864370286464691 0.05945122614502907\n"
     ]
    },
    {
     "name": "stderr",
     "output_type": "stream",
     "text": [
      "Epoch 1:  98%|█████████▊| 85/87 [02:47<00:03,  1.79s/it]"
     ]
    },
    {
     "name": "stdout",
     "output_type": "stream",
     "text": [
      "v min/max: -1.000/0.504, v_prim min/max: -1.000/0.987\n",
      "q1 0.0441560260951519 0.06877399235963821\n",
      "q2 0.045120470225811005 0.07151024043560028\n",
      "z1 0.04138106107711792 0.063306525349617\n",
      "z2 0.03981327638030052 0.06128653138875961\n"
     ]
    },
    {
     "name": "stderr",
     "output_type": "stream",
     "text": [
      "Epoch 1:  99%|█████████▉| 86/87 [02:49<00:01,  1.81s/it]"
     ]
    },
    {
     "name": "stdout",
     "output_type": "stream",
     "text": [
      "v min/max: -1.000/0.948, v_prim min/max: -1.000/1.000\n",
      "q1 0.04613233730196953 0.07159048318862915\n",
      "q2 0.046215277165174484 0.07259990274906158\n",
      "z1 0.04240851476788521 0.06446200609207153\n",
      "z2 0.04029358550906181 0.061126939952373505\n"
     ]
    },
    {
     "name": "stderr",
     "output_type": "stream",
     "text": [
      "Epoch 1: 100%|██████████| 87/87 [02:50<00:00,  1.96s/it]\n"
     ]
    },
    {
     "name": "stdout",
     "output_type": "stream",
     "text": [
      "Epoch 1: BYOL training loss = 0.36728616\n"
     ]
    },
    {
     "name": "stderr",
     "output_type": "stream",
     "text": [
      "Epoch 2:   0%|          | 0/87 [00:00<?, ?it/s]"
     ]
    },
    {
     "name": "stdout",
     "output_type": "stream",
     "text": [
      "v min/max: -1.000/0.985, v_prim min/max: -1.000/0.704\n",
      "q1 0.0479399673640728 0.07517676800489426\n",
      "q2 0.04841729626059532 0.07477381080389023\n",
      "z1 0.04104311391711235 0.06287308037281036\n",
      "z2 0.04066801071166992 0.062171753495931625\n"
     ]
    },
    {
     "name": "stderr",
     "output_type": "stream",
     "text": [
      "Epoch 2:   1%|          | 1/87 [00:15<21:50, 15.24s/it]"
     ]
    },
    {
     "name": "stdout",
     "output_type": "stream",
     "text": [
      "v min/max: -1.000/1.000, v_prim min/max: -0.999/0.564\n",
      "q1 0.049566850066185 0.07739312946796417\n",
      "q2 0.04901375249028206 0.07576655596494675\n",
      "z1 0.04015124961733818 0.061580460518598557\n",
      "z2 0.04068256542086601 0.06227272376418114\n"
     ]
    },
    {
     "name": "stderr",
     "output_type": "stream",
     "text": [
      "Epoch 2:   2%|▏         | 2/87 [00:16<10:18,  7.28s/it]"
     ]
    },
    {
     "name": "stdout",
     "output_type": "stream",
     "text": [
      "v min/max: -1.000/0.890, v_prim min/max: -1.000/1.000\n",
      "q1 0.051678936928510666 0.08017382770776749\n",
      "q2 0.05028652772307396 0.07808012515306473\n",
      "z1 0.04040651023387909 0.06181268393993378\n",
      "z2 0.041044894605875015 0.06327912956476212\n"
     ]
    },
    {
     "name": "stderr",
     "output_type": "stream",
     "text": [
      "Epoch 2:   3%|▎         | 3/87 [00:18<06:38,  4.74s/it]"
     ]
    },
    {
     "name": "stdout",
     "output_type": "stream",
     "text": [
      "v min/max: -1.000/0.513, v_prim min/max: -1.000/0.576\n",
      "q1 0.05056540295481682 0.07816086709499359\n",
      "q2 0.05047815293073654 0.07810592651367188\n",
      "z1 0.03956464305520058 0.06073427572846413\n",
      "z2 0.03882584348320961 0.05992625281214714\n"
     ]
    },
    {
     "name": "stderr",
     "output_type": "stream",
     "text": [
      "Epoch 2:   5%|▍         | 4/87 [00:20<04:57,  3.58s/it]"
     ]
    },
    {
     "name": "stdout",
     "output_type": "stream",
     "text": [
      "v min/max: -1.000/1.000, v_prim min/max: -1.000/0.486\n",
      "q1 0.05128373205661774 0.08008316159248352\n",
      "q2 0.051298320293426514 0.07957399636507034\n",
      "z1 0.039843589067459106 0.06119021773338318\n",
      "z2 0.04040716588497162 0.06173352152109146\n"
     ]
    },
    {
     "name": "stderr",
     "output_type": "stream",
     "text": [
      "Epoch 2:   6%|▌         | 5/87 [00:22<04:00,  2.93s/it]"
     ]
    },
    {
     "name": "stdout",
     "output_type": "stream",
     "text": [
      "v min/max: -1.000/1.000, v_prim min/max: -1.000/1.000\n",
      "q1 0.05350096896290779 0.0834684669971466\n",
      "q2 0.050804153084754944 0.07909340411424637\n",
      "z1 0.04017382115125656 0.06126335635781288\n",
      "z2 0.040927909314632416 0.06345496326684952\n"
     ]
    },
    {
     "name": "stderr",
     "output_type": "stream",
     "text": [
      "Epoch 2:   7%|▋         | 6/87 [00:24<03:26,  2.55s/it]"
     ]
    },
    {
     "name": "stdout",
     "output_type": "stream",
     "text": [
      "v min/max: -0.995/0.728, v_prim min/max: -1.000/1.000\n",
      "q1 0.05067634955048561 0.07834643125534058\n",
      "q2 0.05328584462404251 0.08295941352844238\n",
      "z1 0.042087309062480927 0.06430235505104065\n",
      "z2 0.03907458111643791 0.060050081461668015\n"
     ]
    },
    {
     "name": "stderr",
     "output_type": "stream",
     "text": [
      "Epoch 2:   8%|▊         | 7/87 [00:25<03:03,  2.29s/it]"
     ]
    },
    {
     "name": "stdout",
     "output_type": "stream",
     "text": [
      "v min/max: -1.000/0.831, v_prim min/max: -1.000/0.941\n",
      "q1 0.05079846456646919 0.07885348051786423\n",
      "q2 0.04925568401813507 0.07710886001586914\n",
      "z1 0.03824806213378906 0.05920921638607979\n",
      "z2 0.039442285895347595 0.060587674379348755\n"
     ]
    },
    {
     "name": "stderr",
     "output_type": "stream",
     "text": [
      "Epoch 2:   9%|▉         | 8/87 [00:27<02:47,  2.12s/it]"
     ]
    },
    {
     "name": "stdout",
     "output_type": "stream",
     "text": [
      "v min/max: -1.000/1.000, v_prim min/max: -1.000/0.463\n",
      "q1 0.05171562731266022 0.08025408536195755\n",
      "q2 0.05130864679813385 0.07983529567718506\n",
      "z1 0.04038950800895691 0.06232800707221031\n",
      "z2 0.04082968831062317 0.06254828721284866\n"
     ]
    },
    {
     "name": "stderr",
     "output_type": "stream",
     "text": [
      "Epoch 2:  10%|█         | 9/87 [00:29<02:39,  2.04s/it]"
     ]
    },
    {
     "name": "stdout",
     "output_type": "stream",
     "text": [
      "v min/max: -1.000/1.000, v_prim min/max: -1.000/0.581\n",
      "q1 0.05186769738793373 0.08148873597383499\n",
      "q2 0.05081027373671532 0.07928305119276047\n",
      "z1 0.040312591940164566 0.06233395263552666\n",
      "z2 0.041574470698833466 0.06383119523525238\n"
     ]
    },
    {
     "name": "stderr",
     "output_type": "stream",
     "text": [
      "Epoch 2:  11%|█▏        | 10/87 [00:31<02:32,  1.98s/it]"
     ]
    },
    {
     "name": "stdout",
     "output_type": "stream",
     "text": [
      "v min/max: -1.000/1.000, v_prim min/max: -1.000/0.202\n",
      "q1 0.04956603795289993 0.07815802097320557\n",
      "q2 0.051248788833618164 0.07987850904464722\n",
      "z1 0.04157935455441475 0.06402212381362915\n",
      "z2 0.0398465096950531 0.061228156089782715\n"
     ]
    },
    {
     "name": "stderr",
     "output_type": "stream",
     "text": [
      "Epoch 2:  13%|█▎        | 11/87 [00:33<02:26,  1.92s/it]"
     ]
    },
    {
     "name": "stdout",
     "output_type": "stream",
     "text": [
      "v min/max: -1.000/1.000, v_prim min/max: -1.000/1.000\n",
      "q1 0.04867004603147507 0.07674802839756012\n",
      "q2 0.0489589087665081 0.07692226022481918\n",
      "z1 0.040903687477111816 0.06226921081542969\n",
      "z2 0.04083443433046341 0.06196494773030281\n"
     ]
    },
    {
     "name": "stderr",
     "output_type": "stream",
     "text": [
      "Epoch 2:  14%|█▍        | 12/87 [00:35<02:24,  1.93s/it]"
     ]
    },
    {
     "name": "stdout",
     "output_type": "stream",
     "text": [
      "v min/max: -1.000/0.836, v_prim min/max: -1.000/1.000\n",
      "q1 0.0499805249273777 0.07825799286365509\n",
      "q2 0.048461057245731354 0.07628651708364487\n",
      "z1 0.039442069828510284 0.06070201098918915\n",
      "z2 0.04073759913444519 0.06276771426200867\n"
     ]
    },
    {
     "name": "stderr",
     "output_type": "stream",
     "text": [
      "Epoch 2:  15%|█▍        | 13/87 [00:36<02:20,  1.89s/it]"
     ]
    },
    {
     "name": "stdout",
     "output_type": "stream",
     "text": [
      "v min/max: -1.000/1.000, v_prim min/max: -1.000/0.954\n",
      "q1 0.051093898713588715 0.08049722760915756\n",
      "q2 0.050961755216121674 0.0807500034570694\n",
      "z1 0.041510287672281265 0.06379859894514084\n",
      "z2 0.04127221181988716 0.06369975209236145\n"
     ]
    },
    {
     "name": "stderr",
     "output_type": "stream",
     "text": [
      "Epoch 2:  16%|█▌        | 14/87 [00:38<02:17,  1.88s/it]"
     ]
    },
    {
     "name": "stdout",
     "output_type": "stream",
     "text": [
      "v min/max: -0.996/0.759, v_prim min/max: -1.000/1.000\n",
      "q1 0.047426410019397736 0.07519983500242233\n",
      "q2 0.05124625936150551 0.08183443546295166\n",
      "z1 0.04171009734272957 0.06413215398788452\n",
      "z2 0.037277545779943466 0.058068763464689255\n"
     ]
    },
    {
     "name": "stderr",
     "output_type": "stream",
     "text": [
      "Epoch 2:  17%|█▋        | 15/87 [00:40<02:14,  1.86s/it]"
     ]
    },
    {
     "name": "stdout",
     "output_type": "stream",
     "text": [
      "v min/max: -1.000/1.000, v_prim min/max: -1.000/0.426\n",
      "q1 0.05237637087702751 0.08329404890537262\n",
      "q2 0.05413774773478508 0.08501404523849487\n",
      "z1 0.042208101600408554 0.06527768820524216\n",
      "z2 0.0420239120721817 0.06458054482936859\n"
     ]
    },
    {
     "name": "stderr",
     "output_type": "stream",
     "text": [
      "Epoch 2:  18%|█▊        | 16/87 [00:42<02:10,  1.84s/it]"
     ]
    },
    {
     "name": "stdout",
     "output_type": "stream",
     "text": [
      "v min/max: -1.000/0.949, v_prim min/max: -1.000/1.000\n",
      "q1 0.050333406776189804 0.08043958991765976\n",
      "q2 0.05377382040023804 0.08460158109664917\n",
      "z1 0.042224932461977005 0.06487588584423065\n",
      "z2 0.03949055075645447 0.061393484473228455\n"
     ]
    },
    {
     "name": "stderr",
     "output_type": "stream",
     "text": [
      "Epoch 2:  20%|█▉        | 17/87 [00:44<02:07,  1.83s/it]"
     ]
    },
    {
     "name": "stdout",
     "output_type": "stream",
     "text": [
      "v min/max: -1.000/0.255, v_prim min/max: -1.000/0.979\n",
      "q1 0.054269324988126755 0.0850059911608696\n",
      "q2 0.05340775102376938 0.08458448946475983\n",
      "z1 0.04179004207253456 0.06462759524583817\n",
      "z2 0.041397303342819214 0.06414312869310379\n"
     ]
    },
    {
     "name": "stderr",
     "output_type": "stream",
     "text": [
      "Epoch 2:  21%|██        | 18/87 [00:45<02:05,  1.83s/it]"
     ]
    },
    {
     "name": "stdout",
     "output_type": "stream",
     "text": [
      "v min/max: -1.000/1.000, v_prim min/max: -1.000/0.892\n",
      "q1 0.05167612433433533 0.0817757397890091\n",
      "q2 0.05354370176792145 0.08456685394048691\n",
      "z1 0.041711509227752686 0.06439367681741714\n",
      "z2 0.04106154665350914 0.06308532506227493\n"
     ]
    },
    {
     "name": "stderr",
     "output_type": "stream",
     "text": [
      "Epoch 2:  22%|██▏       | 19/87 [00:47<02:05,  1.85s/it]"
     ]
    },
    {
     "name": "stdout",
     "output_type": "stream",
     "text": [
      "v min/max: -1.000/0.087, v_prim min/max: -1.000/1.000\n",
      "q1 0.054712094366550446 0.08575741201639175\n",
      "q2 0.05248453468084335 0.08383823931217194\n",
      "z1 0.04185273125767708 0.06453973799943924\n",
      "z2 0.041080374270677567 0.06378907710313797\n"
     ]
    },
    {
     "name": "stderr",
     "output_type": "stream",
     "text": [
      "Epoch 2:  23%|██▎       | 20/87 [00:49<02:02,  1.83s/it]"
     ]
    },
    {
     "name": "stdout",
     "output_type": "stream",
     "text": [
      "v min/max: -1.000/0.618, v_prim min/max: -1.000/0.788\n",
      "q1 0.05444520711898804 0.08533795177936554\n",
      "q2 0.048760537058115005 0.07726406306028366\n",
      "z1 0.038269367069005966 0.059447307139635086\n",
      "z2 0.0419449508190155 0.06515617668628693\n"
     ]
    },
    {
     "name": "stderr",
     "output_type": "stream",
     "text": [
      "Epoch 2:  24%|██▍       | 21/87 [00:51<02:00,  1.83s/it]"
     ]
    },
    {
     "name": "stdout",
     "output_type": "stream",
     "text": [
      "v min/max: -1.000/0.665, v_prim min/max: -1.000/0.891\n",
      "q1 0.053304508328437805 0.08316515386104584\n",
      "q2 0.055882006883621216 0.08694186806678772\n",
      "z1 0.04354159161448479 0.0675811842083931\n",
      "z2 0.04184762388467789 0.06483994424343109\n"
     ]
    },
    {
     "name": "stderr",
     "output_type": "stream",
     "text": [
      "Epoch 2:  25%|██▌       | 22/87 [00:53<01:57,  1.80s/it]"
     ]
    },
    {
     "name": "stdout",
     "output_type": "stream",
     "text": [
      "v min/max: -1.000/1.000, v_prim min/max: -1.000/1.000\n",
      "q1 0.052436940371990204 0.0817519873380661\n",
      "q2 0.051238659769296646 0.08062192052602768\n",
      "z1 0.041650693863630295 0.06441003829240799\n",
      "z2 0.04153654724359512 0.06445755809545517\n"
     ]
    },
    {
     "name": "stderr",
     "output_type": "stream",
     "text": [
      "Epoch 2:  26%|██▋       | 23/87 [00:54<01:54,  1.79s/it]"
     ]
    },
    {
     "name": "stdout",
     "output_type": "stream",
     "text": [
      "v min/max: -1.000/0.354, v_prim min/max: -1.000/0.968\n",
      "q1 0.05455848574638367 0.08409619331359863\n",
      "q2 0.051355525851249695 0.0807485356926918\n",
      "z1 0.04225291311740875 0.06562912464141846\n",
      "z2 0.043168846517801285 0.06690271943807602\n"
     ]
    },
    {
     "name": "stderr",
     "output_type": "stream",
     "text": [
      "Epoch 2:  28%|██▊       | 24/87 [00:56<01:51,  1.78s/it]"
     ]
    },
    {
     "name": "stdout",
     "output_type": "stream",
     "text": [
      "v min/max: -1.000/1.000, v_prim min/max: -1.000/0.271\n",
      "q1 0.04895614832639694 0.07704441249370575\n",
      "q2 0.05372436344623566 0.08246207237243652\n",
      "z1 0.042827755212783813 0.0664219856262207\n",
      "z2 0.0412515252828598 0.06366297602653503\n"
     ]
    },
    {
     "name": "stderr",
     "output_type": "stream",
     "text": [
      "Epoch 2:  29%|██▊       | 25/87 [00:58<01:48,  1.76s/it]"
     ]
    },
    {
     "name": "stdout",
     "output_type": "stream",
     "text": [
      "v min/max: -1.000/0.522, v_prim min/max: -1.000/1.000\n",
      "q1 0.04917918145656586 0.0753641128540039\n",
      "q2 0.04805782809853554 0.07507713884115219\n",
      "z1 0.04156157746911049 0.06410760432481766\n",
      "z2 0.04017946496605873 0.06230611354112625\n"
     ]
    },
    {
     "name": "stderr",
     "output_type": "stream",
     "text": [
      "Epoch 2:  30%|██▉       | 26/87 [01:00<01:47,  1.76s/it]"
     ]
    },
    {
     "name": "stdout",
     "output_type": "stream",
     "text": [
      "v min/max: -1.000/0.959, v_prim min/max: -1.000/0.781\n",
      "q1 0.05039897933602333 0.07757849991321564\n",
      "q2 0.048810459673404694 0.07485727220773697\n",
      "z1 0.040399353951215744 0.0629095733165741\n",
      "z2 0.0424773246049881 0.06575743108987808\n"
     ]
    },
    {
     "name": "stderr",
     "output_type": "stream",
     "text": [
      "Epoch 2:  31%|███       | 27/87 [01:01<01:45,  1.75s/it]"
     ]
    },
    {
     "name": "stdout",
     "output_type": "stream",
     "text": [
      "v min/max: -1.000/0.765, v_prim min/max: -1.000/1.000\n",
      "q1 0.05162747949361801 0.07882443070411682\n",
      "q2 0.05023353546857834 0.07751327008008957\n",
      "z1 0.04298388212919235 0.06659356504678726\n",
      "z2 0.043050844222307205 0.06700208783149719\n"
     ]
    },
    {
     "name": "stderr",
     "output_type": "stream",
     "text": [
      "Epoch 2:  32%|███▏      | 28/87 [01:03<01:42,  1.73s/it]"
     ]
    },
    {
     "name": "stdout",
     "output_type": "stream",
     "text": [
      "v min/max: -1.000/1.000, v_prim min/max: -1.000/0.783\n",
      "q1 0.04766092449426651 0.07408319413661957\n",
      "q2 0.04983184486627579 0.0761118084192276\n",
      "z1 0.04257935285568237 0.06597714871168137\n",
      "z2 0.04315078631043434 0.0667424201965332\n"
     ]
    },
    {
     "name": "stderr",
     "output_type": "stream",
     "text": [
      "Epoch 2:  33%|███▎      | 29/87 [01:05<01:40,  1.73s/it]"
     ]
    },
    {
     "name": "stdout",
     "output_type": "stream",
     "text": [
      "v min/max: -1.000/0.933, v_prim min/max: -1.000/1.000\n",
      "q1 0.04456637054681778 0.06873826682567596\n",
      "q2 0.04939183592796326 0.07619330286979675\n",
      "z1 0.04351538047194481 0.06719036400318146\n",
      "z2 0.039074596017599106 0.060755129903554916\n"
     ]
    },
    {
     "name": "stderr",
     "output_type": "stream",
     "text": [
      "Epoch 2:  34%|███▍      | 30/87 [01:06<01:37,  1.71s/it]"
     ]
    },
    {
     "name": "stdout",
     "output_type": "stream",
     "text": [
      "v min/max: -1.000/0.603, v_prim min/max: -1.000/1.000\n",
      "q1 0.04858168214559555 0.07333293557167053\n",
      "q2 0.04727759584784508 0.07191045582294464\n",
      "z1 0.040393978357315063 0.06269120424985886\n",
      "z2 0.040507130324840546 0.06278036534786224\n"
     ]
    },
    {
     "name": "stderr",
     "output_type": "stream",
     "text": [
      "Epoch 2:  36%|███▌      | 31/87 [01:08<01:35,  1.71s/it]"
     ]
    },
    {
     "name": "stdout",
     "output_type": "stream",
     "text": [
      "v min/max: -1.000/0.926, v_prim min/max: -1.000/1.000\n",
      "q1 0.05189281702041626 0.07916955649852753\n",
      "q2 0.050103094428777695 0.07652662694454193\n",
      "z1 0.04247717931866646 0.06560379266738892\n",
      "z2 0.04300614446401596 0.06665579974651337\n"
     ]
    },
    {
     "name": "stderr",
     "output_type": "stream",
     "text": [
      "Epoch 2:  37%|███▋      | 32/87 [01:10<01:34,  1.72s/it]"
     ]
    },
    {
     "name": "stdout",
     "output_type": "stream",
     "text": [
      "v min/max: -1.000/0.704, v_prim min/max: -1.000/0.798\n",
      "q1 0.049297429621219635 0.07545451819896698\n",
      "q2 0.0482662096619606 0.07440092414617538\n",
      "z1 0.040396805852651596 0.06253138184547424\n",
      "z2 0.04094773158431053 0.06325321644544601\n"
     ]
    },
    {
     "name": "stderr",
     "output_type": "stream",
     "text": [
      "Epoch 2:  38%|███▊      | 33/87 [01:12<01:32,  1.71s/it]"
     ]
    },
    {
     "name": "stdout",
     "output_type": "stream",
     "text": [
      "v min/max: -1.000/0.546, v_prim min/max: -1.000/1.000\n",
      "q1 0.05289172753691673 0.08060071617364883\n",
      "q2 0.051767051219940186 0.07974429428577423\n",
      "z1 0.04291773959994316 0.0664098784327507\n",
      "z2 0.043084822595119476 0.06680894643068314\n"
     ]
    },
    {
     "name": "stderr",
     "output_type": "stream",
     "text": [
      "Epoch 2:  39%|███▉      | 34/87 [01:13<01:29,  1.69s/it]"
     ]
    },
    {
     "name": "stdout",
     "output_type": "stream",
     "text": [
      "v min/max: -1.000/1.000, v_prim min/max: -1.000/1.000\n",
      "q1 0.04891912639141083 0.07565297931432724\n",
      "q2 0.0488978773355484 0.0761694610118866\n",
      "z1 0.04314977675676346 0.06663844734430313\n",
      "z2 0.04241684824228287 0.06556710600852966\n"
     ]
    },
    {
     "name": "stderr",
     "output_type": "stream",
     "text": [
      "Epoch 2:  40%|████      | 35/87 [01:15<01:27,  1.69s/it]"
     ]
    },
    {
     "name": "stdout",
     "output_type": "stream",
     "text": [
      "v min/max: -1.000/0.697, v_prim min/max: -1.000/1.000\n",
      "q1 0.04698404669761658 0.07192788273096085\n",
      "q2 0.046837374567985535 0.07308237254619598\n",
      "z1 0.042737968266010284 0.06579264998435974\n",
      "z2 0.04070311039686203 0.06327591836452484\n"
     ]
    },
    {
     "name": "stderr",
     "output_type": "stream",
     "text": [
      "Epoch 2:  41%|████▏     | 36/87 [01:17<01:25,  1.67s/it]"
     ]
    },
    {
     "name": "stdout",
     "output_type": "stream",
     "text": [
      "v min/max: -1.000/0.745, v_prim min/max: -1.000/0.459\n",
      "q1 0.048078738152980804 0.07327714562416077\n",
      "q2 0.04936085268855095 0.07565365731716156\n",
      "z1 0.044019896537065506 0.06823942065238953\n",
      "z2 0.042542632669210434 0.06566005945205688\n"
     ]
    },
    {
     "name": "stderr",
     "output_type": "stream",
     "text": [
      "Epoch 2:  43%|████▎     | 37/87 [01:18<01:22,  1.65s/it]"
     ]
    },
    {
     "name": "stdout",
     "output_type": "stream",
     "text": [
      "v min/max: -1.000/1.000, v_prim min/max: -1.000/0.699\n",
      "q1 0.04559912532567978 0.07074012607336044\n",
      "q2 0.044559597969055176 0.06828980147838593\n",
      "z1 0.040209025144577026 0.06272570788860321\n",
      "z2 0.04105828329920769 0.06414112448692322\n"
     ]
    },
    {
     "name": "stderr",
     "output_type": "stream",
     "text": [
      "Epoch 2:  44%|████▎     | 38/87 [01:20<01:20,  1.65s/it]"
     ]
    },
    {
     "name": "stdout",
     "output_type": "stream",
     "text": [
      "v min/max: -1.000/1.000, v_prim min/max: -1.000/1.000\n",
      "q1 0.04511411488056183 0.06964265555143356\n",
      "q2 0.045892223715782166 0.07076691836118698\n",
      "z1 0.04332730919122696 0.06705310195684433\n",
      "z2 0.04238264635205269 0.06554864346981049\n"
     ]
    },
    {
     "name": "stderr",
     "output_type": "stream",
     "text": [
      "Epoch 2:  45%|████▍     | 39/87 [01:22<01:20,  1.68s/it]"
     ]
    },
    {
     "name": "stdout",
     "output_type": "stream",
     "text": [
      "v min/max: -1.000/1.000, v_prim min/max: -1.000/1.000\n",
      "q1 0.04539477452635765 0.0693976879119873\n",
      "q2 0.04593822360038757 0.07092466205358505\n",
      "z1 0.04336895793676376 0.06721235811710358\n",
      "z2 0.04278813302516937 0.06636683642864227\n"
     ]
    },
    {
     "name": "stderr",
     "output_type": "stream",
     "text": [
      "Epoch 2:  46%|████▌     | 40/87 [01:23<01:18,  1.68s/it]"
     ]
    },
    {
     "name": "stdout",
     "output_type": "stream",
     "text": [
      "v min/max: -1.000/0.849, v_prim min/max: -1.000/1.000\n",
      "q1 0.04292834550142288 0.06615827232599258\n",
      "q2 0.045223090797662735 0.07137113809585571\n",
      "z1 0.04177529737353325 0.06486194580793381\n",
      "z2 0.039429325610399246 0.061422500759363174\n"
     ]
    },
    {
     "name": "stderr",
     "output_type": "stream",
     "text": [
      "Epoch 2:  47%|████▋     | 41/87 [01:25<01:16,  1.67s/it]"
     ]
    },
    {
     "name": "stdout",
     "output_type": "stream",
     "text": [
      "v min/max: -1.000/0.371, v_prim min/max: -1.000/1.000\n",
      "q1 0.04447464272379875 0.0667436495423317\n",
      "q2 0.04704980552196503 0.07281655073165894\n",
      "z1 0.042762428522109985 0.06619337201118469\n",
      "z2 0.040222905576229095 0.06249295175075531\n"
     ]
    },
    {
     "name": "stderr",
     "output_type": "stream",
     "text": [
      "Epoch 2:  48%|████▊     | 42/87 [01:27<01:14,  1.66s/it]"
     ]
    },
    {
     "name": "stdout",
     "output_type": "stream",
     "text": [
      "v min/max: -1.000/0.664, v_prim min/max: -1.000/1.000\n",
      "q1 0.0477142371237278 0.07225997000932693\n",
      "q2 0.04723440855741501 0.07604178786277771\n",
      "z1 0.04015602543950081 0.06269517540931702\n",
      "z2 0.04203857481479645 0.06523099541664124\n"
     ]
    },
    {
     "name": "stderr",
     "output_type": "stream",
     "text": [
      "Epoch 2:  49%|████▉     | 43/87 [01:28<01:13,  1.68s/it]"
     ]
    },
    {
     "name": "stdout",
     "output_type": "stream",
     "text": [
      "v min/max: -1.000/0.757, v_prim min/max: -1.000/0.944\n",
      "q1 0.052613697946071625 0.07887262105941772\n",
      "q2 0.05102907121181488 0.08190617710351944\n",
      "z1 0.04202831909060478 0.06514257937669754\n",
      "z2 0.04408048465847969 0.06829812377691269\n"
     ]
    },
    {
     "name": "stderr",
     "output_type": "stream",
     "text": [
      "Epoch 2:  51%|█████     | 44/87 [01:30<01:11,  1.66s/it]"
     ]
    },
    {
     "name": "stdout",
     "output_type": "stream",
     "text": [
      "v min/max: -1.000/1.000, v_prim min/max: -1.000/1.000\n",
      "q1 0.051799021661281586 0.08146463334560394\n",
      "q2 0.051721736788749695 0.07982491701841354\n",
      "z1 0.04194699600338936 0.06469089537858963\n",
      "z2 0.04186077415943146 0.06480732560157776\n"
     ]
    },
    {
     "name": "stderr",
     "output_type": "stream",
     "text": [
      "Epoch 2:  52%|█████▏    | 45/87 [01:32<01:09,  1.66s/it]"
     ]
    },
    {
     "name": "stdout",
     "output_type": "stream",
     "text": [
      "v min/max: -1.000/0.311, v_prim min/max: -1.000/0.934\n",
      "q1 0.053858671337366104 0.07985726743936539\n",
      "q2 0.05362747982144356 0.08269337564706802\n",
      "z1 0.04183099418878555 0.06484568119049072\n",
      "z2 0.04224406182765961 0.06556397676467896\n"
     ]
    },
    {
     "name": "stderr",
     "output_type": "stream",
     "text": [
      "Epoch 2:  53%|█████▎    | 46/87 [01:33<01:09,  1.69s/it]"
     ]
    },
    {
     "name": "stdout",
     "output_type": "stream",
     "text": [
      "v min/max: -1.000/0.448, v_prim min/max: -1.000/0.865\n",
      "q1 0.05606827139854431 0.08296632021665573\n",
      "q2 0.055277079343795776 0.08458403497934341\n",
      "z1 0.04231700673699379 0.06548438221216202\n",
      "z2 0.041892945766448975 0.0648818239569664\n"
     ]
    },
    {
     "name": "stderr",
     "output_type": "stream",
     "text": [
      "Epoch 2:  54%|█████▍    | 47/87 [01:35<01:08,  1.72s/it]"
     ]
    },
    {
     "name": "stdout",
     "output_type": "stream",
     "text": [
      "v min/max: -1.000/0.521, v_prim min/max: -1.000/1.000\n",
      "q1 0.05715472996234894 0.08505318313837051\n",
      "q2 0.05890555679798126 0.08820895850658417\n",
      "z1 0.04322115704417229 0.06677094101905823\n",
      "z2 0.04155634716153145 0.06469336152076721\n"
     ]
    },
    {
     "name": "stderr",
     "output_type": "stream",
     "text": [
      "Epoch 2:  55%|█████▌    | 48/87 [01:37<01:06,  1.71s/it]"
     ]
    },
    {
     "name": "stdout",
     "output_type": "stream",
     "text": [
      "v min/max: -1.000/0.718, v_prim min/max: -1.000/0.270\n",
      "q1 0.056884411722421646 0.08503849059343338\n",
      "q2 0.060328129678964615 0.08910075575113297\n",
      "z1 0.04252903163433075 0.06601668149232864\n",
      "z2 0.04002102464437485 0.062026333063840866\n"
     ]
    },
    {
     "name": "stderr",
     "output_type": "stream",
     "text": [
      "Epoch 2:  56%|█████▋    | 49/87 [01:38<01:05,  1.71s/it]"
     ]
    },
    {
     "name": "stdout",
     "output_type": "stream",
     "text": [
      "v min/max: -1.000/0.883, v_prim min/max: -1.000/0.674\n",
      "q1 0.0577789731323719 0.08728659152984619\n",
      "q2 0.0610990971326828 0.09112343937158585\n",
      "z1 0.04267852008342743 0.06612572818994522\n",
      "z2 0.04027670621871948 0.06251724064350128\n"
     ]
    },
    {
     "name": "stderr",
     "output_type": "stream",
     "text": [
      "Epoch 2:  57%|█████▋    | 50/87 [01:40<01:03,  1.71s/it]"
     ]
    },
    {
     "name": "stdout",
     "output_type": "stream",
     "text": [
      "v min/max: -1.000/0.277, v_prim min/max: -1.000/1.000\n",
      "q1 0.06234199181199074 0.09210891276597977\n",
      "q2 0.06182243674993515 0.09332746267318726\n",
      "z1 0.042534228414297104 0.0661320835351944\n",
      "z2 0.04186910018324852 0.06507454812526703\n"
     ]
    },
    {
     "name": "stderr",
     "output_type": "stream",
     "text": [
      "Epoch 2:  59%|█████▊    | 51/87 [01:42<01:01,  1.70s/it]"
     ]
    },
    {
     "name": "stdout",
     "output_type": "stream",
     "text": [
      "v min/max: -1.000/1.000, v_prim min/max: -1.000/0.848\n",
      "q1 0.06439928710460663 0.09785743802785873\n",
      "q2 0.06475865840911865 0.09660450369119644\n",
      "z1 0.043380819261074066 0.06736935675144196\n",
      "z2 0.043632593005895615 0.06722103804349899\n"
     ]
    },
    {
     "name": "stderr",
     "output_type": "stream",
     "text": [
      "Epoch 2:  60%|█████▉    | 52/87 [01:44<00:59,  1.70s/it]"
     ]
    },
    {
     "name": "stdout",
     "output_type": "stream",
     "text": [
      "v min/max: -1.000/0.629, v_prim min/max: -1.000/1.000\n",
      "q1 0.06499826908111572 0.096298947930336\n",
      "q2 0.06535295397043228 0.09917355328798294\n",
      "z1 0.04399185627698898 0.06831509619951248\n",
      "z2 0.04198262840509415 0.06516603380441666\n"
     ]
    },
    {
     "name": "stderr",
     "output_type": "stream",
     "text": [
      "Epoch 2:  61%|██████    | 53/87 [01:45<00:57,  1.69s/it]"
     ]
    },
    {
     "name": "stdout",
     "output_type": "stream",
     "text": [
      "v min/max: -1.000/0.947, v_prim min/max: -1.000/1.000\n",
      "q1 0.06618812680244446 0.09945841133594513\n",
      "q2 0.06531530618667603 0.09832869470119476\n",
      "z1 0.04268580675125122 0.06626302003860474\n",
      "z2 0.04289472848176956 0.06689320504665375\n"
     ]
    },
    {
     "name": "stderr",
     "output_type": "stream",
     "text": [
      "Epoch 2:  62%|██████▏   | 54/87 [01:47<00:55,  1.67s/it]"
     ]
    },
    {
     "name": "stdout",
     "output_type": "stream",
     "text": [
      "v min/max: -1.000/1.000, v_prim min/max: -1.000/1.000\n",
      "q1 0.06924013793468475 0.1032133474946022\n",
      "q2 0.0713835284113884 0.10509447008371353\n",
      "z1 0.04529627040028572 0.06998305022716522\n",
      "z2 0.044641826301813126 0.06922687590122223\n"
     ]
    },
    {
     "name": "stderr",
     "output_type": "stream",
     "text": [
      "Epoch 2:  63%|██████▎   | 55/87 [01:49<00:53,  1.67s/it]"
     ]
    },
    {
     "name": "stdout",
     "output_type": "stream",
     "text": [
      "v min/max: -1.000/0.829, v_prim min/max: -1.000/1.000\n",
      "q1 0.06346792727708817 0.09540816396474838\n",
      "q2 0.06825409084558487 0.10170038044452667\n",
      "z1 0.043760910630226135 0.06750357151031494\n",
      "z2 0.04063170775771141 0.06309986859560013\n"
     ]
    },
    {
     "name": "stderr",
     "output_type": "stream",
     "text": [
      "Epoch 2:  64%|██████▍   | 56/87 [01:50<00:52,  1.69s/it]"
     ]
    },
    {
     "name": "stdout",
     "output_type": "stream",
     "text": [
      "v min/max: -1.000/0.791, v_prim min/max: -1.000/0.436\n",
      "q1 0.06906400620937347 0.10204638540744781\n",
      "q2 0.0711134597659111 0.10430322587490082\n",
      "z1 0.04438863694667816 0.06861696392297745\n",
      "z2 0.043358877301216125 0.0671403631567955\n"
     ]
    },
    {
     "name": "stderr",
     "output_type": "stream",
     "text": [
      "Epoch 2:  66%|██████▌   | 57/87 [01:52<00:50,  1.70s/it]"
     ]
    },
    {
     "name": "stdout",
     "output_type": "stream",
     "text": [
      "v min/max: -1.000/0.980, v_prim min/max: -1.000/0.400\n",
      "q1 0.06585488468408585 0.09807887673377991\n",
      "q2 0.06880168616771698 0.10122822970151901\n",
      "z1 0.04513155296444893 0.06988166272640228\n",
      "z2 0.04364654794335365 0.06754302978515625\n"
     ]
    },
    {
     "name": "stderr",
     "output_type": "stream",
     "text": [
      "Epoch 2:  67%|██████▋   | 58/87 [01:54<00:49,  1.70s/it]"
     ]
    },
    {
     "name": "stdout",
     "output_type": "stream",
     "text": [
      "v min/max: -1.000/0.203, v_prim min/max: -1.000/0.659\n",
      "q1 0.06694338470697403 0.09865365922451019\n",
      "q2 0.05957317352294922 0.08909621834754944\n",
      "z1 0.041275642812252045 0.06394199281930923\n",
      "z2 0.04555148631334305 0.07079976797103882\n"
     ]
    },
    {
     "name": "stderr",
     "output_type": "stream",
     "text": [
      "Epoch 2:  68%|██████▊   | 59/87 [01:55<00:47,  1.71s/it]"
     ]
    },
    {
     "name": "stdout",
     "output_type": "stream",
     "text": [
      "v min/max: -1.000/0.974, v_prim min/max: -1.000/1.000\n",
      "q1 0.060764431953430176 0.09096888452768326\n",
      "q2 0.06219281256198883 0.09284282475709915\n",
      "z1 0.045082926750183105 0.06935372948646545\n",
      "z2 0.04370648041367531 0.06782247871160507\n"
     ]
    },
    {
     "name": "stderr",
     "output_type": "stream",
     "text": [
      "Epoch 2:  69%|██████▉   | 60/87 [01:57<00:45,  1.70s/it]"
     ]
    },
    {
     "name": "stdout",
     "output_type": "stream",
     "text": [
      "v min/max: -1.000/0.438, v_prim min/max: -1.000/0.854\n",
      "q1 0.06177341565489769 0.09095288068056107\n",
      "q2 0.057641539722681046 0.08664388954639435\n",
      "z1 0.04304000735282898 0.06666240096092224\n",
      "z2 0.045351434499025345 0.06985794007778168\n"
     ]
    },
    {
     "name": "stderr",
     "output_type": "stream",
     "text": [
      "Epoch 2:  70%|███████   | 61/87 [01:59<00:44,  1.70s/it]"
     ]
    },
    {
     "name": "stdout",
     "output_type": "stream",
     "text": [
      "v min/max: -1.000/1.000, v_prim min/max: -1.000/0.725\n",
      "q1 0.0583978071808815 0.08754567801952362\n",
      "q2 0.05862146243453026 0.0876167044043541\n",
      "z1 0.044470179826021194 0.06884623318910599\n",
      "z2 0.04428806155920029 0.06861547380685806\n"
     ]
    },
    {
     "name": "stderr",
     "output_type": "stream",
     "text": [
      "Epoch 2:  71%|███████▏  | 62/87 [02:01<00:43,  1.73s/it]"
     ]
    },
    {
     "name": "stdout",
     "output_type": "stream",
     "text": [
      "v min/max: -1.000/1.000, v_prim min/max: -1.000/0.684\n",
      "q1 0.05920891463756561 0.08806929737329483\n",
      "q2 0.056425660848617554 0.08436337113380432\n",
      "z1 0.04363853484392166 0.06770910322666168\n",
      "z2 0.045938678085803986 0.07099615037441254\n"
     ]
    },
    {
     "name": "stderr",
     "output_type": "stream",
     "text": [
      "Epoch 2:  72%|███████▏  | 63/87 [02:02<00:41,  1.74s/it]"
     ]
    },
    {
     "name": "stdout",
     "output_type": "stream",
     "text": [
      "v min/max: -1.000/0.351, v_prim min/max: -1.000/0.918\n",
      "q1 0.058153893798589706 0.0861467719078064\n",
      "q2 0.056922923773527145 0.08547868579626083\n",
      "z1 0.04427548870444298 0.06851011514663696\n",
      "z2 0.044897228479385376 0.06949340552091599\n"
     ]
    },
    {
     "name": "stderr",
     "output_type": "stream",
     "text": [
      "Epoch 2:  74%|███████▎  | 64/87 [02:04<00:39,  1.73s/it]"
     ]
    },
    {
     "name": "stdout",
     "output_type": "stream",
     "text": [
      "v min/max: -1.000/0.908, v_prim min/max: -1.000/0.614\n",
      "q1 0.05253176391124725 0.08044011890888214\n",
      "q2 0.05362620949745178 0.08042091876268387\n",
      "z1 0.04202951118350029 0.06524630635976791\n",
      "z2 0.041187383234500885 0.0642596036195755\n"
     ]
    },
    {
     "name": "stderr",
     "output_type": "stream",
     "text": [
      "Epoch 2:  75%|███████▍  | 65/87 [02:06<00:38,  1.73s/it]"
     ]
    },
    {
     "name": "stdout",
     "output_type": "stream",
     "text": [
      "v min/max: -1.000/1.000, v_prim min/max: -1.000/1.000\n",
      "q1 0.05454680323600769 0.08475422859191895\n",
      "q2 0.05591561272740364 0.08540426194667816\n",
      "z1 0.044741712510585785 0.06949195265769958\n",
      "z2 0.042449019849300385 0.06641320139169693\n"
     ]
    },
    {
     "name": "stderr",
     "output_type": "stream",
     "text": [
      "Epoch 2:  76%|███████▌  | 66/87 [02:08<00:36,  1.74s/it]"
     ]
    },
    {
     "name": "stdout",
     "output_type": "stream",
     "text": [
      "v min/max: -1.000/1.000, v_prim min/max: -1.000/0.551\n",
      "q1 0.059681959450244904 0.08965373039245605\n",
      "q2 0.058839719742536545 0.08714573085308075\n",
      "z1 0.045803558081388474 0.07061394304037094\n",
      "z2 0.04643751308321953 0.07172630727291107\n"
     ]
    },
    {
     "name": "stderr",
     "output_type": "stream",
     "text": [
      "Epoch 2:  77%|███████▋  | 67/87 [02:09<00:35,  1.76s/it]"
     ]
    },
    {
     "name": "stdout",
     "output_type": "stream",
     "text": [
      "v min/max: -1.000/0.971, v_prim min/max: -1.000/0.793\n",
      "q1 0.05536423623561859 0.08595555275678635\n",
      "q2 0.053288478404283524 0.08046122640371323\n",
      "z1 0.041947945952415466 0.065030537545681\n",
      "z2 0.04378558695316315 0.06847870349884033\n"
     ]
    },
    {
     "name": "stderr",
     "output_type": "stream",
     "text": [
      "Epoch 2:  78%|███████▊  | 68/87 [02:11<00:33,  1.74s/it]"
     ]
    },
    {
     "name": "stdout",
     "output_type": "stream",
     "text": [
      "v min/max: -1.000/0.443, v_prim min/max: -1.000/0.628\n",
      "q1 0.05743313953280449 0.08593437820672989\n",
      "q2 0.057676538825035095 0.08674560487270355\n",
      "z1 0.04548143222928047 0.07042614370584488\n",
      "z2 0.04488390311598778 0.0695820301771164\n"
     ]
    },
    {
     "name": "stderr",
     "output_type": "stream",
     "text": [
      "Epoch 2:  79%|███████▉  | 69/87 [02:13<00:31,  1.75s/it]"
     ]
    },
    {
     "name": "stdout",
     "output_type": "stream",
     "text": [
      "v min/max: -1.000/0.874, v_prim min/max: -1.000/0.824\n",
      "q1 0.0537598580121994 0.08235609531402588\n",
      "q2 0.055250633507966995 0.0837101936340332\n",
      "z1 0.04356955364346504 0.06769298017024994\n",
      "z2 0.04209258034825325 0.06550775468349457\n"
     ]
    },
    {
     "name": "stderr",
     "output_type": "stream",
     "text": [
      "Epoch 2:  80%|████████  | 70/87 [02:15<00:29,  1.73s/it]"
     ]
    },
    {
     "name": "stdout",
     "output_type": "stream",
     "text": [
      "v min/max: -1.000/0.277, v_prim min/max: -1.000/1.000\n",
      "q1 0.057005874812603 0.08513027429580688\n",
      "q2 0.05750496685504913 0.08655615150928497\n",
      "z1 0.04566164314746857 0.07030519098043442\n",
      "z2 0.044632259756326675 0.06899412721395493\n"
     ]
    },
    {
     "name": "stderr",
     "output_type": "stream",
     "text": [
      "Epoch 2:  82%|████████▏ | 71/87 [02:16<00:27,  1.72s/it]"
     ]
    },
    {
     "name": "stdout",
     "output_type": "stream",
     "text": [
      "v min/max: -1.000/1.000, v_prim min/max: -1.000/0.917\n",
      "q1 0.054959025233983994 0.08373402804136276\n",
      "q2 0.054452862590551376 0.08487695455551147\n",
      "z1 0.04320786893367767 0.06715169548988342\n",
      "z2 0.04402127489447594 0.06820875406265259\n"
     ]
    },
    {
     "name": "stderr",
     "output_type": "stream",
     "text": [
      "Epoch 2:  83%|████████▎ | 72/87 [02:18<00:26,  1.74s/it]"
     ]
    },
    {
     "name": "stdout",
     "output_type": "stream",
     "text": [
      "v min/max: -1.000/1.000, v_prim min/max: -1.000/0.671\n",
      "q1 0.05703798681497574 0.08795377612113953\n",
      "q2 0.05624611675739288 0.08519213646650314\n",
      "z1 0.04477616399526596 0.06925388425588608\n",
      "z2 0.04577994719147682 0.0713207870721817\n"
     ]
    },
    {
     "name": "stderr",
     "output_type": "stream",
     "text": [
      "Epoch 2:  84%|████████▍ | 73/87 [02:20<00:24,  1.73s/it]"
     ]
    },
    {
     "name": "stdout",
     "output_type": "stream",
     "text": [
      "v min/max: -1.000/1.000, v_prim min/max: -1.000/0.955\n",
      "q1 0.05735931545495987 0.08839618414640427\n",
      "q2 0.05566272884607315 0.08539720624685287\n",
      "z1 0.045115627348423004 0.06984946131706238\n",
      "z2 0.04652555286884308 0.0718429684638977\n"
     ]
    },
    {
     "name": "stderr",
     "output_type": "stream",
     "text": [
      "Epoch 2:  85%|████████▌ | 74/87 [02:22<00:23,  1.77s/it]"
     ]
    },
    {
     "name": "stdout",
     "output_type": "stream",
     "text": [
      "v min/max: -1.000/1.000, v_prim min/max: -1.000/0.707\n",
      "q1 0.05778687074780464 0.08896145969629288\n",
      "q2 0.05832580849528313 0.08855542540550232\n",
      "z1 0.046762481331825256 0.07211241871118546\n",
      "z2 0.04622950404882431 0.07194824516773224\n"
     ]
    },
    {
     "name": "stderr",
     "output_type": "stream",
     "text": [
      "Epoch 2:  86%|████████▌ | 75/87 [02:23<00:20,  1.72s/it]"
     ]
    },
    {
     "name": "stdout",
     "output_type": "stream",
     "text": [
      "v min/max: -0.993/1.000, v_prim min/max: -1.000/0.195\n",
      "q1 0.05419133976101875 0.08437149226665497\n",
      "q2 0.0576985627412796 0.08751834183931351\n",
      "z1 0.04583895951509476 0.07087793946266174\n",
      "z2 0.04363095387816429 0.0681685358285904\n"
     ]
    },
    {
     "name": "stderr",
     "output_type": "stream",
     "text": [
      "Epoch 2:  87%|████████▋ | 76/87 [02:25<00:19,  1.74s/it]"
     ]
    },
    {
     "name": "stdout",
     "output_type": "stream",
     "text": [
      "v min/max: -1.000/1.000, v_prim min/max: -1.000/0.919\n",
      "q1 0.05861957371234894 0.09040297567844391\n",
      "q2 0.05568496137857437 0.08587249368429184\n",
      "z1 0.04480690136551857 0.06943847984075546\n",
      "z2 0.04680803045630455 0.07276669144630432\n"
     ]
    },
    {
     "name": "stderr",
     "output_type": "stream",
     "text": [
      "Epoch 2:  89%|████████▊ | 77/87 [02:27<00:17,  1.72s/it]"
     ]
    },
    {
     "name": "stdout",
     "output_type": "stream",
     "text": [
      "v min/max: -1.000/1.000, v_prim min/max: -1.000/0.995\n",
      "q1 0.0552743598818779 0.08626899123191833\n",
      "q2 0.05444314703345299 0.08537597209215164\n",
      "z1 0.0445050373673439 0.06950940936803818\n",
      "z2 0.04521730914711952 0.07040528953075409\n"
     ]
    },
    {
     "name": "stderr",
     "output_type": "stream",
     "text": [
      "Epoch 2:  90%|████████▉ | 78/87 [02:28<00:15,  1.71s/it]"
     ]
    },
    {
     "name": "stdout",
     "output_type": "stream",
     "text": [
      "v min/max: -1.000/0.662, v_prim min/max: -1.000/0.448\n",
      "q1 0.0588485449552536 0.0899096131324768\n",
      "q2 0.05766354501247406 0.08810102194547653\n",
      "z1 0.04616924002766609 0.07128220051527023\n",
      "z2 0.04724060744047165 0.07284824550151825\n"
     ]
    },
    {
     "name": "stderr",
     "output_type": "stream",
     "text": [
      "Epoch 2:  91%|█████████ | 79/87 [02:30<00:13,  1.70s/it]"
     ]
    },
    {
     "name": "stdout",
     "output_type": "stream",
     "text": [
      "v min/max: -1.000/0.850, v_prim min/max: -1.000/1.000\n",
      "q1 0.05103059858083725 0.08038794994354248\n",
      "q2 0.05599566176533699 0.08790504932403564\n",
      "z1 0.04635723680257797 0.07224197685718536\n",
      "z2 0.04173325374722481 0.06533221155405045\n"
     ]
    },
    {
     "name": "stderr",
     "output_type": "stream",
     "text": [
      "Epoch 2:  92%|█████████▏| 80/87 [02:32<00:11,  1.69s/it]"
     ]
    },
    {
     "name": "stdout",
     "output_type": "stream",
     "text": [
      "v min/max: -1.000/1.000, v_prim min/max: -1.000/1.000\n",
      "q1 0.05549868196249008 0.0871046707034111\n",
      "q2 0.05776650831103325 0.08987254649400711\n",
      "z1 0.0475647896528244 0.07353483140468597\n",
      "z2 0.04575153440237045 0.07124914228916168\n"
     ]
    },
    {
     "name": "stderr",
     "output_type": "stream",
     "text": [
      "Epoch 2:  93%|█████████▎| 81/87 [02:33<00:10,  1.70s/it]"
     ]
    },
    {
     "name": "stdout",
     "output_type": "stream",
     "text": [
      "v min/max: -1.000/0.593, v_prim min/max: -1.000/1.000\n",
      "q1 0.05782781541347504 0.08930976688861847\n",
      "q2 0.05944610387086868 0.09232435375452042\n",
      "z1 0.047844648361206055 0.07431089878082275\n",
      "z2 0.04643005132675171 0.07175403833389282\n"
     ]
    },
    {
     "name": "stderr",
     "output_type": "stream",
     "text": [
      "Epoch 2:  94%|█████████▍| 82/87 [02:35<00:08,  1.70s/it]"
     ]
    },
    {
     "name": "stdout",
     "output_type": "stream",
     "text": [
      "v min/max: -1.000/1.000, v_prim min/max: -1.000/1.000\n",
      "q1 0.05699095129966736 0.0894879698753357\n",
      "q2 0.056340474635362625 0.08940566331148148\n",
      "z1 0.047088880091905594 0.07363833487033844\n",
      "z2 0.04655828699469566 0.07246622443199158\n"
     ]
    },
    {
     "name": "stderr",
     "output_type": "stream",
     "text": [
      "Epoch 2:  95%|█████████▌| 83/87 [02:37<00:06,  1.72s/it]"
     ]
    },
    {
     "name": "stdout",
     "output_type": "stream",
     "text": [
      "v min/max: -1.000/1.000, v_prim min/max: -1.000/0.727\n",
      "q1 0.056755825877189636 0.08957242965698242\n",
      "q2 0.05405879393219948 0.08451937139034271\n",
      "z1 0.04317600280046463 0.06705953925848007\n",
      "z2 0.046659842133522034 0.07263566553592682\n"
     ]
    },
    {
     "name": "stderr",
     "output_type": "stream",
     "text": [
      "Epoch 2:  97%|█████████▋| 84/87 [02:39<00:05,  1.72s/it]"
     ]
    },
    {
     "name": "stdout",
     "output_type": "stream",
     "text": [
      "v min/max: -0.998/0.420, v_prim min/max: -1.000/0.934\n",
      "q1 0.05495588481426239 0.08530528843402863\n",
      "q2 0.05620991438627243 0.08875829726457596\n",
      "z1 0.04530923441052437 0.07051614671945572\n",
      "z2 0.04327114671468735 0.06688016653060913\n"
     ]
    },
    {
     "name": "stderr",
     "output_type": "stream",
     "text": [
      "Epoch 2:  98%|█████████▊| 85/87 [02:40<00:03,  1.72s/it]"
     ]
    },
    {
     "name": "stdout",
     "output_type": "stream",
     "text": [
      "v min/max: -1.000/0.753, v_prim min/max: -1.000/1.000\n",
      "q1 0.05634317174553871 0.08817274123430252\n",
      "q2 0.05764506012201309 0.09118106216192245\n",
      "z1 0.046357348561286926 0.07236644625663757\n",
      "z2 0.044240802526474 0.06874768435955048\n"
     ]
    },
    {
     "name": "stderr",
     "output_type": "stream",
     "text": [
      "Epoch 2:  99%|█████████▉| 86/87 [02:42<00:01,  1.73s/it]"
     ]
    },
    {
     "name": "stdout",
     "output_type": "stream",
     "text": [
      "v min/max: -1.000/0.517, v_prim min/max: -1.000/1.000\n",
      "q1 0.06077957525849342 0.09421247243881226\n",
      "q2 0.06268549710512161 0.09741687029600143\n",
      "z1 0.04925905913114548 0.07595561444759369\n",
      "z2 0.04761356860399246 0.07326629757881165\n"
     ]
    },
    {
     "name": "stderr",
     "output_type": "stream",
     "text": [
      "Epoch 2: 100%|██████████| 87/87 [02:43<00:00,  1.88s/it]\n"
     ]
    },
    {
     "name": "stdout",
     "output_type": "stream",
     "text": [
      "Epoch 2: BYOL training loss = 0.25467903\n"
     ]
    },
    {
     "name": "stderr",
     "output_type": "stream",
     "text": [
      "Epoch 3:   0%|          | 0/87 [00:00<?, ?it/s]"
     ]
    },
    {
     "name": "stdout",
     "output_type": "stream",
     "text": [
      "v min/max: -1.000/0.787, v_prim min/max: -1.000/1.000\n",
      "q1 0.05747882276773453 0.09260150790214539\n",
      "q2 0.059674568474292755 0.09571883827447891\n",
      "z1 0.04724154621362686 0.07348392903804779\n",
      "z2 0.04618404060602188 0.07182259112596512\n"
     ]
    },
    {
     "name": "stderr",
     "output_type": "stream",
     "text": [
      "Epoch 3:   1%|          | 1/87 [00:14<20:46, 14.49s/it]"
     ]
    },
    {
     "name": "stdout",
     "output_type": "stream",
     "text": [
      "v min/max: -1.000/1.000, v_prim min/max: -1.000/1.000\n",
      "q1 0.05975104123353958 0.09749040007591248\n",
      "q2 0.05837348848581314 0.09631887823343277\n",
      "z1 0.04729750379920006 0.07387717813253403\n",
      "z2 0.0473032146692276 0.07341887801885605\n"
     ]
    },
    {
     "name": "stderr",
     "output_type": "stream",
     "text": [
      "Epoch 3:   2%|▏         | 2/87 [00:16<09:52,  6.97s/it]"
     ]
    },
    {
     "name": "stdout",
     "output_type": "stream",
     "text": [
      "v min/max: -1.000/0.299, v_prim min/max: -1.000/0.643\n",
      "q1 0.060794755816459656 0.10000809282064438\n",
      "q2 0.0599546805024147 0.09913811087608337\n",
      "z1 0.04699557647109032 0.07288191467523575\n",
      "z2 0.047375962138175964 0.0732671320438385\n"
     ]
    },
    {
     "name": "stderr",
     "output_type": "stream",
     "text": [
      "Epoch 3:   3%|▎         | 3/87 [00:17<06:21,  4.55s/it]"
     ]
    },
    {
     "name": "stdout",
     "output_type": "stream",
     "text": [
      "v min/max: -1.000/0.470, v_prim min/max: -1.000/1.000\n",
      "q1 0.05755713954567909 0.09633242338895798\n",
      "q2 0.05918086692690849 0.10027996450662613\n",
      "z1 0.04725867137312889 0.07390619814395905\n",
      "z2 0.04502617195248604 0.06956576555967331\n"
     ]
    },
    {
     "name": "stderr",
     "output_type": "stream",
     "text": [
      "Epoch 3:   5%|▍         | 4/87 [00:19<04:44,  3.43s/it]"
     ]
    },
    {
     "name": "stdout",
     "output_type": "stream",
     "text": [
      "v min/max: -1.000/0.937, v_prim min/max: -1.000/0.668\n",
      "q1 0.061551015824079514 0.10424216091632843\n",
      "q2 0.0629844218492508 0.10598191618919373\n",
      "z1 0.04828176647424698 0.07485949248075485\n",
      "z2 0.047705382108688354 0.07414675503969193\n"
     ]
    },
    {
     "name": "stderr",
     "output_type": "stream",
     "text": [
      "Epoch 3:   6%|▌         | 5/87 [00:21<03:48,  2.78s/it]"
     ]
    },
    {
     "name": "stdout",
     "output_type": "stream",
     "text": [
      "v min/max: -1.000/0.352, v_prim min/max: -1.000/0.957\n",
      "q1 0.06451864540576935 0.10919495671987534\n",
      "q2 0.06353417038917542 0.10824912041425705\n",
      "z1 0.04889550060033798 0.07607072591781616\n",
      "z2 0.04859406128525734 0.07537452131509781\n"
     ]
    },
    {
     "name": "stderr",
     "output_type": "stream",
     "text": [
      "Epoch 3:   7%|▋         | 6/87 [00:22<03:14,  2.40s/it]"
     ]
    },
    {
     "name": "stdout",
     "output_type": "stream",
     "text": [
      "v min/max: -1.000/1.000, v_prim min/max: -1.000/0.967\n",
      "q1 0.06242945045232773 0.1071677878499031\n",
      "q2 0.05911668390035629 0.10210898518562317\n",
      "z1 0.04619855806231499 0.07247760146856308\n",
      "z2 0.04815871641039848 0.07494814693927765\n"
     ]
    },
    {
     "name": "stderr",
     "output_type": "stream",
     "text": [
      "Epoch 3:   8%|▊         | 7/87 [00:24<02:53,  2.17s/it]"
     ]
    },
    {
     "name": "stdout",
     "output_type": "stream",
     "text": [
      "v min/max: -1.000/1.000, v_prim min/max: -1.000/0.100\n",
      "q1 0.06124192103743553 0.1060972511768341\n",
      "q2 0.06383216381072998 0.10910335183143616\n",
      "z1 0.04685809835791588 0.07286370545625687\n",
      "z2 0.047515396028757095 0.0739171952009201\n"
     ]
    },
    {
     "name": "stderr",
     "output_type": "stream",
     "text": [
      "Epoch 3:   9%|▉         | 8/87 [00:26<02:39,  2.02s/it]"
     ]
    },
    {
     "name": "stdout",
     "output_type": "stream",
     "text": [
      "v min/max: -1.000/1.000, v_prim min/max: -1.000/0.224\n",
      "q1 0.062301307916641235 0.10907113552093506\n",
      "q2 0.06961902976036072 0.11904200911521912\n",
      "z1 0.05017503350973129 0.07786116749048233\n",
      "z2 0.04721730947494507 0.07423064857721329\n"
     ]
    },
    {
     "name": "stderr",
     "output_type": "stream",
     "text": [
      "Epoch 3:  10%|█         | 9/87 [00:27<02:29,  1.92s/it]"
     ]
    },
    {
     "name": "stdout",
     "output_type": "stream",
     "text": [
      "v min/max: -1.000/1.000, v_prim min/max: -1.000/0.191\n",
      "q1 0.06210845708847046 0.10973770171403885\n",
      "q2 0.06669019162654877 0.11527490615844727\n",
      "z1 0.04845759645104408 0.07555718719959259\n",
      "z2 0.04742208495736122 0.07493357360363007\n"
     ]
    },
    {
     "name": "stderr",
     "output_type": "stream",
     "text": [
      "Epoch 3:  11%|█▏        | 10/87 [00:29<02:21,  1.84s/it]"
     ]
    },
    {
     "name": "stdout",
     "output_type": "stream",
     "text": [
      "v min/max: -1.000/1.000, v_prim min/max: -1.000/1.000\n",
      "q1 0.06273926794528961 0.11064845323562622\n",
      "q2 0.061548423022031784 0.108761727809906\n",
      "z1 0.04748133569955826 0.07471223920583725\n",
      "z2 0.0480174720287323 0.07539521157741547\n"
     ]
    },
    {
     "name": "stderr",
     "output_type": "stream",
     "text": [
      "Epoch 3:  13%|█▎        | 11/87 [00:31<02:16,  1.80s/it]"
     ]
    },
    {
     "name": "stdout",
     "output_type": "stream",
     "text": [
      "v min/max: -1.000/1.000, v_prim min/max: -1.000/1.000\n",
      "q1 0.06255937367677689 0.11064006388187408\n",
      "q2 0.06314539909362793 0.11136938631534576\n",
      "z1 0.0482674203813076 0.07560949772596359\n",
      "z2 0.048044923692941666 0.07561998069286346\n"
     ]
    },
    {
     "name": "stderr",
     "output_type": "stream",
     "text": [
      "Epoch 3:  14%|█▍        | 12/87 [00:33<02:12,  1.77s/it]"
     ]
    },
    {
     "name": "stdout",
     "output_type": "stream",
     "text": [
      "v min/max: -1.000/0.970, v_prim min/max: -1.000/0.510\n",
      "q1 0.06241559237241745 0.11046656221151352\n",
      "q2 0.06391625106334686 0.11227721720933914\n",
      "z1 0.04870958626270294 0.07611971348524094\n",
      "z2 0.04798915982246399 0.07556042075157166\n"
     ]
    },
    {
     "name": "stderr",
     "output_type": "stream",
     "text": [
      "Epoch 3:  15%|█▍        | 13/87 [00:34<02:07,  1.73s/it]"
     ]
    },
    {
     "name": "stdout",
     "output_type": "stream",
     "text": [
      "v min/max: -1.000/0.845, v_prim min/max: -1.000/1.000\n",
      "q1 0.058149851858615875 0.1033041700720787\n",
      "q2 0.06186898797750473 0.10955683141946793\n",
      "z1 0.048887550830841064 0.07719595730304718\n",
      "z2 0.045513853430747986 0.07181291282176971\n"
     ]
    },
    {
     "name": "stderr",
     "output_type": "stream",
     "text": [
      "Epoch 3:  16%|█▌        | 14/87 [00:36<02:05,  1.71s/it]"
     ]
    },
    {
     "name": "stdout",
     "output_type": "stream",
     "text": [
      "v min/max: -1.000/0.887, v_prim min/max: -1.000/0.894\n",
      "q1 0.059926360845565796 0.10665299743413925\n",
      "q2 0.05832625925540924 0.10429958999156952\n",
      "z1 0.046193256974220276 0.07329981029033661\n",
      "z2 0.04727218300104141 0.0745774507522583\n"
     ]
    },
    {
     "name": "stderr",
     "output_type": "stream",
     "text": [
      "Epoch 3:  17%|█▋        | 15/87 [00:38<02:03,  1.71s/it]"
     ]
    },
    {
     "name": "stdout",
     "output_type": "stream",
     "text": [
      "v min/max: -1.000/1.000, v_prim min/max: -1.000/1.000\n",
      "q1 0.05555889382958412 0.09935043752193451\n",
      "q2 0.058338016271591187 0.10456778854131699\n",
      "z1 0.047328751534223557 0.07481007277965546\n",
      "z2 0.044754184782505035 0.0707305446267128\n"
     ]
    },
    {
     "name": "stderr",
     "output_type": "stream",
     "text": [
      "Epoch 3:  18%|█▊        | 16/87 [00:39<02:00,  1.70s/it]"
     ]
    },
    {
     "name": "stdout",
     "output_type": "stream",
     "text": [
      "v min/max: -1.000/0.531, v_prim min/max: -1.000/0.774\n",
      "q1 0.059873007237911224 0.10691729187965393\n",
      "q2 0.06091615557670593 0.10843806713819504\n",
      "z1 0.049010325223207474 0.07708113640546799\n",
      "z2 0.048039183020591736 0.0757685974240303\n"
     ]
    },
    {
     "name": "stderr",
     "output_type": "stream",
     "text": [
      "Epoch 3:  20%|█▉        | 17/87 [00:41<01:58,  1.69s/it]"
     ]
    },
    {
     "name": "stdout",
     "output_type": "stream",
     "text": [
      "v min/max: nan/nan, v_prim min/max: -1.000/1.000\n",
      "q1 nan nan\n",
      "q2 0.0605110339820385 0.10819000750780106\n",
      "z1 0.04907897114753723 0.07753250002861023\n",
      "z2 nan nan\n"
     ]
    },
    {
     "name": "stderr",
     "output_type": "stream",
     "text": [
      "Epoch 3:  21%|██        | 18/87 [00:43<01:55,  1.68s/it]"
     ]
    },
    {
     "name": "stdout",
     "output_type": "stream",
     "text": [
      "v min/max: -1.000/0.474, v_prim min/max: -1.000/0.805\n",
      "q1 nan nan\n",
      "q2 nan nan\n",
      "z1 nan nan\n",
      "z2 nan nan\n"
     ]
    },
    {
     "name": "stderr",
     "output_type": "stream",
     "text": [
      "Epoch 3:  22%|██▏       | 19/87 [00:44<01:55,  1.69s/it]"
     ]
    },
    {
     "name": "stdout",
     "output_type": "stream",
     "text": [
      "v min/max: -1.000/0.536, v_prim min/max: -1.000/0.572\n",
      "q1 nan nan\n",
      "q2 nan nan\n",
      "z1 nan nan\n",
      "z2 nan nan\n"
     ]
    },
    {
     "name": "stderr",
     "output_type": "stream",
     "text": [
      "Epoch 3:  23%|██▎       | 20/87 [00:46<01:53,  1.69s/it]"
     ]
    },
    {
     "name": "stdout",
     "output_type": "stream",
     "text": [
      "v min/max: -1.000/0.941, v_prim min/max: -1.000/0.935\n",
      "q1 nan nan\n",
      "q2 nan nan\n",
      "z1 nan nan\n",
      "z2 nan nan\n"
     ]
    },
    {
     "name": "stderr",
     "output_type": "stream",
     "text": [
      "Epoch 3:  24%|██▍       | 21/87 [00:48<01:51,  1.68s/it]"
     ]
    },
    {
     "name": "stdout",
     "output_type": "stream",
     "text": [
      "v min/max: -1.000/1.000, v_prim min/max: -1.000/0.827\n",
      "q1 nan nan\n",
      "q2 nan nan\n",
      "z1 nan nan\n",
      "z2 nan nan\n"
     ]
    },
    {
     "name": "stderr",
     "output_type": "stream",
     "text": [
      "Epoch 3:  25%|██▌       | 22/87 [00:49<01:50,  1.69s/it]"
     ]
    },
    {
     "name": "stdout",
     "output_type": "stream",
     "text": [
      "v min/max: -1.000/0.549, v_prim min/max: -1.000/0.795\n",
      "q1 nan nan\n",
      "q2 nan nan\n",
      "z1 nan nan\n",
      "z2 nan nan\n"
     ]
    },
    {
     "name": "stderr",
     "output_type": "stream",
     "text": [
      "Epoch 3:  26%|██▋       | 23/87 [00:51<01:47,  1.68s/it]"
     ]
    },
    {
     "name": "stdout",
     "output_type": "stream",
     "text": [
      "v min/max: -1.000/0.561, v_prim min/max: -1.000/0.989\n",
      "q1 nan nan\n",
      "q2 nan nan\n",
      "z1 nan nan\n",
      "z2 nan nan\n"
     ]
    },
    {
     "name": "stderr",
     "output_type": "stream",
     "text": [
      "Epoch 3:  28%|██▊       | 24/87 [00:53<01:45,  1.67s/it]"
     ]
    },
    {
     "name": "stdout",
     "output_type": "stream",
     "text": [
      "v min/max: -1.000/0.701, v_prim min/max: -1.000/0.806\n",
      "q1 nan nan\n",
      "q2 nan nan\n",
      "z1 nan nan\n",
      "z2 nan nan\n"
     ]
    },
    {
     "name": "stderr",
     "output_type": "stream",
     "text": [
      "Epoch 3:  29%|██▊       | 25/87 [00:54<01:42,  1.66s/it]"
     ]
    },
    {
     "name": "stdout",
     "output_type": "stream",
     "text": [
      "v min/max: -1.000/1.000, v_prim min/max: -1.000/1.000\n",
      "q1 nan nan\n",
      "q2 nan nan\n",
      "z1 nan nan\n",
      "z2 nan nan\n"
     ]
    },
    {
     "name": "stderr",
     "output_type": "stream",
     "text": [
      "Epoch 3:  30%|██▉       | 26/87 [00:56<01:42,  1.67s/it]"
     ]
    },
    {
     "name": "stdout",
     "output_type": "stream",
     "text": [
      "v min/max: -1.000/0.648, v_prim min/max: -1.000/1.000\n",
      "q1 nan nan\n",
      "q2 nan nan\n",
      "z1 nan nan\n",
      "z2 nan nan\n"
     ]
    },
    {
     "name": "stderr",
     "output_type": "stream",
     "text": [
      "Epoch 3:  31%|███       | 27/87 [00:58<01:40,  1.68s/it]"
     ]
    },
    {
     "name": "stdout",
     "output_type": "stream",
     "text": [
      "v min/max: -1.000/0.895, v_prim min/max: -1.000/1.000\n",
      "q1 nan nan\n",
      "q2 nan nan\n",
      "z1 nan nan\n",
      "z2 nan nan\n"
     ]
    },
    {
     "name": "stderr",
     "output_type": "stream",
     "text": [
      "Epoch 3:  32%|███▏      | 28/87 [00:59<01:38,  1.67s/it]"
     ]
    },
    {
     "name": "stdout",
     "output_type": "stream",
     "text": [
      "v min/max: -1.000/1.000, v_prim min/max: -1.000/1.000\n",
      "q1 nan nan\n",
      "q2 nan nan\n",
      "z1 nan nan\n",
      "z2 nan nan\n"
     ]
    },
    {
     "name": "stderr",
     "output_type": "stream",
     "text": [
      "Epoch 3:  33%|███▎      | 29/87 [01:01<01:36,  1.66s/it]"
     ]
    },
    {
     "name": "stdout",
     "output_type": "stream",
     "text": [
      "v min/max: -1.000/1.000, v_prim min/max: -1.000/1.000\n",
      "q1 nan nan\n",
      "q2 nan nan\n",
      "z1 nan nan\n",
      "z2 nan nan\n"
     ]
    },
    {
     "name": "stderr",
     "output_type": "stream",
     "text": [
      "Epoch 3:  34%|███▍      | 30/87 [01:03<01:35,  1.67s/it]"
     ]
    },
    {
     "name": "stdout",
     "output_type": "stream",
     "text": [
      "v min/max: -1.000/0.570, v_prim min/max: -1.000/1.000\n",
      "q1 nan nan\n",
      "q2 nan nan\n",
      "z1 nan nan\n",
      "z2 nan nan\n"
     ]
    },
    {
     "name": "stderr",
     "output_type": "stream",
     "text": [
      "Epoch 3:  36%|███▌      | 31/87 [01:04<01:34,  1.68s/it]"
     ]
    },
    {
     "name": "stdout",
     "output_type": "stream",
     "text": [
      "v min/max: -1.000/1.000, v_prim min/max: -1.000/1.000\n",
      "q1 nan nan\n",
      "q2 nan nan\n",
      "z1 nan nan\n",
      "z2 nan nan\n"
     ]
    },
    {
     "name": "stderr",
     "output_type": "stream",
     "text": [
      "Epoch 3:  37%|███▋      | 32/87 [01:06<01:32,  1.68s/it]"
     ]
    },
    {
     "name": "stdout",
     "output_type": "stream",
     "text": [
      "v min/max: -1.000/0.919, v_prim min/max: -1.000/0.937\n",
      "q1 nan nan\n",
      "q2 nan nan\n",
      "z1 nan nan\n",
      "z2 nan nan\n"
     ]
    },
    {
     "name": "stderr",
     "output_type": "stream",
     "text": [
      "Epoch 3:  38%|███▊      | 33/87 [01:08<01:29,  1.66s/it]"
     ]
    },
    {
     "name": "stdout",
     "output_type": "stream",
     "text": [
      "v min/max: -1.000/0.962, v_prim min/max: -1.000/1.000\n",
      "q1 nan nan\n",
      "q2 nan nan\n",
      "z1 nan nan\n",
      "z2 nan nan\n"
     ]
    },
    {
     "name": "stderr",
     "output_type": "stream",
     "text": [
      "Epoch 3:  39%|███▉      | 34/87 [01:09<01:28,  1.68s/it]"
     ]
    },
    {
     "name": "stdout",
     "output_type": "stream",
     "text": [
      "v min/max: -1.000/1.000, v_prim min/max: -1.000/0.802\n",
      "q1 nan nan\n",
      "q2 nan nan\n",
      "z1 nan nan\n",
      "z2 nan nan\n"
     ]
    },
    {
     "name": "stderr",
     "output_type": "stream",
     "text": [
      "Epoch 3:  40%|████      | 35/87 [01:11<01:28,  1.71s/it]"
     ]
    },
    {
     "name": "stdout",
     "output_type": "stream",
     "text": [
      "v min/max: -1.000/1.000, v_prim min/max: -1.000/0.273\n",
      "q1 nan nan\n",
      "q2 nan nan\n",
      "z1 nan nan\n",
      "z2 nan nan\n"
     ]
    },
    {
     "name": "stderr",
     "output_type": "stream",
     "text": [
      "Epoch 3:  41%|████▏     | 36/87 [01:13<01:27,  1.71s/it]"
     ]
    },
    {
     "name": "stdout",
     "output_type": "stream",
     "text": [
      "v min/max: -1.000/0.937, v_prim min/max: -1.000/0.339\n",
      "q1 nan nan\n",
      "q2 nan nan\n",
      "z1 nan nan\n",
      "z2 nan nan\n"
     ]
    },
    {
     "name": "stderr",
     "output_type": "stream",
     "text": [
      "Epoch 3:  43%|████▎     | 37/87 [01:15<01:24,  1.69s/it]"
     ]
    },
    {
     "name": "stdout",
     "output_type": "stream",
     "text": [
      "v min/max: -1.000/1.000, v_prim min/max: -1.000/1.000\n",
      "q1 nan nan\n",
      "q2 nan nan\n",
      "z1 nan nan\n",
      "z2 nan nan\n"
     ]
    },
    {
     "name": "stderr",
     "output_type": "stream",
     "text": [
      "Epoch 3:  44%|████▎     | 38/87 [01:16<01:22,  1.68s/it]"
     ]
    },
    {
     "name": "stdout",
     "output_type": "stream",
     "text": [
      "v min/max: -1.000/0.835, v_prim min/max: -1.000/1.000\n",
      "q1 nan nan\n",
      "q2 nan nan\n",
      "z1 nan nan\n",
      "z2 nan nan\n"
     ]
    },
    {
     "name": "stderr",
     "output_type": "stream",
     "text": [
      "Epoch 3:  45%|████▍     | 39/87 [01:18<01:20,  1.67s/it]"
     ]
    },
    {
     "name": "stdout",
     "output_type": "stream",
     "text": [
      "v min/max: -1.000/0.187, v_prim min/max: -1.000/0.635\n",
      "q1 nan nan\n",
      "q2 nan nan\n",
      "z1 nan nan\n",
      "z2 nan nan\n"
     ]
    },
    {
     "name": "stderr",
     "output_type": "stream",
     "text": [
      "Epoch 3:  46%|████▌     | 40/87 [01:19<01:18,  1.67s/it]"
     ]
    },
    {
     "name": "stdout",
     "output_type": "stream",
     "text": [
      "v min/max: -1.000/0.543, v_prim min/max: -1.000/1.000\n",
      "q1 nan nan\n",
      "q2 nan nan\n",
      "z1 nan nan\n",
      "z2 nan nan\n"
     ]
    },
    {
     "name": "stderr",
     "output_type": "stream",
     "text": [
      "Epoch 3:  47%|████▋     | 41/87 [01:21<01:16,  1.67s/it]"
     ]
    },
    {
     "name": "stdout",
     "output_type": "stream",
     "text": [
      "v min/max: -1.000/1.000, v_prim min/max: -1.000/0.294\n",
      "q1 nan nan\n",
      "q2 nan nan\n",
      "z1 nan nan\n",
      "z2 nan nan\n"
     ]
    },
    {
     "name": "stderr",
     "output_type": "stream",
     "text": [
      "Epoch 3:  48%|████▊     | 42/87 [01:23<01:14,  1.66s/it]"
     ]
    },
    {
     "name": "stdout",
     "output_type": "stream",
     "text": [
      "v min/max: -1.000/1.000, v_prim min/max: -1.000/0.911\n",
      "q1 nan nan\n",
      "q2 nan nan\n",
      "z1 nan nan\n",
      "z2 nan nan\n"
     ]
    },
    {
     "name": "stderr",
     "output_type": "stream",
     "text": [
      "Epoch 3:  49%|████▉     | 43/87 [01:24<01:12,  1.65s/it]"
     ]
    },
    {
     "name": "stdout",
     "output_type": "stream",
     "text": [
      "v min/max: -1.000/0.450, v_prim min/max: -1.000/1.000\n",
      "q1 nan nan\n",
      "q2 nan nan\n",
      "z1 nan nan\n",
      "z2 nan nan\n"
     ]
    },
    {
     "name": "stderr",
     "output_type": "stream",
     "text": [
      "Epoch 3:  51%|█████     | 44/87 [01:26<01:11,  1.65s/it]"
     ]
    },
    {
     "name": "stdout",
     "output_type": "stream",
     "text": [
      "v min/max: -1.000/0.838, v_prim min/max: -1.000/0.208\n",
      "q1 nan nan\n",
      "q2 nan nan\n",
      "z1 nan nan\n",
      "z2 nan nan\n"
     ]
    },
    {
     "name": "stderr",
     "output_type": "stream",
     "text": [
      "Epoch 3:  52%|█████▏    | 45/87 [01:28<01:09,  1.66s/it]"
     ]
    },
    {
     "name": "stdout",
     "output_type": "stream",
     "text": [
      "v min/max: -1.000/0.417, v_prim min/max: -1.000/0.862\n",
      "q1 nan nan\n",
      "q2 nan nan\n",
      "z1 nan nan\n",
      "z2 nan nan\n"
     ]
    },
    {
     "name": "stderr",
     "output_type": "stream",
     "text": [
      "Epoch 3:  53%|█████▎    | 46/87 [01:29<01:07,  1.65s/it]"
     ]
    },
    {
     "name": "stdout",
     "output_type": "stream",
     "text": [
      "v min/max: -1.000/0.124, v_prim min/max: -1.000/1.000\n",
      "q1 nan nan\n",
      "q2 nan nan\n",
      "z1 nan nan\n",
      "z2 nan nan\n"
     ]
    },
    {
     "name": "stderr",
     "output_type": "stream",
     "text": [
      "Epoch 3:  54%|█████▍    | 47/87 [01:31<01:06,  1.66s/it]"
     ]
    },
    {
     "name": "stdout",
     "output_type": "stream",
     "text": [
      "v min/max: -1.000/0.820, v_prim min/max: -1.000/0.985\n",
      "q1 nan nan\n",
      "q2 nan nan\n",
      "z1 nan nan\n",
      "z2 nan nan\n"
     ]
    },
    {
     "name": "stderr",
     "output_type": "stream",
     "text": [
      "Epoch 3:  55%|█████▌    | 48/87 [01:33<01:04,  1.66s/it]"
     ]
    },
    {
     "name": "stdout",
     "output_type": "stream",
     "text": [
      "v min/max: -1.000/1.000, v_prim min/max: -1.000/1.000\n",
      "q1 nan nan\n",
      "q2 nan nan\n",
      "z1 nan nan\n",
      "z2 nan nan\n"
     ]
    },
    {
     "name": "stderr",
     "output_type": "stream",
     "text": [
      "Epoch 3:  56%|█████▋    | 49/87 [01:34<01:03,  1.66s/it]"
     ]
    },
    {
     "name": "stdout",
     "output_type": "stream",
     "text": [
      "v min/max: -1.000/0.729, v_prim min/max: -1.000/0.679\n",
      "q1 nan nan\n",
      "q2 nan nan\n",
      "z1 nan nan\n",
      "z2 nan nan\n"
     ]
    },
    {
     "name": "stderr",
     "output_type": "stream",
     "text": [
      "Epoch 3:  57%|█████▋    | 50/87 [01:36<01:01,  1.67s/it]"
     ]
    },
    {
     "name": "stdout",
     "output_type": "stream",
     "text": [
      "v min/max: -1.000/0.182, v_prim min/max: -1.000/0.811\n",
      "q1 nan nan\n",
      "q2 nan nan\n",
      "z1 nan nan\n",
      "z2 nan nan\n"
     ]
    },
    {
     "name": "stderr",
     "output_type": "stream",
     "text": [
      "Epoch 3:  59%|█████▊    | 51/87 [01:38<01:00,  1.67s/it]"
     ]
    },
    {
     "name": "stdout",
     "output_type": "stream",
     "text": [
      "v min/max: -1.000/1.000, v_prim min/max: -1.000/0.796\n",
      "q1 nan nan\n",
      "q2 nan nan\n",
      "z1 nan nan\n",
      "z2 nan nan\n"
     ]
    },
    {
     "name": "stderr",
     "output_type": "stream",
     "text": [
      "Epoch 3:  60%|█████▉    | 52/87 [01:39<00:58,  1.66s/it]"
     ]
    },
    {
     "name": "stdout",
     "output_type": "stream",
     "text": [
      "v min/max: -1.000/0.953, v_prim min/max: -1.000/1.000\n",
      "q1 nan nan\n",
      "q2 nan nan\n",
      "z1 nan nan\n",
      "z2 nan nan\n"
     ]
    },
    {
     "name": "stderr",
     "output_type": "stream",
     "text": [
      "Epoch 3:  61%|██████    | 53/87 [01:41<00:57,  1.68s/it]"
     ]
    },
    {
     "name": "stdout",
     "output_type": "stream",
     "text": [
      "v min/max: -1.000/1.000, v_prim min/max: -1.000/0.714\n",
      "q1 nan nan\n",
      "q2 nan nan\n",
      "z1 nan nan\n",
      "z2 nan nan\n"
     ]
    },
    {
     "name": "stderr",
     "output_type": "stream",
     "text": [
      "Epoch 3:  62%|██████▏   | 54/87 [01:43<00:57,  1.75s/it]"
     ]
    },
    {
     "name": "stdout",
     "output_type": "stream",
     "text": [
      "v min/max: -1.000/0.724, v_prim min/max: -1.000/0.959\n",
      "q1 nan nan\n",
      "q2 nan nan\n",
      "z1 nan nan\n",
      "z2 nan nan\n"
     ]
    },
    {
     "name": "stderr",
     "output_type": "stream",
     "text": [
      "Epoch 3:  63%|██████▎   | 55/87 [01:45<00:55,  1.73s/it]"
     ]
    },
    {
     "name": "stdout",
     "output_type": "stream",
     "text": [
      "v min/max: -1.000/1.000, v_prim min/max: -1.000/1.000\n",
      "q1 nan nan\n",
      "q2 nan nan\n",
      "z1 nan nan\n",
      "z2 nan nan\n"
     ]
    },
    {
     "name": "stderr",
     "output_type": "stream",
     "text": [
      "Epoch 3:  64%|██████▍   | 56/87 [01:46<00:54,  1.75s/it]"
     ]
    },
    {
     "name": "stdout",
     "output_type": "stream",
     "text": [
      "v min/max: -1.000/1.000, v_prim min/max: -1.000/0.410\n",
      "q1 nan nan\n",
      "q2 nan nan\n",
      "z1 nan nan\n",
      "z2 nan nan\n"
     ]
    },
    {
     "name": "stderr",
     "output_type": "stream",
     "text": [
      "Epoch 3:  66%|██████▌   | 57/87 [01:48<00:52,  1.74s/it]"
     ]
    },
    {
     "name": "stdout",
     "output_type": "stream",
     "text": [
      "v min/max: -1.000/0.425, v_prim min/max: -1.000/1.000\n",
      "q1 nan nan\n",
      "q2 nan nan\n",
      "z1 nan nan\n",
      "z2 nan nan\n"
     ]
    },
    {
     "name": "stderr",
     "output_type": "stream",
     "text": [
      "Epoch 3:  67%|██████▋   | 58/87 [01:50<00:50,  1.74s/it]"
     ]
    },
    {
     "name": "stdout",
     "output_type": "stream",
     "text": [
      "v min/max: -1.000/1.000, v_prim min/max: -1.000/0.311\n",
      "q1 nan nan\n",
      "q2 nan nan\n",
      "z1 nan nan\n",
      "z2 nan nan\n"
     ]
    },
    {
     "name": "stderr",
     "output_type": "stream",
     "text": [
      "Epoch 3:  68%|██████▊   | 59/87 [01:52<00:49,  1.75s/it]"
     ]
    },
    {
     "name": "stdout",
     "output_type": "stream",
     "text": [
      "v min/max: -1.000/0.670, v_prim min/max: -1.000/1.000\n",
      "q1 nan nan\n",
      "q2 nan nan\n",
      "z1 nan nan\n",
      "z2 nan nan\n"
     ]
    },
    {
     "name": "stderr",
     "output_type": "stream",
     "text": [
      "Epoch 3:  69%|██████▉   | 60/87 [01:53<00:47,  1.75s/it]"
     ]
    },
    {
     "name": "stdout",
     "output_type": "stream",
     "text": [
      "v min/max: -1.000/0.643, v_prim min/max: -1.000/1.000\n",
      "q1 nan nan\n",
      "q2 nan nan\n",
      "z1 nan nan\n",
      "z2 nan nan\n"
     ]
    },
    {
     "name": "stderr",
     "output_type": "stream",
     "text": [
      "Epoch 3:  70%|███████   | 61/87 [01:55<00:45,  1.74s/it]"
     ]
    },
    {
     "name": "stdout",
     "output_type": "stream",
     "text": [
      "v min/max: -1.000/1.000, v_prim min/max: -1.000/0.585\n",
      "q1 nan nan\n",
      "q2 nan nan\n",
      "z1 nan nan\n",
      "z2 nan nan\n"
     ]
    },
    {
     "name": "stderr",
     "output_type": "stream",
     "text": [
      "Epoch 3:  71%|███████▏  | 62/87 [01:57<00:43,  1.73s/it]"
     ]
    },
    {
     "name": "stdout",
     "output_type": "stream",
     "text": [
      "v min/max: -1.000/0.872, v_prim min/max: -0.994/0.842\n",
      "q1 nan nan\n",
      "q2 nan nan\n",
      "z1 nan nan\n",
      "z2 nan nan\n"
     ]
    },
    {
     "name": "stderr",
     "output_type": "stream",
     "text": [
      "Epoch 3:  72%|███████▏  | 63/87 [01:59<00:41,  1.71s/it]"
     ]
    },
    {
     "name": "stdout",
     "output_type": "stream",
     "text": [
      "v min/max: -1.000/1.000, v_prim min/max: -0.999/0.726\n",
      "q1 nan nan\n",
      "q2 nan nan\n",
      "z1 nan nan\n",
      "z2 nan nan\n"
     ]
    },
    {
     "name": "stderr",
     "output_type": "stream",
     "text": [
      "Epoch 3:  74%|███████▎  | 64/87 [02:00<00:39,  1.71s/it]"
     ]
    },
    {
     "name": "stdout",
     "output_type": "stream",
     "text": [
      "v min/max: -1.000/0.736, v_prim min/max: -1.000/0.908\n",
      "q1 nan nan\n",
      "q2 nan nan\n",
      "z1 nan nan\n",
      "z2 nan nan\n"
     ]
    },
    {
     "name": "stderr",
     "output_type": "stream",
     "text": [
      "Epoch 3:  75%|███████▍  | 65/87 [02:02<00:37,  1.70s/it]"
     ]
    },
    {
     "name": "stdout",
     "output_type": "stream",
     "text": [
      "v min/max: -1.000/1.000, v_prim min/max: -1.000/0.483\n",
      "q1 nan nan\n",
      "q2 nan nan\n",
      "z1 nan nan\n",
      "z2 nan nan\n"
     ]
    },
    {
     "name": "stderr",
     "output_type": "stream",
     "text": [
      "Epoch 3:  76%|███████▌  | 66/87 [02:04<00:35,  1.68s/it]"
     ]
    },
    {
     "name": "stdout",
     "output_type": "stream",
     "text": [
      "v min/max: -1.000/0.247, v_prim min/max: -1.000/0.683\n",
      "q1 nan nan\n",
      "q2 nan nan\n",
      "z1 nan nan\n",
      "z2 nan nan\n"
     ]
    },
    {
     "name": "stderr",
     "output_type": "stream",
     "text": [
      "Epoch 3:  77%|███████▋  | 67/87 [02:05<00:33,  1.70s/it]"
     ]
    },
    {
     "name": "stdout",
     "output_type": "stream",
     "text": [
      "v min/max: -1.000/0.353, v_prim min/max: -1.000/1.000\n",
      "q1 nan nan\n",
      "q2 nan nan\n",
      "z1 nan nan\n",
      "z2 nan nan\n"
     ]
    },
    {
     "name": "stderr",
     "output_type": "stream",
     "text": [
      "Epoch 3:  78%|███████▊  | 68/87 [02:07<00:32,  1.73s/it]"
     ]
    },
    {
     "name": "stdout",
     "output_type": "stream",
     "text": [
      "v min/max: -1.000/1.000, v_prim min/max: -1.000/0.969\n",
      "q1 nan nan\n",
      "q2 nan nan\n",
      "z1 nan nan\n",
      "z2 nan nan\n"
     ]
    },
    {
     "name": "stderr",
     "output_type": "stream",
     "text": [
      "Epoch 3:  79%|███████▉  | 69/87 [02:09<00:31,  1.75s/it]"
     ]
    },
    {
     "name": "stdout",
     "output_type": "stream",
     "text": [
      "v min/max: -1.000/0.900, v_prim min/max: -1.000/0.921\n",
      "q1 nan nan\n",
      "q2 nan nan\n",
      "z1 nan nan\n",
      "z2 nan nan\n"
     ]
    },
    {
     "name": "stderr",
     "output_type": "stream",
     "text": [
      "Epoch 3:  80%|████████  | 70/87 [02:11<00:29,  1.75s/it]"
     ]
    },
    {
     "name": "stdout",
     "output_type": "stream",
     "text": [
      "v min/max: -1.000/1.000, v_prim min/max: -1.000/1.000\n",
      "q1 nan nan\n",
      "q2 nan nan\n",
      "z1 nan nan\n",
      "z2 nan nan\n"
     ]
    },
    {
     "name": "stderr",
     "output_type": "stream",
     "text": [
      "Epoch 3:  82%|████████▏ | 71/87 [02:12<00:27,  1.74s/it]"
     ]
    },
    {
     "name": "stdout",
     "output_type": "stream",
     "text": [
      "v min/max: -1.000/0.480, v_prim min/max: -1.000/0.133\n",
      "q1 nan nan\n",
      "q2 nan nan\n",
      "z1 nan nan\n",
      "z2 nan nan\n"
     ]
    },
    {
     "name": "stderr",
     "output_type": "stream",
     "text": [
      "Epoch 3:  83%|████████▎ | 72/87 [02:14<00:26,  1.74s/it]"
     ]
    },
    {
     "name": "stdout",
     "output_type": "stream",
     "text": [
      "v min/max: -1.000/1.000, v_prim min/max: -1.000/0.405\n",
      "q1 nan nan\n",
      "q2 nan nan\n",
      "z1 nan nan\n",
      "z2 nan nan\n"
     ]
    },
    {
     "name": "stderr",
     "output_type": "stream",
     "text": [
      "Epoch 3:  84%|████████▍ | 73/87 [02:16<00:24,  1.78s/it]"
     ]
    },
    {
     "name": "stdout",
     "output_type": "stream",
     "text": [
      "v min/max: -1.000/0.921, v_prim min/max: -1.000/1.000\n",
      "q1 nan nan\n",
      "q2 nan nan\n",
      "z1 nan nan\n",
      "z2 nan nan\n"
     ]
    },
    {
     "name": "stderr",
     "output_type": "stream",
     "text": [
      "Epoch 3:  85%|████████▌ | 74/87 [02:18<00:22,  1.76s/it]"
     ]
    },
    {
     "name": "stdout",
     "output_type": "stream",
     "text": [
      "v min/max: -1.000/1.000, v_prim min/max: -1.000/0.931\n",
      "q1 nan nan\n",
      "q2 nan nan\n",
      "z1 nan nan\n",
      "z2 nan nan\n"
     ]
    },
    {
     "name": "stderr",
     "output_type": "stream",
     "text": [
      "Epoch 3:  86%|████████▌ | 75/87 [02:19<00:20,  1.75s/it]"
     ]
    },
    {
     "name": "stdout",
     "output_type": "stream",
     "text": [
      "v min/max: -1.000/0.954, v_prim min/max: -1.000/1.000\n",
      "q1 nan nan\n",
      "q2 nan nan\n",
      "z1 nan nan\n",
      "z2 nan nan\n"
     ]
    },
    {
     "name": "stderr",
     "output_type": "stream",
     "text": [
      "Epoch 3:  87%|████████▋ | 76/87 [02:21<00:18,  1.72s/it]"
     ]
    },
    {
     "name": "stdout",
     "output_type": "stream",
     "text": [
      "v min/max: -1.000/1.000, v_prim min/max: -1.000/0.905\n",
      "q1 nan nan\n",
      "q2 nan nan\n",
      "z1 nan nan\n",
      "z2 nan nan\n"
     ]
    },
    {
     "name": "stderr",
     "output_type": "stream",
     "text": [
      "Epoch 3:  89%|████████▊ | 77/87 [02:23<00:17,  1.72s/it]"
     ]
    },
    {
     "name": "stdout",
     "output_type": "stream",
     "text": [
      "v min/max: -1.000/1.000, v_prim min/max: -1.000/0.347\n",
      "q1 nan nan\n",
      "q2 nan nan\n",
      "z1 nan nan\n",
      "z2 nan nan\n"
     ]
    },
    {
     "name": "stderr",
     "output_type": "stream",
     "text": [
      "Epoch 3:  90%|████████▉ | 78/87 [02:24<00:15,  1.70s/it]"
     ]
    },
    {
     "name": "stdout",
     "output_type": "stream",
     "text": [
      "v min/max: -1.000/1.000, v_prim min/max: -0.998/0.915\n",
      "q1 nan nan\n",
      "q2 nan nan\n",
      "z1 nan nan\n",
      "z2 nan nan\n"
     ]
    },
    {
     "name": "stderr",
     "output_type": "stream",
     "text": [
      "Epoch 3:  91%|█████████ | 79/87 [02:26<00:13,  1.67s/it]"
     ]
    },
    {
     "name": "stdout",
     "output_type": "stream",
     "text": [
      "v min/max: -1.000/0.680, v_prim min/max: -1.000/0.952\n",
      "q1 nan nan\n",
      "q2 nan nan\n",
      "z1 nan nan\n",
      "z2 nan nan\n"
     ]
    },
    {
     "name": "stderr",
     "output_type": "stream",
     "text": [
      "Epoch 3:  92%|█████████▏| 80/87 [02:28<00:11,  1.66s/it]"
     ]
    },
    {
     "name": "stdout",
     "output_type": "stream",
     "text": [
      "v min/max: -1.000/0.196, v_prim min/max: -1.000/0.249\n",
      "q1 nan nan\n",
      "q2 nan nan\n",
      "z1 nan nan\n",
      "z2 nan nan\n"
     ]
    },
    {
     "name": "stderr",
     "output_type": "stream",
     "text": [
      "Epoch 3:  93%|█████████▎| 81/87 [02:29<00:09,  1.66s/it]"
     ]
    },
    {
     "name": "stdout",
     "output_type": "stream",
     "text": [
      "v min/max: -1.000/1.000, v_prim min/max: -1.000/1.000\n",
      "q1 nan nan\n",
      "q2 nan nan\n",
      "z1 nan nan\n",
      "z2 nan nan\n"
     ]
    },
    {
     "name": "stderr",
     "output_type": "stream",
     "text": [
      "Epoch 3:  94%|█████████▍| 82/87 [02:31<00:08,  1.66s/it]"
     ]
    },
    {
     "name": "stdout",
     "output_type": "stream",
     "text": [
      "v min/max: -1.000/1.000, v_prim min/max: -1.000/0.720\n",
      "q1 nan nan\n",
      "q2 nan nan\n",
      "z1 nan nan\n",
      "z2 nan nan\n"
     ]
    },
    {
     "name": "stderr",
     "output_type": "stream",
     "text": [
      "Epoch 3:  95%|█████████▌| 83/87 [02:33<00:06,  1.67s/it]"
     ]
    },
    {
     "name": "stdout",
     "output_type": "stream",
     "text": [
      "v min/max: -1.000/0.780, v_prim min/max: -1.000/1.000\n",
      "q1 nan nan\n",
      "q2 nan nan\n",
      "z1 nan nan\n",
      "z2 nan nan\n"
     ]
    },
    {
     "name": "stderr",
     "output_type": "stream",
     "text": [
      "Epoch 3:  97%|█████████▋| 84/87 [02:34<00:05,  1.68s/it]"
     ]
    },
    {
     "name": "stdout",
     "output_type": "stream",
     "text": [
      "v min/max: -1.000/1.000, v_prim min/max: -1.000/0.127\n",
      "q1 nan nan\n",
      "q2 nan nan\n",
      "z1 nan nan\n",
      "z2 nan nan\n"
     ]
    },
    {
     "name": "stderr",
     "output_type": "stream",
     "text": [
      "Epoch 3:  98%|█████████▊| 85/87 [02:36<00:03,  1.69s/it]"
     ]
    },
    {
     "name": "stdout",
     "output_type": "stream",
     "text": [
      "v min/max: -1.000/0.697, v_prim min/max: -1.000/0.984\n",
      "q1 nan nan\n",
      "q2 nan nan\n",
      "z1 nan nan\n",
      "z2 nan nan\n"
     ]
    },
    {
     "name": "stderr",
     "output_type": "stream",
     "text": [
      "Epoch 3:  99%|█████████▉| 86/87 [02:38<00:01,  1.69s/it]"
     ]
    },
    {
     "name": "stdout",
     "output_type": "stream",
     "text": [
      "v min/max: -0.998/0.322, v_prim min/max: -1.000/1.000\n",
      "q1 nan nan\n",
      "q2 nan nan\n",
      "z1 nan nan\n",
      "z2 nan nan\n"
     ]
    },
    {
     "name": "stderr",
     "output_type": "stream",
     "text": [
      "Epoch 3: 100%|██████████| 87/87 [02:39<00:00,  1.83s/it]\n"
     ]
    },
    {
     "name": "stdout",
     "output_type": "stream",
     "text": [
      "Epoch 3: BYOL training loss = nan\n"
     ]
    },
    {
     "name": "stderr",
     "output_type": "stream",
     "text": [
      "Epoch 4:   0%|          | 0/87 [00:00<?, ?it/s]"
     ]
    },
    {
     "name": "stdout",
     "output_type": "stream",
     "text": [
      "v min/max: -1.000/1.000, v_prim min/max: -1.000/0.380\n",
      "q1 nan nan\n",
      "q2 nan nan\n",
      "z1 nan nan\n",
      "z2 nan nan\n"
     ]
    },
    {
     "name": "stderr",
     "output_type": "stream",
     "text": [
      "Epoch 4:   1%|          | 1/87 [00:14<20:35, 14.37s/it]"
     ]
    },
    {
     "name": "stdout",
     "output_type": "stream",
     "text": [
      "v min/max: -1.000/1.000, v_prim min/max: -1.000/0.497\n",
      "q1 nan nan\n",
      "q2 nan nan\n",
      "z1 nan nan\n",
      "z2 nan nan\n"
     ]
    },
    {
     "name": "stderr",
     "output_type": "stream",
     "text": [
      "Epoch 4:   2%|▏         | 2/87 [00:15<09:41,  6.84s/it]"
     ]
    },
    {
     "name": "stdout",
     "output_type": "stream",
     "text": [
      "v min/max: -1.000/0.384, v_prim min/max: -1.000/1.000\n",
      "q1 nan nan\n",
      "q2 nan nan\n",
      "z1 nan nan\n",
      "z2 nan nan\n"
     ]
    },
    {
     "name": "stderr",
     "output_type": "stream",
     "text": [
      "Epoch 4:   3%|▎         | 3/87 [00:17<06:13,  4.45s/it]"
     ]
    },
    {
     "name": "stdout",
     "output_type": "stream",
     "text": [
      "v min/max: -1.000/1.000, v_prim min/max: -1.000/1.000\n",
      "q1 nan nan\n",
      "q2 nan nan\n",
      "z1 nan nan\n",
      "z2 nan nan\n"
     ]
    },
    {
     "name": "stderr",
     "output_type": "stream",
     "text": [
      "Epoch 4:   5%|▍         | 4/87 [00:19<04:34,  3.30s/it]"
     ]
    },
    {
     "name": "stdout",
     "output_type": "stream",
     "text": [
      "v min/max: -1.000/0.601, v_prim min/max: -1.000/1.000\n",
      "q1 nan nan\n",
      "q2 nan nan\n",
      "z1 nan nan\n",
      "z2 nan nan\n"
     ]
    },
    {
     "name": "stderr",
     "output_type": "stream",
     "text": [
      "Epoch 4:   6%|▌         | 5/87 [00:20<03:38,  2.67s/it]"
     ]
    },
    {
     "name": "stdout",
     "output_type": "stream",
     "text": [
      "v min/max: -1.000/0.935, v_prim min/max: -1.000/0.653\n",
      "q1 nan nan\n",
      "q2 nan nan\n",
      "z1 nan nan\n",
      "z2 nan nan\n"
     ]
    },
    {
     "name": "stderr",
     "output_type": "stream",
     "text": [
      "Epoch 4:   7%|▋         | 6/87 [00:22<03:09,  2.33s/it]"
     ]
    },
    {
     "name": "stdout",
     "output_type": "stream",
     "text": [
      "v min/max: -1.000/1.000, v_prim min/max: -1.000/1.000\n",
      "q1 nan nan\n",
      "q2 nan nan\n",
      "z1 nan nan\n",
      "z2 nan nan\n"
     ]
    },
    {
     "name": "stderr",
     "output_type": "stream",
     "text": [
      "Epoch 4:   8%|▊         | 7/87 [00:23<02:48,  2.11s/it]"
     ]
    },
    {
     "name": "stdout",
     "output_type": "stream",
     "text": [
      "v min/max: -1.000/1.000, v_prim min/max: -1.000/1.000\n",
      "q1 nan nan\n",
      "q2 nan nan\n",
      "z1 nan nan\n",
      "z2 nan nan\n"
     ]
    },
    {
     "name": "stderr",
     "output_type": "stream",
     "text": [
      "Epoch 4:   9%|▉         | 8/87 [00:25<02:33,  1.95s/it]"
     ]
    },
    {
     "name": "stdout",
     "output_type": "stream",
     "text": [
      "v min/max: -1.000/0.375, v_prim min/max: -1.000/1.000\n",
      "q1 nan nan\n",
      "q2 nan nan\n",
      "z1 nan nan\n",
      "z2 nan nan\n"
     ]
    },
    {
     "name": "stderr",
     "output_type": "stream",
     "text": [
      "Epoch 4:  10%|█         | 9/87 [00:27<02:24,  1.85s/it]"
     ]
    },
    {
     "name": "stdout",
     "output_type": "stream",
     "text": [
      "v min/max: -1.000/0.766, v_prim min/max: -0.999/0.184\n",
      "q1 nan nan\n",
      "q2 nan nan\n",
      "z1 nan nan\n",
      "z2 nan nan\n"
     ]
    },
    {
     "name": "stderr",
     "output_type": "stream",
     "text": [
      "Epoch 4:  11%|█▏        | 10/87 [00:28<02:17,  1.79s/it]"
     ]
    },
    {
     "name": "stdout",
     "output_type": "stream",
     "text": [
      "v min/max: -1.000/1.000, v_prim min/max: -1.000/0.255\n",
      "q1 nan nan\n",
      "q2 nan nan\n",
      "z1 nan nan\n",
      "z2 nan nan\n"
     ]
    },
    {
     "name": "stderr",
     "output_type": "stream",
     "text": [
      "Epoch 4:  13%|█▎        | 11/87 [00:30<02:13,  1.75s/it]"
     ]
    },
    {
     "name": "stdout",
     "output_type": "stream",
     "text": [
      "v min/max: -1.000/1.000, v_prim min/max: -1.000/0.432\n",
      "q1 nan nan\n",
      "q2 nan nan\n",
      "z1 nan nan\n",
      "z2 nan nan\n"
     ]
    },
    {
     "name": "stderr",
     "output_type": "stream",
     "text": [
      "Epoch 4:  14%|█▍        | 12/87 [00:32<02:08,  1.72s/it]"
     ]
    },
    {
     "name": "stdout",
     "output_type": "stream",
     "text": [
      "v min/max: -1.000/1.000, v_prim min/max: -1.000/0.752\n",
      "q1 nan nan\n",
      "q2 nan nan\n",
      "z1 nan nan\n",
      "z2 nan nan\n"
     ]
    },
    {
     "name": "stderr",
     "output_type": "stream",
     "text": [
      "Epoch 4:  15%|█▍        | 13/87 [00:33<02:05,  1.70s/it]"
     ]
    },
    {
     "name": "stdout",
     "output_type": "stream",
     "text": [
      "v min/max: -1.000/0.799, v_prim min/max: -1.000/1.000\n",
      "q1 nan nan\n",
      "q2 nan nan\n",
      "z1 nan nan\n",
      "z2 nan nan\n"
     ]
    },
    {
     "name": "stderr",
     "output_type": "stream",
     "text": [
      "Epoch 4:  16%|█▌        | 14/87 [00:35<02:04,  1.71s/it]"
     ]
    },
    {
     "name": "stdout",
     "output_type": "stream",
     "text": [
      "v min/max: -1.000/0.847, v_prim min/max: -1.000/1.000\n",
      "q1 nan nan\n",
      "q2 nan nan\n",
      "z1 nan nan\n",
      "z2 nan nan\n"
     ]
    },
    {
     "name": "stderr",
     "output_type": "stream",
     "text": [
      "Epoch 4:  17%|█▋        | 15/87 [00:37<02:01,  1.69s/it]"
     ]
    },
    {
     "name": "stdout",
     "output_type": "stream",
     "text": [
      "v min/max: -1.000/0.910, v_prim min/max: -1.000/0.999\n",
      "q1 nan nan\n",
      "q2 nan nan\n",
      "z1 nan nan\n",
      "z2 nan nan\n"
     ]
    },
    {
     "name": "stderr",
     "output_type": "stream",
     "text": [
      "Epoch 4:  18%|█▊        | 16/87 [00:38<01:59,  1.68s/it]"
     ]
    },
    {
     "name": "stdout",
     "output_type": "stream",
     "text": [
      "v min/max: -1.000/0.736, v_prim min/max: -1.000/1.000\n",
      "q1 nan nan\n",
      "q2 nan nan\n",
      "z1 nan nan\n",
      "z2 nan nan\n"
     ]
    },
    {
     "name": "stderr",
     "output_type": "stream",
     "text": [
      "Epoch 4:  20%|█▉        | 17/87 [00:40<01:57,  1.67s/it]"
     ]
    },
    {
     "name": "stdout",
     "output_type": "stream",
     "text": [
      "v min/max: -1.000/0.598, v_prim min/max: -1.000/0.883\n",
      "q1 nan nan\n",
      "q2 nan nan\n",
      "z1 nan nan\n",
      "z2 nan nan\n"
     ]
    },
    {
     "name": "stderr",
     "output_type": "stream",
     "text": [
      "Epoch 4:  21%|██        | 18/87 [00:42<01:55,  1.67s/it]"
     ]
    },
    {
     "name": "stdout",
     "output_type": "stream",
     "text": [
      "v min/max: -1.000/0.262, v_prim min/max: -1.000/1.000\n",
      "q1 nan nan\n",
      "q2 nan nan\n",
      "z1 nan nan\n",
      "z2 nan nan\n"
     ]
    },
    {
     "name": "stderr",
     "output_type": "stream",
     "text": [
      "Epoch 4:  22%|██▏       | 19/87 [00:43<01:52,  1.65s/it]"
     ]
    },
    {
     "name": "stdout",
     "output_type": "stream",
     "text": [
      "v min/max: -1.000/1.000, v_prim min/max: -1.000/1.000\n",
      "q1 nan nan\n",
      "q2 nan nan\n",
      "z1 nan nan\n",
      "z2 nan nan\n"
     ]
    },
    {
     "name": "stderr",
     "output_type": "stream",
     "text": [
      "Epoch 4:  23%|██▎       | 20/87 [00:45<01:50,  1.65s/it]"
     ]
    },
    {
     "name": "stdout",
     "output_type": "stream",
     "text": [
      "v min/max: -1.000/1.000, v_prim min/max: -1.000/0.835\n",
      "q1 nan nan\n",
      "q2 nan nan\n",
      "z1 nan nan\n",
      "z2 nan nan\n"
     ]
    },
    {
     "name": "stderr",
     "output_type": "stream",
     "text": [
      "Epoch 4:  24%|██▍       | 21/87 [00:47<01:49,  1.66s/it]"
     ]
    },
    {
     "name": "stdout",
     "output_type": "stream",
     "text": [
      "v min/max: -1.000/0.587, v_prim min/max: -1.000/0.542\n",
      "q1 nan nan\n",
      "q2 nan nan\n",
      "z1 nan nan\n",
      "z2 nan nan\n"
     ]
    },
    {
     "name": "stderr",
     "output_type": "stream",
     "text": [
      "Epoch 4:  25%|██▌       | 22/87 [00:48<01:47,  1.66s/it]"
     ]
    },
    {
     "name": "stdout",
     "output_type": "stream",
     "text": [
      "v min/max: -1.000/0.504, v_prim min/max: -1.000/1.000\n",
      "q1 nan nan\n",
      "q2 nan nan\n",
      "z1 nan nan\n",
      "z2 nan nan\n"
     ]
    },
    {
     "name": "stderr",
     "output_type": "stream",
     "text": [
      "Epoch 4:  26%|██▋       | 23/87 [00:50<01:45,  1.64s/it]"
     ]
    },
    {
     "name": "stdout",
     "output_type": "stream",
     "text": [
      "v min/max: -0.998/0.506, v_prim min/max: -1.000/1.000\n",
      "q1 nan nan\n",
      "q2 nan nan\n",
      "z1 nan nan\n",
      "z2 nan nan\n"
     ]
    },
    {
     "name": "stderr",
     "output_type": "stream",
     "text": [
      "Epoch 4:  28%|██▊       | 24/87 [00:52<01:43,  1.65s/it]"
     ]
    },
    {
     "name": "stdout",
     "output_type": "stream",
     "text": [
      "v min/max: -1.000/0.586, v_prim min/max: -1.000/0.792\n",
      "q1 nan nan\n",
      "q2 nan nan\n",
      "z1 nan nan\n",
      "z2 nan nan\n"
     ]
    },
    {
     "name": "stderr",
     "output_type": "stream",
     "text": [
      "Epoch 4:  29%|██▊       | 25/87 [00:53<01:43,  1.66s/it]"
     ]
    },
    {
     "name": "stdout",
     "output_type": "stream",
     "text": [
      "v min/max: -1.000/1.000, v_prim min/max: -1.000/0.939\n",
      "q1 nan nan\n",
      "q2 nan nan\n",
      "z1 nan nan\n",
      "z2 nan nan\n"
     ]
    },
    {
     "name": "stderr",
     "output_type": "stream",
     "text": [
      "Epoch 4:  30%|██▉       | 26/87 [00:55<01:41,  1.67s/it]"
     ]
    },
    {
     "name": "stdout",
     "output_type": "stream",
     "text": [
      "v min/max: -1.000/0.982, v_prim min/max: -1.000/0.810\n",
      "q1 nan nan\n",
      "q2 nan nan\n",
      "z1 nan nan\n",
      "z2 nan nan\n"
     ]
    },
    {
     "name": "stderr",
     "output_type": "stream",
     "text": [
      "Epoch 4:  31%|███       | 27/87 [00:57<01:39,  1.67s/it]"
     ]
    },
    {
     "name": "stdout",
     "output_type": "stream",
     "text": [
      "v min/max: -1.000/0.761, v_prim min/max: -1.000/0.227\n",
      "q1 nan nan\n",
      "q2 nan nan\n",
      "z1 nan nan\n",
      "z2 nan nan\n"
     ]
    },
    {
     "name": "stderr",
     "output_type": "stream",
     "text": [
      "Epoch 4:  32%|███▏      | 28/87 [00:58<01:37,  1.66s/it]"
     ]
    },
    {
     "name": "stdout",
     "output_type": "stream",
     "text": [
      "v min/max: -1.000/0.990, v_prim min/max: -1.000/0.982\n",
      "q1 nan nan\n",
      "q2 nan nan\n",
      "z1 nan nan\n",
      "z2 nan nan\n"
     ]
    },
    {
     "name": "stderr",
     "output_type": "stream",
     "text": [
      "Epoch 4:  33%|███▎      | 29/87 [01:00<01:35,  1.66s/it]"
     ]
    },
    {
     "name": "stdout",
     "output_type": "stream",
     "text": [
      "v min/max: -1.000/0.254, v_prim min/max: -1.000/0.396\n",
      "q1 nan nan\n",
      "q2 nan nan\n",
      "z1 nan nan\n",
      "z2 nan nan\n"
     ]
    },
    {
     "name": "stderr",
     "output_type": "stream",
     "text": [
      "Epoch 4:  34%|███▍      | 30/87 [01:02<01:35,  1.68s/it]"
     ]
    },
    {
     "name": "stdout",
     "output_type": "stream",
     "text": [
      "v min/max: -1.000/0.314, v_prim min/max: -1.000/1.000\n",
      "q1 nan nan\n",
      "q2 nan nan\n",
      "z1 nan nan\n",
      "z2 nan nan\n"
     ]
    },
    {
     "name": "stderr",
     "output_type": "stream",
     "text": [
      "Epoch 4:  36%|███▌      | 31/87 [01:03<01:33,  1.67s/it]"
     ]
    },
    {
     "name": "stdout",
     "output_type": "stream",
     "text": [
      "v min/max: -1.000/1.000, v_prim min/max: -1.000/0.977\n",
      "q1 nan nan\n",
      "q2 nan nan\n",
      "z1 nan nan\n",
      "z2 nan nan\n"
     ]
    },
    {
     "name": "stderr",
     "output_type": "stream",
     "text": [
      "Epoch 4:  37%|███▋      | 32/87 [01:05<01:33,  1.69s/it]"
     ]
    },
    {
     "name": "stdout",
     "output_type": "stream",
     "text": [
      "v min/max: -1.000/0.758, v_prim min/max: -1.000/1.000\n",
      "q1 nan nan\n",
      "q2 nan nan\n",
      "z1 nan nan\n",
      "z2 nan nan\n"
     ]
    },
    {
     "name": "stderr",
     "output_type": "stream",
     "text": [
      "Epoch 4:  38%|███▊      | 33/87 [01:07<01:32,  1.71s/it]"
     ]
    },
    {
     "name": "stdout",
     "output_type": "stream",
     "text": [
      "v min/max: -1.000/1.000, v_prim min/max: -1.000/1.000\n",
      "q1 nan nan\n",
      "q2 nan nan\n",
      "z1 nan nan\n",
      "z2 nan nan\n"
     ]
    },
    {
     "name": "stderr",
     "output_type": "stream",
     "text": [
      "Epoch 4:  39%|███▉      | 34/87 [01:09<01:31,  1.73s/it]"
     ]
    },
    {
     "name": "stdout",
     "output_type": "stream",
     "text": [
      "v min/max: -1.000/1.000, v_prim min/max: -1.000/1.000\n",
      "q1 nan nan\n",
      "q2 nan nan\n",
      "z1 nan nan\n",
      "z2 nan nan\n"
     ]
    },
    {
     "name": "stderr",
     "output_type": "stream",
     "text": [
      "Epoch 4:  40%|████      | 35/87 [01:10<01:29,  1.73s/it]"
     ]
    },
    {
     "name": "stdout",
     "output_type": "stream",
     "text": [
      "v min/max: -1.000/1.000, v_prim min/max: -1.000/1.000\n",
      "q1 nan nan\n",
      "q2 nan nan\n"
     ]
    },
    {
     "name": "stderr",
     "output_type": "stream",
     "text": [
      "Epoch 4:  40%|████      | 35/87 [01:11<01:46,  2.06s/it]\n"
     ]
    },
    {
     "ename": "KeyboardInterrupt",
     "evalue": "",
     "output_type": "error",
     "traceback": [
      "\u001b[1;31m---------------------------------------------------------------------------\u001b[0m",
      "\u001b[1;31mKeyboardInterrupt\u001b[0m                         Traceback (most recent call last)",
      "Cell \u001b[1;32mIn[8], line 2\u001b[0m\n\u001b[0;32m      1\u001b[0m byol \u001b[38;5;241m=\u001b[39m byol\u001b[38;5;241m.\u001b[39mto(device)\n\u001b[1;32m----> 2\u001b[0m \u001b[43mfit_byol\u001b[49m\u001b[43m(\u001b[49m\u001b[43mmodel\u001b[49m\u001b[38;5;241;43m=\u001b[39;49m\u001b[43mbyol\u001b[49m\u001b[43m,\u001b[49m\u001b[43m \u001b[49m\u001b[43moptimiser\u001b[49m\u001b[38;5;241;43m=\u001b[39;49m\u001b[43moptim\u001b[49m\u001b[38;5;241;43m.\u001b[39;49m\u001b[43mAdam\u001b[49m\u001b[43m(\u001b[49m\u001b[43mbyol\u001b[49m\u001b[38;5;241;43m.\u001b[39;49m\u001b[43mparameters\u001b[49m\u001b[43m(\u001b[49m\u001b[43m)\u001b[49m\u001b[43m,\u001b[49m\u001b[43m \u001b[49m\u001b[43mlr\u001b[49m\u001b[38;5;241;43m=\u001b[39;49m\u001b[38;5;241;43m1e-4\u001b[39;49m\u001b[43m)\u001b[49m\u001b[43m,\u001b[49m\u001b[43m \u001b[49m\u001b[43mdataloader\u001b[49m\u001b[38;5;241;43m=\u001b[39;49m\u001b[43mtrain_loader\u001b[49m\u001b[43m,\u001b[49m\u001b[43m \u001b[49m\u001b[43mepochs\u001b[49m\u001b[38;5;241;43m=\u001b[39;49m\u001b[38;5;241;43m5\u001b[39;49m\u001b[43m,\u001b[49m\u001b[43m \u001b[49m\u001b[43mdevice\u001b[49m\u001b[38;5;241;43m=\u001b[39;49m\u001b[43mdevice\u001b[49m\u001b[43m)\u001b[49m\n",
      "Cell \u001b[1;32mIn[7], line 23\u001b[0m, in \u001b[0;36mfit_byol\u001b[1;34m(model, optimiser, dataloader, epochs, device, print_metrics)\u001b[0m\n\u001b[0;32m     20\u001b[0m \u001b[38;5;28;01mfor\u001b[39;00m x_batch, _ \u001b[38;5;129;01min\u001b[39;00m tqdm(dataloader, desc\u001b[38;5;241m=\u001b[39m\u001b[38;5;124mf\u001b[39m\u001b[38;5;124m\"\u001b[39m\u001b[38;5;124mEpoch \u001b[39m\u001b[38;5;132;01m{\u001b[39;00mepoch\u001b[38;5;132;01m}\u001b[39;00m\u001b[38;5;124m\"\u001b[39m):\n\u001b[0;32m     21\u001b[0m     x_batch \u001b[38;5;241m=\u001b[39m x_batch\u001b[38;5;241m.\u001b[39mto(device)\n\u001b[1;32m---> 23\u001b[0m     q, z \u001b[38;5;241m=\u001b[39m \u001b[43mmodel\u001b[49m\u001b[43m(\u001b[49m\u001b[43mx_batch\u001b[49m\u001b[43m)\u001b[49m\n\u001b[0;32m     25\u001b[0m     loss \u001b[38;5;241m=\u001b[39m model\u001b[38;5;241m.\u001b[39mbyol_loss(q, z)\n\u001b[0;32m     27\u001b[0m     optimiser\u001b[38;5;241m.\u001b[39mzero_grad()\n",
      "File \u001b[1;32md:\\studia\\priv\\Inpainting\\venv\\lib\\site-packages\\torch\\nn\\modules\\module.py:1739\u001b[0m, in \u001b[0;36mModule._wrapped_call_impl\u001b[1;34m(self, *args, **kwargs)\u001b[0m\n\u001b[0;32m   1737\u001b[0m     \u001b[38;5;28;01mreturn\u001b[39;00m \u001b[38;5;28mself\u001b[39m\u001b[38;5;241m.\u001b[39m_compiled_call_impl(\u001b[38;5;241m*\u001b[39margs, \u001b[38;5;241m*\u001b[39m\u001b[38;5;241m*\u001b[39mkwargs)  \u001b[38;5;66;03m# type: ignore[misc]\u001b[39;00m\n\u001b[0;32m   1738\u001b[0m \u001b[38;5;28;01melse\u001b[39;00m:\n\u001b[1;32m-> 1739\u001b[0m     \u001b[38;5;28;01mreturn\u001b[39;00m \u001b[38;5;28mself\u001b[39m\u001b[38;5;241m.\u001b[39m_call_impl(\u001b[38;5;241m*\u001b[39margs, \u001b[38;5;241m*\u001b[39m\u001b[38;5;241m*\u001b[39mkwargs)\n",
      "File \u001b[1;32md:\\studia\\priv\\Inpainting\\venv\\lib\\site-packages\\torch\\nn\\modules\\module.py:1750\u001b[0m, in \u001b[0;36mModule._call_impl\u001b[1;34m(self, *args, **kwargs)\u001b[0m\n\u001b[0;32m   1745\u001b[0m \u001b[38;5;66;03m# If we don't have any hooks, we want to skip the rest of the logic in\u001b[39;00m\n\u001b[0;32m   1746\u001b[0m \u001b[38;5;66;03m# this function, and just call forward.\u001b[39;00m\n\u001b[0;32m   1747\u001b[0m \u001b[38;5;28;01mif\u001b[39;00m \u001b[38;5;129;01mnot\u001b[39;00m (\u001b[38;5;28mself\u001b[39m\u001b[38;5;241m.\u001b[39m_backward_hooks \u001b[38;5;129;01mor\u001b[39;00m \u001b[38;5;28mself\u001b[39m\u001b[38;5;241m.\u001b[39m_backward_pre_hooks \u001b[38;5;129;01mor\u001b[39;00m \u001b[38;5;28mself\u001b[39m\u001b[38;5;241m.\u001b[39m_forward_hooks \u001b[38;5;129;01mor\u001b[39;00m \u001b[38;5;28mself\u001b[39m\u001b[38;5;241m.\u001b[39m_forward_pre_hooks\n\u001b[0;32m   1748\u001b[0m         \u001b[38;5;129;01mor\u001b[39;00m _global_backward_pre_hooks \u001b[38;5;129;01mor\u001b[39;00m _global_backward_hooks\n\u001b[0;32m   1749\u001b[0m         \u001b[38;5;129;01mor\u001b[39;00m _global_forward_hooks \u001b[38;5;129;01mor\u001b[39;00m _global_forward_pre_hooks):\n\u001b[1;32m-> 1750\u001b[0m     \u001b[38;5;28;01mreturn\u001b[39;00m forward_call(\u001b[38;5;241m*\u001b[39margs, \u001b[38;5;241m*\u001b[39m\u001b[38;5;241m*\u001b[39mkwargs)\n\u001b[0;32m   1752\u001b[0m result \u001b[38;5;241m=\u001b[39m \u001b[38;5;28;01mNone\u001b[39;00m\n\u001b[0;32m   1753\u001b[0m called_always_called_hooks \u001b[38;5;241m=\u001b[39m \u001b[38;5;28mset\u001b[39m()\n",
      "File \u001b[1;32md:\\studia\\priv\\Inpainting\\src\\models\\byol\\BYOL.py:59\u001b[0m, in \u001b[0;36mBYOL.forward\u001b[1;34m(self, x_batch)\u001b[0m\n\u001b[0;32m     57\u001b[0m \u001b[38;5;28mprint\u001b[39m(\u001b[38;5;124m\"\u001b[39m\u001b[38;5;124mq2\u001b[39m\u001b[38;5;124m\"\u001b[39m, q2\u001b[38;5;241m.\u001b[39mmean()\u001b[38;5;241m.\u001b[39mitem(), q2\u001b[38;5;241m.\u001b[39mstd()\u001b[38;5;241m.\u001b[39mitem())\n\u001b[0;32m     58\u001b[0m q2 \u001b[38;5;241m=\u001b[39m torch\u001b[38;5;241m.\u001b[39mflatten(q2, \u001b[38;5;241m1\u001b[39m)\n\u001b[1;32m---> 59\u001b[0m q2 \u001b[38;5;241m=\u001b[39m \u001b[38;5;28mself\u001b[39m\u001b[38;5;241m.\u001b[39monline_predictor(\u001b[38;5;28;43mself\u001b[39;49m\u001b[38;5;241;43m.\u001b[39;49m\u001b[43monline_projector\u001b[49m\u001b[43m(\u001b[49m\u001b[43mq2\u001b[49m\u001b[43m)\u001b[49m)\n\u001b[0;32m     61\u001b[0m \u001b[38;5;28;01mwith\u001b[39;00m torch\u001b[38;5;241m.\u001b[39mno_grad():\n\u001b[0;32m     62\u001b[0m     z1 \u001b[38;5;241m=\u001b[39m \u001b[38;5;28mself\u001b[39m\u001b[38;5;241m.\u001b[39mtarget_encoder(v_prim)\n",
      "File \u001b[1;32md:\\studia\\priv\\Inpainting\\venv\\lib\\site-packages\\torch\\nn\\modules\\module.py:1739\u001b[0m, in \u001b[0;36mModule._wrapped_call_impl\u001b[1;34m(self, *args, **kwargs)\u001b[0m\n\u001b[0;32m   1737\u001b[0m     \u001b[38;5;28;01mreturn\u001b[39;00m \u001b[38;5;28mself\u001b[39m\u001b[38;5;241m.\u001b[39m_compiled_call_impl(\u001b[38;5;241m*\u001b[39margs, \u001b[38;5;241m*\u001b[39m\u001b[38;5;241m*\u001b[39mkwargs)  \u001b[38;5;66;03m# type: ignore[misc]\u001b[39;00m\n\u001b[0;32m   1738\u001b[0m \u001b[38;5;28;01melse\u001b[39;00m:\n\u001b[1;32m-> 1739\u001b[0m     \u001b[38;5;28;01mreturn\u001b[39;00m \u001b[38;5;28mself\u001b[39m\u001b[38;5;241m.\u001b[39m_call_impl(\u001b[38;5;241m*\u001b[39margs, \u001b[38;5;241m*\u001b[39m\u001b[38;5;241m*\u001b[39mkwargs)\n",
      "File \u001b[1;32md:\\studia\\priv\\Inpainting\\venv\\lib\\site-packages\\torch\\nn\\modules\\module.py:1750\u001b[0m, in \u001b[0;36mModule._call_impl\u001b[1;34m(self, *args, **kwargs)\u001b[0m\n\u001b[0;32m   1745\u001b[0m \u001b[38;5;66;03m# If we don't have any hooks, we want to skip the rest of the logic in\u001b[39;00m\n\u001b[0;32m   1746\u001b[0m \u001b[38;5;66;03m# this function, and just call forward.\u001b[39;00m\n\u001b[0;32m   1747\u001b[0m \u001b[38;5;28;01mif\u001b[39;00m \u001b[38;5;129;01mnot\u001b[39;00m (\u001b[38;5;28mself\u001b[39m\u001b[38;5;241m.\u001b[39m_backward_hooks \u001b[38;5;129;01mor\u001b[39;00m \u001b[38;5;28mself\u001b[39m\u001b[38;5;241m.\u001b[39m_backward_pre_hooks \u001b[38;5;129;01mor\u001b[39;00m \u001b[38;5;28mself\u001b[39m\u001b[38;5;241m.\u001b[39m_forward_hooks \u001b[38;5;129;01mor\u001b[39;00m \u001b[38;5;28mself\u001b[39m\u001b[38;5;241m.\u001b[39m_forward_pre_hooks\n\u001b[0;32m   1748\u001b[0m         \u001b[38;5;129;01mor\u001b[39;00m _global_backward_pre_hooks \u001b[38;5;129;01mor\u001b[39;00m _global_backward_hooks\n\u001b[0;32m   1749\u001b[0m         \u001b[38;5;129;01mor\u001b[39;00m _global_forward_hooks \u001b[38;5;129;01mor\u001b[39;00m _global_forward_pre_hooks):\n\u001b[1;32m-> 1750\u001b[0m     \u001b[38;5;28;01mreturn\u001b[39;00m forward_call(\u001b[38;5;241m*\u001b[39margs, \u001b[38;5;241m*\u001b[39m\u001b[38;5;241m*\u001b[39mkwargs)\n\u001b[0;32m   1752\u001b[0m result \u001b[38;5;241m=\u001b[39m \u001b[38;5;28;01mNone\u001b[39;00m\n\u001b[0;32m   1753\u001b[0m called_always_called_hooks \u001b[38;5;241m=\u001b[39m \u001b[38;5;28mset\u001b[39m()\n",
      "File \u001b[1;32md:\\studia\\priv\\Inpainting\\src\\models\\byol\\MLP.py:20\u001b[0m, in \u001b[0;36mMLP.forward\u001b[1;34m(self, x)\u001b[0m\n\u001b[0;32m     19\u001b[0m \u001b[38;5;28;01mdef\u001b[39;00m\u001b[38;5;250m \u001b[39m\u001b[38;5;21mforward\u001b[39m(\u001b[38;5;28mself\u001b[39m, x: torch\u001b[38;5;241m.\u001b[39mTensor) \u001b[38;5;241m-\u001b[39m\u001b[38;5;241m>\u001b[39m torch\u001b[38;5;241m.\u001b[39mTensor:\n\u001b[1;32m---> 20\u001b[0m     \u001b[38;5;28;01mreturn\u001b[39;00m \u001b[38;5;28;43mself\u001b[39;49m\u001b[38;5;241;43m.\u001b[39;49m\u001b[43mnet\u001b[49m\u001b[43m(\u001b[49m\u001b[43mx\u001b[49m\u001b[43m)\u001b[49m\n",
      "File \u001b[1;32md:\\studia\\priv\\Inpainting\\venv\\lib\\site-packages\\torch\\nn\\modules\\module.py:1739\u001b[0m, in \u001b[0;36mModule._wrapped_call_impl\u001b[1;34m(self, *args, **kwargs)\u001b[0m\n\u001b[0;32m   1737\u001b[0m     \u001b[38;5;28;01mreturn\u001b[39;00m \u001b[38;5;28mself\u001b[39m\u001b[38;5;241m.\u001b[39m_compiled_call_impl(\u001b[38;5;241m*\u001b[39margs, \u001b[38;5;241m*\u001b[39m\u001b[38;5;241m*\u001b[39mkwargs)  \u001b[38;5;66;03m# type: ignore[misc]\u001b[39;00m\n\u001b[0;32m   1738\u001b[0m \u001b[38;5;28;01melse\u001b[39;00m:\n\u001b[1;32m-> 1739\u001b[0m     \u001b[38;5;28;01mreturn\u001b[39;00m \u001b[38;5;28mself\u001b[39m\u001b[38;5;241m.\u001b[39m_call_impl(\u001b[38;5;241m*\u001b[39margs, \u001b[38;5;241m*\u001b[39m\u001b[38;5;241m*\u001b[39mkwargs)\n",
      "File \u001b[1;32md:\\studia\\priv\\Inpainting\\venv\\lib\\site-packages\\torch\\nn\\modules\\module.py:1750\u001b[0m, in \u001b[0;36mModule._call_impl\u001b[1;34m(self, *args, **kwargs)\u001b[0m\n\u001b[0;32m   1745\u001b[0m \u001b[38;5;66;03m# If we don't have any hooks, we want to skip the rest of the logic in\u001b[39;00m\n\u001b[0;32m   1746\u001b[0m \u001b[38;5;66;03m# this function, and just call forward.\u001b[39;00m\n\u001b[0;32m   1747\u001b[0m \u001b[38;5;28;01mif\u001b[39;00m \u001b[38;5;129;01mnot\u001b[39;00m (\u001b[38;5;28mself\u001b[39m\u001b[38;5;241m.\u001b[39m_backward_hooks \u001b[38;5;129;01mor\u001b[39;00m \u001b[38;5;28mself\u001b[39m\u001b[38;5;241m.\u001b[39m_backward_pre_hooks \u001b[38;5;129;01mor\u001b[39;00m \u001b[38;5;28mself\u001b[39m\u001b[38;5;241m.\u001b[39m_forward_hooks \u001b[38;5;129;01mor\u001b[39;00m \u001b[38;5;28mself\u001b[39m\u001b[38;5;241m.\u001b[39m_forward_pre_hooks\n\u001b[0;32m   1748\u001b[0m         \u001b[38;5;129;01mor\u001b[39;00m _global_backward_pre_hooks \u001b[38;5;129;01mor\u001b[39;00m _global_backward_hooks\n\u001b[0;32m   1749\u001b[0m         \u001b[38;5;129;01mor\u001b[39;00m _global_forward_hooks \u001b[38;5;129;01mor\u001b[39;00m _global_forward_pre_hooks):\n\u001b[1;32m-> 1750\u001b[0m     \u001b[38;5;28;01mreturn\u001b[39;00m forward_call(\u001b[38;5;241m*\u001b[39margs, \u001b[38;5;241m*\u001b[39m\u001b[38;5;241m*\u001b[39mkwargs)\n\u001b[0;32m   1752\u001b[0m result \u001b[38;5;241m=\u001b[39m \u001b[38;5;28;01mNone\u001b[39;00m\n\u001b[0;32m   1753\u001b[0m called_always_called_hooks \u001b[38;5;241m=\u001b[39m \u001b[38;5;28mset\u001b[39m()\n",
      "File \u001b[1;32md:\\studia\\priv\\Inpainting\\venv\\lib\\site-packages\\torch\\nn\\modules\\container.py:250\u001b[0m, in \u001b[0;36mSequential.forward\u001b[1;34m(self, input)\u001b[0m\n\u001b[0;32m    248\u001b[0m \u001b[38;5;28;01mdef\u001b[39;00m\u001b[38;5;250m \u001b[39m\u001b[38;5;21mforward\u001b[39m(\u001b[38;5;28mself\u001b[39m, \u001b[38;5;28minput\u001b[39m):\n\u001b[0;32m    249\u001b[0m     \u001b[38;5;28;01mfor\u001b[39;00m module \u001b[38;5;129;01min\u001b[39;00m \u001b[38;5;28mself\u001b[39m:\n\u001b[1;32m--> 250\u001b[0m         \u001b[38;5;28minput\u001b[39m \u001b[38;5;241m=\u001b[39m \u001b[43mmodule\u001b[49m\u001b[43m(\u001b[49m\u001b[38;5;28;43minput\u001b[39;49m\u001b[43m)\u001b[49m\n\u001b[0;32m    251\u001b[0m     \u001b[38;5;28;01mreturn\u001b[39;00m \u001b[38;5;28minput\u001b[39m\n",
      "File \u001b[1;32md:\\studia\\priv\\Inpainting\\venv\\lib\\site-packages\\torch\\nn\\modules\\module.py:1739\u001b[0m, in \u001b[0;36mModule._wrapped_call_impl\u001b[1;34m(self, *args, **kwargs)\u001b[0m\n\u001b[0;32m   1737\u001b[0m     \u001b[38;5;28;01mreturn\u001b[39;00m \u001b[38;5;28mself\u001b[39m\u001b[38;5;241m.\u001b[39m_compiled_call_impl(\u001b[38;5;241m*\u001b[39margs, \u001b[38;5;241m*\u001b[39m\u001b[38;5;241m*\u001b[39mkwargs)  \u001b[38;5;66;03m# type: ignore[misc]\u001b[39;00m\n\u001b[0;32m   1738\u001b[0m \u001b[38;5;28;01melse\u001b[39;00m:\n\u001b[1;32m-> 1739\u001b[0m     \u001b[38;5;28;01mreturn\u001b[39;00m \u001b[38;5;28mself\u001b[39m\u001b[38;5;241m.\u001b[39m_call_impl(\u001b[38;5;241m*\u001b[39margs, \u001b[38;5;241m*\u001b[39m\u001b[38;5;241m*\u001b[39mkwargs)\n",
      "File \u001b[1;32md:\\studia\\priv\\Inpainting\\venv\\lib\\site-packages\\torch\\nn\\modules\\module.py:1750\u001b[0m, in \u001b[0;36mModule._call_impl\u001b[1;34m(self, *args, **kwargs)\u001b[0m\n\u001b[0;32m   1745\u001b[0m \u001b[38;5;66;03m# If we don't have any hooks, we want to skip the rest of the logic in\u001b[39;00m\n\u001b[0;32m   1746\u001b[0m \u001b[38;5;66;03m# this function, and just call forward.\u001b[39;00m\n\u001b[0;32m   1747\u001b[0m \u001b[38;5;28;01mif\u001b[39;00m \u001b[38;5;129;01mnot\u001b[39;00m (\u001b[38;5;28mself\u001b[39m\u001b[38;5;241m.\u001b[39m_backward_hooks \u001b[38;5;129;01mor\u001b[39;00m \u001b[38;5;28mself\u001b[39m\u001b[38;5;241m.\u001b[39m_backward_pre_hooks \u001b[38;5;129;01mor\u001b[39;00m \u001b[38;5;28mself\u001b[39m\u001b[38;5;241m.\u001b[39m_forward_hooks \u001b[38;5;129;01mor\u001b[39;00m \u001b[38;5;28mself\u001b[39m\u001b[38;5;241m.\u001b[39m_forward_pre_hooks\n\u001b[0;32m   1748\u001b[0m         \u001b[38;5;129;01mor\u001b[39;00m _global_backward_pre_hooks \u001b[38;5;129;01mor\u001b[39;00m _global_backward_hooks\n\u001b[0;32m   1749\u001b[0m         \u001b[38;5;129;01mor\u001b[39;00m _global_forward_hooks \u001b[38;5;129;01mor\u001b[39;00m _global_forward_pre_hooks):\n\u001b[1;32m-> 1750\u001b[0m     \u001b[38;5;28;01mreturn\u001b[39;00m forward_call(\u001b[38;5;241m*\u001b[39margs, \u001b[38;5;241m*\u001b[39m\u001b[38;5;241m*\u001b[39mkwargs)\n\u001b[0;32m   1752\u001b[0m result \u001b[38;5;241m=\u001b[39m \u001b[38;5;28;01mNone\u001b[39;00m\n\u001b[0;32m   1753\u001b[0m called_always_called_hooks \u001b[38;5;241m=\u001b[39m \u001b[38;5;28mset\u001b[39m()\n",
      "File \u001b[1;32md:\\studia\\priv\\Inpainting\\venv\\lib\\site-packages\\torch\\nn\\modules\\linear.py:125\u001b[0m, in \u001b[0;36mLinear.forward\u001b[1;34m(self, input)\u001b[0m\n\u001b[0;32m    124\u001b[0m \u001b[38;5;28;01mdef\u001b[39;00m\u001b[38;5;250m \u001b[39m\u001b[38;5;21mforward\u001b[39m(\u001b[38;5;28mself\u001b[39m, \u001b[38;5;28minput\u001b[39m: Tensor) \u001b[38;5;241m-\u001b[39m\u001b[38;5;241m>\u001b[39m Tensor:\n\u001b[1;32m--> 125\u001b[0m     \u001b[38;5;28;01mreturn\u001b[39;00m \u001b[43mF\u001b[49m\u001b[38;5;241;43m.\u001b[39;49m\u001b[43mlinear\u001b[49m\u001b[43m(\u001b[49m\u001b[38;5;28;43minput\u001b[39;49m\u001b[43m,\u001b[49m\u001b[43m \u001b[49m\u001b[38;5;28;43mself\u001b[39;49m\u001b[38;5;241;43m.\u001b[39;49m\u001b[43mweight\u001b[49m\u001b[43m,\u001b[49m\u001b[43m \u001b[49m\u001b[38;5;28;43mself\u001b[39;49m\u001b[38;5;241;43m.\u001b[39;49m\u001b[43mbias\u001b[49m\u001b[43m)\u001b[49m\n",
      "\u001b[1;31mKeyboardInterrupt\u001b[0m: "
     ]
    }
   ],
   "source": [
    "byol = byol.to(device)\n",
    "fit_byol(\n",
    "    model=byol,\n",
    "    optimiser=optim.Adam(byol.parameters(), lr=1e-4),\n",
    "    dataloader=train_loader,\n",
    "    epochs=5,\n",
    "    device=device,\n",
    ")"
   ]
  }
 ],
 "metadata": {
  "kernelspec": {
   "display_name": "venv",
   "language": "python",
   "name": "python3"
  },
  "language_info": {
   "codemirror_mode": {
    "name": "ipython",
    "version": 3
   },
   "file_extension": ".py",
   "mimetype": "text/x-python",
   "name": "python",
   "nbconvert_exporter": "python",
   "pygments_lexer": "ipython3",
   "version": "3.10.11"
  }
 },
 "nbformat": 4,
 "nbformat_minor": 5
}
