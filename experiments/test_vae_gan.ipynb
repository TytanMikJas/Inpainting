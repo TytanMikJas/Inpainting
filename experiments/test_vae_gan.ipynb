{
 "cells": [
  {
   "cell_type": "code",
   "execution_count": 1,
   "id": "6b2cbe6b",
   "metadata": {},
   "outputs": [],
   "source": [
    "import torch\n",
    "import torch.nn as nn\n",
    "import torch.nn.functional as F\n",
    "from typing import Tuple\n",
    "from src.models.vae.vae import VAE\n",
    "from src.scripts.etl_process.ETLProcessor import ETLProcessor\n",
    "from matplotlib import pyplot as plt"
   ]
  },
  {
   "cell_type": "code",
   "execution_count": null,
   "id": "0f1c1225",
   "metadata": {},
   "outputs": [],
   "source": [
    "class Discriminator(nn.Module):\n",
    "    def __init__(self, input_dim: int = 3):\n",
    "        super(Discriminator, self).__init__()\n",
    "        self.features = nn.Sequential(\n",
    "            nn.Conv2d(input_dim, 32, kernel_size=5, stride=1, padding=2),\n",
    "            nn.ReLU(),\n",
    "\n",
    "            nn.Conv2d(32, 128, kernel_size=5, stride=2, padding=2),\n",
    "            nn.BatchNorm2d(128),\n",
    "            nn.ReLU(),\n",
    "\n",
    "            nn.Conv2d(128, 256, kernel_size=5, stride=2, padding=2),\n",
    "            nn.BatchNorm2d(256),\n",
    "            nn.ReLU(),\n",
    "\n",
    "            nn.Conv2d(256, 256, kernel_size=5, stride=2, padding=2),\n",
    "            nn.BatchNorm2d(256),\n",
    "            nn.ReLU()\n",
    "        )\n",
    "\n",
    "        self.flatten = nn.Flatten()\n",
    "\n",
    "        self.fc_layers = nn.Sequential(\n",
    "            nn.Linear(256 * 2 * 2, 512),  \n",
    "            nn.BatchNorm1d(512),\n",
    "            nn.ReLU(),\n",
    "            nn.Linear(512, 1),\n",
    "            nn.Sigmoid(),\n",
    "        )\n",
    "\n",
    "    def forward(self, x):\n",
    "        x = self.features(x)\n",
    "        x = self.flatten(x)\n",
    "        out = self.fc_layers(x)\n",
    "        return out\n",
    "\n",
    "\n",
    "class VAEGAN(nn.Module):\n",
    "    def __init__(\n",
    "        self,\n",
    "        input_dim: int,\n",
    "        hidden_dim: int,\n",
    "        residual_hiddens: int,\n",
    "        num_residual_layers: int,\n",
    "        latent_dim: int,\n",
    "        device: str\n",
    "    ):\n",
    "        super(VAEGAN, self).__init__()        \n",
    "        self.device = device\n",
    "        self.vae = VAE(\n",
    "            input_dim=input_dim,\n",
    "            hidden_dim=hidden_dim,\n",
    "            residual_hiddens=residual_hiddens,\n",
    "            num_residual_layers=num_residual_layers,\n",
    "            latent_dim=latent_dim,\n",
    "            device=device,\n",
    "        )\n",
    "        \n",
    "        self.discriminator = Discriminator(\n",
    "            input_dim=input_dim\n",
    "        )\n",
    "    def forward(self, x: torch.Tensor) -> dict:\n",
    "        x_recon = self.vae(x)\n",
    "        \n",
    "        d_real = self.discriminator(x)\n",
    "        d_fake = self.discriminator(x_recon)\n",
    "\n",
    "        return {\n",
    "            \"recon\": x_recon,\n",
    "            \"mu\": mu,\n",
    "            \"logvar\": logvar,\n",
    "            \"d_real\": d_real,\n",
    "            \"d_fake\": d_fake,\n",
    "        }\n",
    "\n",
    "    def loss_function(self, x: torch.Tensor, recon: torch.Tensor, mu: torch.Tensor, logvar: torch.Tensor) -> torch.Tensor:\n",
    "        recon_loss = F.binary_cross_entropy(recon, x, reduction='sum')\n",
    "        kl_loss = -0.5 * torch.sum(1 + logvar - mu.pow(2) - logvar.exp())\n",
    "        return recon_loss + kl_loss"
   ]
  },
  {
   "cell_type": "code",
   "execution_count": null,
   "id": "ae068160",
   "metadata": {},
   "outputs": [],
   "source": [
    "\n",
    "torch.save(VAE)"
   ]
  },
  {
   "cell_type": "code",
   "execution_count": 3,
   "id": "d11a2ebc",
   "metadata": {},
   "outputs": [],
   "source": [
    "vae = VAE(\n",
    "    input_dim=3,\n",
    "    hidden_dim=128,\n",
    "    residual_hiddens=64,\n",
    "    num_residual_layers=2,\n",
    "    latent_dim=256,\n",
    "    device='cpu',\n",
    ")"
   ]
  },
  {
   "cell_type": "code",
   "execution_count": 4,
   "id": "512f2b3a",
   "metadata": {},
   "outputs": [
    {
     "name": "stdout",
     "output_type": "stream",
     "text": [
      "[INFO] Dataset 'mahmudulhaqueshawon/cat-image' already exists at ../data/raw_data, skipping copy.\n"
     ]
    }
   ],
   "source": [
    "etl = ETLProcessor(\n",
    "    kaggle_dataset=\"mahmudulhaqueshawon/cat-image\",\n",
    "    raw_dir=\"../data/raw_data\",\n",
    "    split_dir=\"../data/data_splits\",\n",
    ")\n",
    "train_loader, val_loader, test_loader = etl.process()"
   ]
  },
  {
   "cell_type": "code",
   "execution_count": 5,
   "id": "8b9c1f59",
   "metadata": {},
   "outputs": [
    {
     "name": "stdout",
     "output_type": "stream",
     "text": [
      "tensor(0.3038, grad_fn=<MseLossBackward0>)\n",
      "tensor(0.3025, grad_fn=<MseLossBackward0>)\n",
      "tensor(0.3025, grad_fn=<MseLossBackward0>)\n",
      "tensor(0.3147, grad_fn=<MseLossBackward0>)\n",
      "tensor(0.3021, grad_fn=<MseLossBackward0>)\n",
      "tensor(0.2844, grad_fn=<MseLossBackward0>)\n",
      "tensor(0.2906, grad_fn=<MseLossBackward0>)\n",
      "tensor(0.2855, grad_fn=<MseLossBackward0>)\n",
      "tensor(0.2936, grad_fn=<MseLossBackward0>)\n",
      "tensor(0.2955, grad_fn=<MseLossBackward0>)\n"
     ]
    }
   ],
   "source": [
    "vae = VAE(\n",
    "    input_dim=3,\n",
    "    hidden_dim=128,\n",
    "    residual_hiddens=64,\n",
    "    num_residual_layers=2,\n",
    "    latent_dim=256,\n",
    "    device='cpu',\n",
    ")\n",
    "loss_fn = torch.nn.MSELoss(reduction='mean')\n",
    "optimizer = torch.optim.Adam(params=vae.parameters())\n",
    "\n",
    "for i in range(10):\n",
    "    imgs = next(iter(train_loader))[0]\n",
    "    recons = vae(imgs)['recon']\n",
    "    optimizer.zero_grad()\n",
    "    loss = loss_fn(imgs, recons)\n",
    "    print(loss)\n",
    "    optimizer.step()\n",
    "    "
   ]
  },
  {
   "cell_type": "code",
   "execution_count": 6,
   "id": "a3928702",
   "metadata": {},
   "outputs": [
    {
     "name": "stderr",
     "output_type": "stream",
     "text": [
      "Clipping input data to the valid range for imshow with RGB data ([0..1] for floats or [0..255] for integers). Got range [-1.0..1.0].\n"
     ]
    },
    {
     "data": {
      "image/png": "[encoded data removed]",
      "text/plain": [
       "<Figure size 640x480 with 1 Axes>"
      ]
     },
     "metadata": {},
     "output_type": "display_data"
    },
    {
     "name": "stderr",
     "output_type": "stream",
     "text": [
      "Clipping input data to the valid range for imshow with RGB data ([0..1] for floats or [0..255] for integers). Got range [-0.40730888..0.3705617].\n"
     ]
    },
    {
     "data": {
      "image/png": "[encoded data removed]",
      "text/plain": [
       "<Figure size 640x480 with 1 Axes>"
      ]
     },
     "metadata": {},
     "output_type": "display_data"
    }
   ],
   "source": [
    "img = next(iter(train_loader))[0][0]\n",
    "plt.imshow(img.permute(1,2,0))\n",
    "plt.show()\n",
    "recon = vae(img.unsqueeze(0))\n",
    "plt.imshow(recon['recon'].detach().squeeze(0).permute(1,2,0))\n",
    "plt.show()"
   ]
  },
  {
   "cell_type": "code",
   "execution_count": null,
   "id": "636cb016",
   "metadata": {},
   "outputs": [],
   "source": []
  }
 ],
 "metadata": {
  "kernelspec": {
   "display_name": "Python 3 (ipykernel)",
   "language": "python",
   "name": "python3"
  },
  "language_info": {
   "codemirror_mode": {
    "name": "ipython",
    "version": 3
   },
   "file_extension": ".py",
   "mimetype": "text/x-python",
   "name": "python",
   "nbconvert_exporter": "python",
   "pygments_lexer": "ipython3",
   "version": "3.12.10"
  }
 },
 "nbformat": 4,
 "nbformat_minor": 5
}
