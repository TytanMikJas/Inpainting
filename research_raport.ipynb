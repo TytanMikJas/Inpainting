{
 "cells": [
  {
   "cell_type": "markdown",
   "id": "dfd35244",
   "metadata": {},
   "source": [
    "# Efektywna rekonstrukcja zdjęć kotów za pomocą wariacyjnych autoenkoderów z pomocą Self Supervised Learning"
   ]
  },
  {
   "cell_type": "markdown",
   "id": "e75c90f7",
   "metadata": {},
   "source": [
    "## 1. Wprowadzenie"
   ]
  },
  {
   "cell_type": "markdown",
   "id": "952572f8",
   "metadata": {},
   "source": [
    "### 1.1 Opis problemu"
   ]
  },
  {
   "cell_type": "markdown",
   "id": "9b144cce",
   "metadata": {},
   "source": [
    "### 1.2 Opis danych wejściowych"
   ]
  },
  {
   "cell_type": "markdown",
   "id": "02a72d66",
   "metadata": {},
   "source": [
    "### 1.3 Opis danych wyjściowych"
   ]
  },
  {
   "cell_type": "markdown",
   "id": "66eb2155",
   "metadata": {},
   "source": [
    "### 1.4 Hipoteza badawcza"
   ]
  },
  {
   "cell_type": "markdown",
   "id": "39b812b6",
   "metadata": {},
   "source": [
    "## 2. Opis wybranych modeli oraz metod"
   ]
  },
  {
   "cell_type": "markdown",
   "id": "715c68ea",
   "metadata": {},
   "source": [
    "### 2.1 Wariacyjne autoenkodery"
   ]
  },
  {
   "cell_type": "markdown",
   "id": "ad759ffc",
   "metadata": {},
   "source": [
    "#### 2.1.1 VAE - Variational Autoencoder"
   ]
  },
  {
   "cell_type": "markdown",
   "id": "7431e527",
   "metadata": {},
   "source": [
    "#### 2.1.2 VQ-VAE - Vector Quantized Variational Autoencoder"
   ]
  },
  {
   "cell_type": "markdown",
   "id": "9392f755",
   "metadata": {},
   "source": [
    "#### 2.1.3 VAE + Tree VI - Variational Autoencoder with Tree Variational Inference"
   ]
  },
  {
   "cell_type": "markdown",
   "id": "44e5e8a6",
   "metadata": {},
   "source": [
    "#### 2.1.4 A-VAE / VAE-GAN  - Adversarial Variational Autoencoder"
   ]
  },
  {
   "cell_type": "markdown",
   "id": "a7ac3839",
   "metadata": {},
   "source": [
    "### 2.2 Self Supervised Learning"
   ]
  },
  {
   "cell_type": "markdown",
   "id": "ec45e3b9",
   "metadata": {},
   "source": [
    "#### 2.2.1 BYOL - Bootstrap Your Own Latent"
   ]
  },
  {
   "cell_type": "markdown",
   "id": "61fe00da",
   "metadata": {},
   "source": [
    "#### 2.2.2 SimCLR - Simple Framework for Contrastive Learning of Visual Representations"
   ]
  },
  {
   "cell_type": "markdown",
   "id": "50b81822",
   "metadata": {},
   "source": [
    "#### 2.2.3 Barlow Twins"
   ]
  },
  {
   "cell_type": "markdown",
   "id": "2fd1a1c6",
   "metadata": {},
   "source": [
    "## 3. Opis eksperymentów"
   ]
  },
  {
   "cell_type": "markdown",
   "id": "afe04444",
   "metadata": {},
   "source": [
    "### 3.1 Jak przygotowano zbiór danych?"
   ]
  },
  {
   "cell_type": "markdown",
   "id": "4206922a",
   "metadata": {},
   "source": [
    "### 3.2 Jakie metryki będą stosowane?"
   ]
  },
  {
   "cell_type": "markdown",
   "id": "7165726a",
   "metadata": {},
   "source": [
    "### 3.3 Badane hiperparametry modeli i metod"
   ]
  },
  {
   "cell_type": "markdown",
   "id": "6855da00",
   "metadata": {},
   "source": [
    "## 4. Wyniki eksperymentów"
   ]
  },
  {
   "cell_type": "markdown",
   "id": "8742f909",
   "metadata": {},
   "source": [
    "### 4.1 Część wariacyjnych autoenkoderów\n"
   ]
  },
  {
   "cell_type": "markdown",
   "id": "56918812",
   "metadata": {},
   "source": [
    "#### 4.1.1 Baseline - VAE"
   ]
  },
  {
   "cell_type": "markdown",
   "id": "62b54f25",
   "metadata": {},
   "source": [
    "#### 4.1.2 Wyniki VQ-VAE"
   ]
  },
  {
   "cell_type": "markdown",
   "id": "89bbd998",
   "metadata": {},
   "source": [
    "#### 4.1.3 Wyniki VAE + Tree VI"
   ]
  },
  {
   "cell_type": "markdown",
   "id": "2390bfc6",
   "metadata": {},
   "source": [
    "#### 4.1.4 Wyniki A-VAE / VAE-GAN"
   ]
  },
  {
   "cell_type": "markdown",
   "id": "d431b824",
   "metadata": {},
   "source": [
    "### 4.2 Część Self Supervised Learning"
   ]
  },
  {
   "cell_type": "markdown",
   "id": "4287f299",
   "metadata": {},
   "source": [
    "#### 4.2.1 Wyniki BYOL oraz BYOL + VAE"
   ]
  },
  {
   "cell_type": "markdown",
   "id": "be2c0625",
   "metadata": {},
   "source": [
    "#### 4.2.2 Wyniki Barlow Twins oraz Barlow Twins + VAE"
   ]
  },
  {
   "cell_type": "markdown",
   "id": "c7527ad0",
   "metadata": {},
   "source": [
    "#### 4.2.3 Wyniki SIM CLR oraz SIM CLR + VAE"
   ]
  },
  {
   "cell_type": "markdown",
   "id": "0970341f",
   "metadata": {},
   "source": [
    "## 5. Wnioski"
   ]
  },
  {
   "cell_type": "markdown",
   "id": "a3f28987",
   "metadata": {},
   "source": [
    "### 5.1 Podsumowanie wyników"
   ]
  },
  {
   "cell_type": "markdown",
   "id": "fc00f7bc",
   "metadata": {},
   "source": [
    "### 5.2 Analiza uzyskanych wyników w porównaniu z SOTA"
   ]
  }
 ],
 "metadata": {
  "language_info": {
   "name": "python"
  }
 },
 "nbformat": 4,
 "nbformat_minor": 5
}
